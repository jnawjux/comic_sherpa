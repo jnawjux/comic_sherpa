{
 "cells": [
  {
   "cell_type": "code",
   "execution_count": 1,
   "metadata": {},
   "outputs": [],
   "source": [
    "import pyspark\n",
    "import pyspark.sql.functions as F\n",
    "import shutil\n",
    "from batcave.scrape_and_clean import get_item_image, row_to_html_card\n",
    "from pyspark.sql.types import StringType, IntegerType"
   ]
  },
  {
   "cell_type": "code",
   "execution_count": 2,
   "metadata": {},
   "outputs": [],
   "source": [
    "spark = (pyspark.sql.SparkSession.builder\n",
    "    .master(\"local\")\n",
    "    .getOrCreate())"
   ]
  },
  {
   "cell_type": "code",
   "execution_count": 3,
   "metadata": {},
   "outputs": [],
   "source": [
    "all_reviews = spark.read.json('data/all_reviews_fixed_titles.json')"
   ]
  },
  {
   "cell_type": "markdown",
   "metadata": {},
   "source": [
    "### Getting thumbnail images for web interface\n",
    "Lucky for me, the Amazon review data I have been working with has links to the tumbnail images for each product.  I wrote a function using ```urllib``` to download those images locally for use later. I downloaded all of the top 1,000 most frequently rated movies (as these will be my initial basis I will be drawing from) and all of the covers for comic books to give it the full scope of options to pull from when recommending. "
   ]
  },
  {
   "cell_type": "code",
   "execution_count": 4,
   "metadata": {},
   "outputs": [],
   "source": [
    "top_movie_url_query = \"\"\"\n",
    "SELECT\n",
    "    DISTINCT asin\n",
    ",   title\n",
    ",   imUrl\n",
    ",   item_id\n",
    ",   count\n",
    "FROM\n",
    "    all_reviews\n",
    "WHERE \n",
    "    item_id LIKE \"%44\"\n",
    "ORDER BY \n",
    "    count DESC\n",
    "LIMIT 1000\n",
    "\"\"\""
   ]
  },
  {
   "cell_type": "code",
   "execution_count": 5,
   "metadata": {},
   "outputs": [],
   "source": [
    "all_reviews.createOrReplaceTempView('all_reviews')\n",
    "movie_image_urls = spark.sql(top_movie_url_query).toPandas()"
   ]
  },
  {
   "cell_type": "code",
   "execution_count": 6,
   "metadata": {},
   "outputs": [],
   "source": [
    "movie_missing_urls = movie_image_urls[movie_image_urls['imUrl'].isna()]\n",
    "movie_active_urls = movie_image_urls[movie_image_urls['imUrl'].isna() == False]"
   ]
  },
  {
   "cell_type": "code",
   "execution_count": 9,
   "metadata": {},
   "outputs": [],
   "source": [
    "movie_image_urls.to_csv('movies.csv')"
   ]
  },
  {
   "cell_type": "code",
   "execution_count": 10,
   "metadata": {},
   "outputs": [],
   "source": [
    "top_comic_url_query = f\"\"\"\n",
    "SELECT\n",
    "    DISTINCT asin\n",
    ",   imUrl\n",
    ",   count\n",
    ",   item_id\n",
    "FROM\n",
    "    all_reviews\n",
    "WHERE \n",
    "    item_id LIKE \"%22\"\n",
    "ORDER BY \n",
    "    count DESC\n",
    "\"\"\""
   ]
  },
  {
   "cell_type": "code",
   "execution_count": 11,
   "metadata": {},
   "outputs": [],
   "source": [
    "all_reviews.createOrReplaceTempView('all_reviews')\n",
    "comic_image_urls = spark.sql(top_comic_url_query).toPandas()"
   ]
  },
  {
   "cell_type": "code",
   "execution_count": 12,
   "metadata": {},
   "outputs": [],
   "source": [
    "comic_missing_urls = comic_image_urls[comic_image_urls['imUrl'].isna()]\n",
    "comic_active_urls = comic_image_urls[comic_image_urls['imUrl'].isna() == False]"
   ]
  },
  {
   "cell_type": "code",
   "execution_count": 13,
   "metadata": {},
   "outputs": [
    {
     "data": {
      "text/html": [
       "<div>\n",
       "<style scoped>\n",
       "    .dataframe tbody tr th:only-of-type {\n",
       "        vertical-align: middle;\n",
       "    }\n",
       "\n",
       "    .dataframe tbody tr th {\n",
       "        vertical-align: top;\n",
       "    }\n",
       "\n",
       "    .dataframe thead th {\n",
       "        text-align: right;\n",
       "    }\n",
       "</style>\n",
       "<table border=\"1\" class=\"dataframe\">\n",
       "  <thead>\n",
       "    <tr style=\"text-align: right;\">\n",
       "      <th></th>\n",
       "      <th>asin</th>\n",
       "      <th>imUrl</th>\n",
       "      <th>count</th>\n",
       "      <th>item_id</th>\n",
       "    </tr>\n",
       "  </thead>\n",
       "  <tbody>\n",
       "    <tr>\n",
       "      <th>0</th>\n",
       "      <td>1607060760</td>\n",
       "      <td>http://ecx.images-amazon.com/images/I/51m-0BhI...</td>\n",
       "      <td>314</td>\n",
       "      <td>501122</td>\n",
       "    </tr>\n",
       "    <tr>\n",
       "      <th>1</th>\n",
       "      <td>1607065967</td>\n",
       "      <td>http://ecx.images-amazon.com/images/I/51CnU-l0...</td>\n",
       "      <td>193</td>\n",
       "      <td>205422</td>\n",
       "    </tr>\n",
       "    <tr>\n",
       "      <th>2</th>\n",
       "      <td>1401220347</td>\n",
       "      <td>http://ecx.images-amazon.com/images/I/81tnMIDL...</td>\n",
       "      <td>137</td>\n",
       "      <td>279922</td>\n",
       "    </tr>\n",
       "    <tr>\n",
       "      <th>3</th>\n",
       "      <td>1401235417</td>\n",
       "      <td>http://ecx.images-amazon.com/images/I/81%2B3jj...</td>\n",
       "      <td>127</td>\n",
       "      <td>303922</td>\n",
       "    </tr>\n",
       "    <tr>\n",
       "      <th>4</th>\n",
       "      <td>1607066017</td>\n",
       "      <td>http://ecx.images-amazon.com/images/I/515jeiad...</td>\n",
       "      <td>120</td>\n",
       "      <td>478622</td>\n",
       "    </tr>\n",
       "  </tbody>\n",
       "</table>\n",
       "</div>"
      ],
      "text/plain": [
       "         asin                                              imUrl  count  \\\n",
       "0  1607060760  http://ecx.images-amazon.com/images/I/51m-0BhI...    314   \n",
       "1  1607065967  http://ecx.images-amazon.com/images/I/51CnU-l0...    193   \n",
       "2  1401220347  http://ecx.images-amazon.com/images/I/81tnMIDL...    137   \n",
       "3  1401235417  http://ecx.images-amazon.com/images/I/81%2B3jj...    127   \n",
       "4  1607066017  http://ecx.images-amazon.com/images/I/515jeiad...    120   \n",
       "\n",
       "  item_id  \n",
       "0  501122  \n",
       "1  205422  \n",
       "2  279922  \n",
       "3  303922  \n",
       "4  478622  "
      ]
     },
     "execution_count": 13,
     "metadata": {},
     "output_type": "execute_result"
    }
   ],
   "source": [
    "comic_active_urls.head()"
   ]
  },
  {
   "cell_type": "code",
   "execution_count": 32,
   "metadata": {},
   "outputs": [],
   "source": [
    "get_item_image(comic_active_urls, 'images/comics/')"
   ]
  },
  {
   "cell_type": "markdown",
   "metadata": {},
   "source": [
    "Since I just needed to manually find covers for these last two, I searched for them by ASIN on Amazon and downloaded to the same directory:"
   ]
  },
  {
   "cell_type": "code",
   "execution_count": 33,
   "metadata": {},
   "outputs": [
    {
     "data": {
      "text/html": [
       "<div>\n",
       "<style scoped>\n",
       "    .dataframe tbody tr th:only-of-type {\n",
       "        vertical-align: middle;\n",
       "    }\n",
       "\n",
       "    .dataframe tbody tr th {\n",
       "        vertical-align: top;\n",
       "    }\n",
       "\n",
       "    .dataframe thead th {\n",
       "        text-align: right;\n",
       "    }\n",
       "</style>\n",
       "<table border=\"1\" class=\"dataframe\">\n",
       "  <thead>\n",
       "    <tr style=\"text-align: right;\">\n",
       "      <th></th>\n",
       "      <th>asin</th>\n",
       "      <th>imUrl</th>\n",
       "      <th>count</th>\n",
       "      <th>item_id</th>\n",
       "    </tr>\n",
       "  </thead>\n",
       "  <tbody>\n",
       "    <tr>\n",
       "      <th>225</th>\n",
       "      <td>0785142592</td>\n",
       "      <td>None</td>\n",
       "      <td>18</td>\n",
       "      <td>73222</td>\n",
       "    </tr>\n",
       "    <tr>\n",
       "      <th>958</th>\n",
       "      <td>0785148744</td>\n",
       "      <td>None</td>\n",
       "      <td>7</td>\n",
       "      <td>325822</td>\n",
       "    </tr>\n",
       "  </tbody>\n",
       "</table>\n",
       "</div>"
      ],
      "text/plain": [
       "           asin imUrl  count item_id\n",
       "225  0785142592  None     18   73222\n",
       "958  0785148744  None      7  325822"
      ]
     },
     "execution_count": 33,
     "metadata": {},
     "output_type": "execute_result"
    }
   ],
   "source": [
    "comic_missing_urls"
   ]
  },
  {
   "cell_type": "markdown",
   "metadata": {},
   "source": [
    "### Selecting movies to use\n",
    "My goal for the web app interface is to offer a diverse selection of movies for users to select to help gather a recommendation.  To best solve this, I need to manually review this set of most reviewed movies and create a subsection to give a good mix of genres. I want to limit the amount of movies that are from comic source material as to avoid the really obvious connections (eg. You love Iron Man and get a recommendation for Iron Man, far too obvious a leap). "
   ]
  },
  {
   "cell_type": "markdown",
   "metadata": {},
   "source": [
    "* Remove any titles I don't want to feature\n",
    "* Do further name cleaning\n",
    "* Figure out way to get featured images for both\n",
    "* Hulk vs?, Iron Man: The Art of Iron Man 2\n",
    "* Bad name features still in place: (DVD), (Widescreen Edition) - anything in parenthesis! [Blu-ray]"
   ]
  },
  {
   "cell_type": "markdown",
   "metadata": {},
   "source": [
    "After review, I chose these 60 movies to make up my application, ranging in genre and age, but all not based on any preceding comic book material:\n",
    "<br>\n",
    "<em>Note: these were the indexs from my original exploration, the actual results may vary</em>"
   ]
  },
  {
   "cell_type": "code",
   "execution_count": 82,
   "metadata": {},
   "outputs": [],
   "source": [
    "movies = [5, 23, 35, 40, 51, 58, 74, 80, 82, 94, 95, 96, 106, 107, 114, 124, 133, 151, 167, 169, 171,\n",
    "          175, 201, 209, 215, 228, 233, 244, 251, 258, 275, 287, 295, 297, 320, 322, 328, 334, 359, 360,\n",
    "          374, 375, 378, 382, 388, 424, 427, 459, 463, 465, 468, 496, 497, 516, 547, 693, 708, 736, 49,\n",
    "          33]"
   ]
  },
  {
   "cell_type": "code",
   "execution_count": 83,
   "metadata": {},
   "outputs": [
    {
     "data": {
      "text/plain": [
       "60"
      ]
     },
     "execution_count": 83,
     "metadata": {},
     "output_type": "execute_result"
    }
   ],
   "source": [
    "len(movies)"
   ]
  },
  {
   "cell_type": "code",
   "execution_count": 91,
   "metadata": {},
   "outputs": [],
   "source": [
    "# Index does change with every load, so these results might not show up the same\n",
    "select_movies = movie_image_urls.loc[movies].sort_values('asin')"
   ]
  },
  {
   "cell_type": "code",
   "execution_count": 90,
   "metadata": {},
   "outputs": [],
   "source": [
    "get_item_image(select_movies, 'final-movies/')"
   ]
  },
  {
   "cell_type": "code",
   "execution_count": 89,
   "metadata": {},
   "outputs": [],
   "source": [
    "def move(src, dest):\n",
    "    shutil.move(src, dest)"
   ]
  },
  {
   "cell_type": "code",
   "execution_count": 32,
   "metadata": {},
   "outputs": [],
   "source": [
    "# Adjust to match directory you're working in\n",
    "for index, item in movie_image_urls.loc[movies].iterrows():\n",
    "    try:\n",
    "        file = item['asin'] + item['imUrl'][-4:]\n",
    "        src =  '~/Documents/intocomics/images/movies/' + file\n",
    "        dest = '~/Documents/intocomics/images/final_movies/' + file\n",
    "        move(src, dest)\n",
    "    except:\n",
    "        continue"
   ]
  },
  {
   "cell_type": "markdown",
   "metadata": {},
   "source": [
    "### Web design helper function\n",
    "This will give me 15 nice rows of content for my webpage. In a different format, using something like this would be best to link a database to the data and have it populate my page.  Unfortunately, I don't have the time for that level of web development, but I can write a function to make the individual card images I need with Python! The funciton used below takes in the dataframe and returns a text document with all the html needed:"
   ]
  },
  {
   "cell_type": "code",
   "execution_count": 10,
   "metadata": {},
   "outputs": [],
   "source": [
    "with open('all_movie_cards.html', 'w+') as f:\n",
    "    for movie in movies:\n",
    "        f.write(row_to_html_card(movie_image_urls.loc[movie]))"
   ]
  }
 ],
 "metadata": {
  "kernelspec": {
   "display_name": "Python 3",
   "language": "python",
   "name": "python3"
  },
  "language_info": {
   "codemirror_mode": {
    "name": "ipython",
    "version": 3
   },
   "file_extension": ".py",
   "mimetype": "text/x-python",
   "name": "python",
   "nbconvert_exporter": "python",
   "pygments_lexer": "ipython3",
   "version": "3.6.6"
  }
 },
 "nbformat": 4,
 "nbformat_minor": 2
}
