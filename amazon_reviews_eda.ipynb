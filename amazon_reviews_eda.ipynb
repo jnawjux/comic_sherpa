{
 "cells": [
  {
   "cell_type": "code",
   "execution_count": 1,
   "metadata": {},
   "outputs": [],
   "source": [
    "import pandas as pd\n",
    "import csv\n",
    "import re\n",
    "\n",
    "import pyspark\n",
    "from pyspark.sql.functions import col\n",
    "from pyspark.sql import SQLContext\n",
    "import databricks.koalas as ks\n",
    "\n",
    "from batcave.scrape_and_clean import get_amazon_list_ids, download_amazon_review_files"
   ]
  },
  {
   "cell_type": "markdown",
   "metadata": {},
   "source": [
    "### Importing Amazon reviews through Spark"
   ]
  },
  {
   "cell_type": "markdown",
   "metadata": {},
   "source": [
    "These are complete datasets from a project by [Julien McAuley.](http://jmcauley.ucsd.edu/data/amazon/links.html) "
   ]
  },
  {
   "cell_type": "code",
   "execution_count": 2,
   "metadata": {},
   "outputs": [],
   "source": [
    "spark = (pyspark.sql.SparkSession.builder\n",
    "    .master(\"local\")\n",
    "    .getOrCreate())"
   ]
  },
  {
   "cell_type": "markdown",
   "metadata": {},
   "source": [
    "<em>Below is a helper function to download all of the files directly to the data folder,only run if you have the space available and have not seperately downloaded the files mentioned in data/README.md</em>"
   ]
  },
  {
   "cell_type": "code",
   "execution_count": 23,
   "metadata": {},
   "outputs": [],
   "source": [
    "# download_amazon_review_files()"
   ]
  },
  {
   "cell_type": "code",
   "execution_count": 3,
   "metadata": {},
   "outputs": [],
   "source": [
    "movies_df = ks.read_json('data/reviews_Movies_and_TV.json')"
   ]
  },
  {
   "cell_type": "code",
   "execution_count": null,
   "metadata": {},
   "outputs": [],
   "source": [
    "movies_df.head()"
   ]
  },
  {
   "cell_type": "code",
   "execution_count": 4,
   "metadata": {},
   "outputs": [],
   "source": [
    "movies_meta = ks.read_json('data/meta_Movies_and_TV.json')"
   ]
  },
  {
   "cell_type": "code",
   "execution_count": 5,
   "metadata": {},
   "outputs": [],
   "source": [
    "books_df = ks.read_json('data/reviews_Books.json')"
   ]
  },
  {
   "cell_type": "code",
   "execution_count": 6,
   "metadata": {},
   "outputs": [],
   "source": [
    "books_meta = ks.read_json('data/meta_Books.json')"
   ]
  },
  {
   "cell_type": "markdown",
   "metadata": {},
   "source": [
    "### Scraping Amazon for ASIN starting point\n",
    "To help narrow my results, I started by scraping the top 100 DC & Marvel Graphic Novels for their ASIN, so that I could start with an understanding of where to find the reviews I want to target. "
   ]
  },
  {
   "cell_type": "code",
   "execution_count": 10,
   "metadata": {},
   "outputs": [],
   "source": [
    "#DC Comics - top ID's\n",
    "dc_url_1 = \"https://www.amazon.com/gp/bestsellers/books/193766/ref=pd_zg_hrsr_books\"\n",
    "dc_url_2 = \"https://www.amazon.com/Best-Sellers-Books-DC-Comics-Graphic-Novels/zgbs/books/193766/ref=zg_bs_pg_2?_encoding=UTF8&pg=2\"\n",
    "dc_ids_1 = get_amazon_list_ids(dc_url_1)\n",
    "dc_ids_2 = get_amazon_list_ids(dc_url_2)"
   ]
  },
  {
   "cell_type": "code",
   "execution_count": 9,
   "metadata": {},
   "outputs": [],
   "source": [
    "# Marvel Comics - top ID's\n",
    "marvel_url_1 = \"https://www.amazon.com/gp/bestsellers/books/4400/ref=pd_zg_hrsr_books\"\n",
    "marvel_url_2 = \"https://www.amazon.com/Best-Sellers-Books-Marvel-Comics-Graphic-Novels/zgbs/books/4400/ref=zg_bs_pg_2?_encoding=UTF8&pg=2\"\n",
    "marvel_ids_1 = get_amazon_list_ids(marvel_url_1)\n",
    "marvel_ids_2 = get_amazon_list_ids(marvel_url_2)"
   ]
  },
  {
   "cell_type": "code",
   "execution_count": 11,
   "metadata": {},
   "outputs": [],
   "source": [
    "all_ids = dc_ids_1 + dc_ids_2 + marvel_ids_1 + marvel_ids_2"
   ]
  },
  {
   "cell_type": "markdown",
   "metadata": {},
   "source": [
    "Saving these id's temporarily to a csv, to preserve and make for easier refreshing of this notebook without re-scraping."
   ]
  },
  {
   "cell_type": "code",
   "execution_count": null,
   "metadata": {},
   "outputs": [],
   "source": [
    "with open('data/top_dc_marvel_comics.csv', 'w') as f:\n",
    "    wr = csv.writer(f)\n",
    "    wr.writerow(all_ids)"
   ]
  },
  {
   "cell_type": "markdown",
   "metadata": {},
   "source": [
    "# Getting the right reviews\n",
    "My thought process for getting down to the reviews of those who have scored both comic books and movies is as follows:\n",
    "* Find comic book ASIN's in the metadata dataset through exploration and looking at related items. Call it \"all_comic_ids\".\n",
    "* Find any reviews for \"all_comics_ids\" in the book reviews dataset. This subset is \"comic_reviews\"\n",
    "* Take reviewer ids from \"comic_reviews\" and find them in movie/tv reviews dataset. This subset is \"movie_reviews\"\n",
    "* Take the reviewer ids from \"movie_reviews\" and filter out any missing from \"comic_reviews\", calling this subset \"comic_reviews_both\""
   ]
  },
  {
   "cell_type": "markdown",
   "metadata": {},
   "source": [
    "### 1. Finding ASINs\n",
    "After reading back in list of ASINs, finding them in metadata and reviewing the data. I am loading it out to a Pandas dataframe for now as it will most likely be smaller, so faster to work with in this way:"
   ]
  },
  {
   "cell_type": "code",
   "execution_count": 7,
   "metadata": {},
   "outputs": [],
   "source": [
    "with open(\"data/top_dc_marvel_comics.csv\") as f:\n",
    "    reader = csv.reader(f)\n",
    "    all_ids = []\n",
    "    for row in reader:\n",
    "        all_ids.append(row)"
   ]
  },
  {
   "cell_type": "code",
   "execution_count": 8,
   "metadata": {},
   "outputs": [],
   "source": [
    "top_comic_meta = books_meta.filter(col(\"asin\").isin(all_ids[0])).toPandas()"
   ]
  },
  {
   "cell_type": "code",
   "execution_count": 9,
   "metadata": {},
   "outputs": [
    {
     "data": {
      "text/plain": [
       "(16, 10)"
      ]
     },
     "execution_count": 9,
     "metadata": {},
     "output_type": "execute_result"
    }
   ],
   "source": [
    "top_comic_meta.shape"
   ]
  },
  {
   "cell_type": "code",
   "execution_count": 15,
   "metadata": {},
   "outputs": [
    {
     "data": {
      "text/html": [
       "<div>\n",
       "<style scoped>\n",
       "    .dataframe tbody tr th:only-of-type {\n",
       "        vertical-align: middle;\n",
       "    }\n",
       "\n",
       "    .dataframe tbody tr th {\n",
       "        vertical-align: top;\n",
       "    }\n",
       "\n",
       "    .dataframe thead th {\n",
       "        text-align: right;\n",
       "    }\n",
       "</style>\n",
       "<table border=\"1\" class=\"dataframe\">\n",
       "  <thead>\n",
       "    <tr style=\"text-align: right;\">\n",
       "      <th></th>\n",
       "      <th>_corrupt_record</th>\n",
       "      <th>asin</th>\n",
       "      <th>brand</th>\n",
       "      <th>categories</th>\n",
       "      <th>description</th>\n",
       "      <th>imUrl</th>\n",
       "      <th>price</th>\n",
       "      <th>related</th>\n",
       "      <th>salesRank</th>\n",
       "      <th>title</th>\n",
       "    </tr>\n",
       "  </thead>\n",
       "  <tbody>\n",
       "    <tr>\n",
       "      <th>0</th>\n",
       "      <td>None</td>\n",
       "      <td>014038572X</td>\n",
       "      <td>None</td>\n",
       "      <td>[[Books]]</td>\n",
       "      <td>According to Ponyboy, there are two kinds of p...</td>\n",
       "      <td>http://ecx.images-amazon.com/images/I/61Xc9GWp...</td>\n",
       "      <td>4.99</td>\n",
       "      <td>([0078205409, 0440932211, 0547534264, 01403896...</td>\n",
       "      <td>(None, 3106, None, None, None, None, None, Non...</td>\n",
       "      <td>The Outsiders</td>\n",
       "    </tr>\n",
       "    <tr>\n",
       "      <th>1</th>\n",
       "      <td>None</td>\n",
       "      <td>0785117210</td>\n",
       "      <td>None</td>\n",
       "      <td>[[Books]]</td>\n",
       "      <td>None</td>\n",
       "      <td>http://ecx.images-amazon.com/images/I/51upWJjH...</td>\n",
       "      <td>10.49</td>\n",
       "      <td>([0785123202, 0785157050, 078512179X, 07851329...</td>\n",
       "      <td>(None, 19065, None, None, None, None, None, No...</td>\n",
       "      <td>House of M</td>\n",
       "    </tr>\n",
       "    <tr>\n",
       "      <th>2</th>\n",
       "      <td>None</td>\n",
       "      <td>0785121056</td>\n",
       "      <td>None</td>\n",
       "      <td>[[Books]]</td>\n",
       "      <td>None</td>\n",
       "      <td>http://ecx.images-amazon.com/images/I/61iW2SXT...</td>\n",
       "      <td>11.49</td>\n",
       "      <td>([0785131272, 0785131280, 0785166432, 07851565...</td>\n",
       "      <td>(None, 95214, None, None, None, None, None, No...</td>\n",
       "      <td>Infinity War</td>\n",
       "    </tr>\n",
       "    <tr>\n",
       "      <th>3</th>\n",
       "      <td>None</td>\n",
       "      <td>140122427X</td>\n",
       "      <td>None</td>\n",
       "      <td>[[Books]]</td>\n",
       "      <td>None</td>\n",
       "      <td>http://ecx.images-amazon.com/images/I/81g0BQDw...</td>\n",
       "      <td>20.00</td>\n",
       "      <td>([1401228798, 1401230970, 1401233902, 14012349...</td>\n",
       "      <td>(None, 793, None, None, None, None, None, None...</td>\n",
       "      <td>Fables: The Deluxe Edition Book One</td>\n",
       "    </tr>\n",
       "    <tr>\n",
       "      <th>4</th>\n",
       "      <td>None</td>\n",
       "      <td>1401229697</td>\n",
       "      <td>None</td>\n",
       "      <td>[[Books]]</td>\n",
       "      <td>Starred Review. A stunning, moving story about...</td>\n",
       "      <td>http://ecx.images-amazon.com/images/I/71%2BCEZ...</td>\n",
       "      <td>11.01</td>\n",
       "      <td>([1935429000, 160309038X, 1603090746, 17704604...</td>\n",
       "      <td>(None, 6414, None, None, None, None, None, Non...</td>\n",
       "      <td>Daytripper</td>\n",
       "    </tr>\n",
       "    <tr>\n",
       "      <th>5</th>\n",
       "      <td>None</td>\n",
       "      <td>1401230067</td>\n",
       "      <td>None</td>\n",
       "      <td>[[Books]]</td>\n",
       "      <td>None</td>\n",
       "      <td>http://ecx.images-amazon.com/images/I/81IQpmRp...</td>\n",
       "      <td>11.49</td>\n",
       "      <td>([1401233023, 1401235190, 1401236901, 14012380...</td>\n",
       "      <td>(None, 11659, None, None, None, None, None, No...</td>\n",
       "      <td>John Constantine, Hellblazer, Vol. 1: Original...</td>\n",
       "    </tr>\n",
       "    <tr>\n",
       "      <th>6</th>\n",
       "      <td>None</td>\n",
       "      <td>1401233791</td>\n",
       "      <td>None</td>\n",
       "      <td>[[Books]]</td>\n",
       "      <td>Dennis O'Neil is the influential writer of com...</td>\n",
       "      <td>http://ecx.images-amazon.com/images/I/81hLFMDQ...</td>\n",
       "      <td>16.09</td>\n",
       "      <td>([1401235360, 1401237215, 1401232744, 14012338...</td>\n",
       "      <td>(None, 9262, None, None, None, None, None, Non...</td>\n",
       "      <td>Batman: Knightfall, Vol. 1</td>\n",
       "    </tr>\n",
       "    <tr>\n",
       "      <th>7</th>\n",
       "      <td>None</td>\n",
       "      <td>1401233384</td>\n",
       "      <td>None</td>\n",
       "      <td>[[Books]]</td>\n",
       "      <td>Geoff Johns, a Detroit native, brings a Hollyw...</td>\n",
       "      <td>http://ecx.images-amazon.com/images/I/81LZ1mW0...</td>\n",
       "      <td>10.00</td>\n",
       "      <td>([1401234054, 1401230016, 1401234488, 14012343...</td>\n",
       "      <td>(None, 21061, None, None, None, None, None, No...</td>\n",
       "      <td>Flashpoint</td>\n",
       "    </tr>\n",
       "    <tr>\n",
       "      <th>8</th>\n",
       "      <td>None</td>\n",
       "      <td>1401237789</td>\n",
       "      <td>None</td>\n",
       "      <td>[[Books]]</td>\n",
       "      <td>Praise for Scott Snyder'sBatman: Court of Owls...</td>\n",
       "      <td>http://ecx.images-amazon.com/images/I/91DDC3%2...</td>\n",
       "      <td>9.36</td>\n",
       "      <td>([1401235425, 1401246028, 1401242529, 14012402...</td>\n",
       "      <td>(None, 1361, None, None, None, None, None, Non...</td>\n",
       "      <td>Batman Vol. 2: The City of Owls (The New 52)</td>\n",
       "    </tr>\n",
       "    <tr>\n",
       "      <th>9</th>\n",
       "      <td>None</td>\n",
       "      <td>1401242383</td>\n",
       "      <td>None</td>\n",
       "      <td>[[Books]]</td>\n",
       "      <td>Warren Ellis is a prolific writer whose works ...</td>\n",
       "      <td>http://ecx.images-amazon.com/images/I/81adYxKE...</td>\n",
       "      <td>47.73</td>\n",
       "      <td>([1401238998, 1401242758, 1616552379, 07851656...</td>\n",
       "      <td>(None, 18519, None, None, None, None, None, No...</td>\n",
       "      <td>The Planetary Omnibus</td>\n",
       "    </tr>\n",
       "    <tr>\n",
       "      <th>10</th>\n",
       "      <td>None</td>\n",
       "      <td>1401246028</td>\n",
       "      <td>None</td>\n",
       "      <td>[[Books]]</td>\n",
       "      <td></td>\n",
       "      <td>http://ecx.images-amazon.com/images/I/51offO8R...</td>\n",
       "      <td>10.20</td>\n",
       "      <td>([1401237789, 1401235425, 140124646X, 14012461...</td>\n",
       "      <td>(None, 1276, None, None, None, None, None, Non...</td>\n",
       "      <td>Batman Vol. 3: Death of the Family (The New 52)</td>\n",
       "    </tr>\n",
       "    <tr>\n",
       "      <th>11</th>\n",
       "      <td>None</td>\n",
       "      <td>1401244017</td>\n",
       "      <td>None</td>\n",
       "      <td>[[Books]]</td>\n",
       "      <td>&amp;ldquo;writer Jeph Loeb's brilliance shines th...</td>\n",
       "      <td>http://ecx.images-amazon.com/images/I/71k44j9v...</td>\n",
       "      <td>13.99</td>\n",
       "      <td>([1401232590, 1563892731, 1401216269, 14012231...</td>\n",
       "      <td>(None, 17295, None, None, None, None, None, No...</td>\n",
       "      <td>Batman: Dark Victory (new edition)</td>\n",
       "    </tr>\n",
       "    <tr>\n",
       "      <th>12</th>\n",
       "      <td>None</td>\n",
       "      <td>1423167228</td>\n",
       "      <td>None</td>\n",
       "      <td>[[Books]]</td>\n",
       "      <td>Multiple</td>\n",
       "      <td>http://ecx.images-amazon.com/images/I/51iEGA26...</td>\n",
       "      <td>9.18</td>\n",
       "      <td>([006212398X, 142317223X, 142317786X, 14231614...</td>\n",
       "      <td>(None, 8167, None, None, None, None, None, Non...</td>\n",
       "      <td>5-Minute Marvel Stories (5-Minute Stories)</td>\n",
       "    </tr>\n",
       "    <tr>\n",
       "      <th>13</th>\n",
       "      <td>None</td>\n",
       "      <td>1484712676</td>\n",
       "      <td>None</td>\n",
       "      <td>[[Books]]</td>\n",
       "      <td>None</td>\n",
       "      <td>http://ecx.images-amazon.com/images/I/51h3ywg3...</td>\n",
       "      <td>3.41</td>\n",
       "      <td>([1423154126, 1423154088, 1484712684, 14231539...</td>\n",
       "      <td>(None, 10353, None, None, None, None, None, No...</td>\n",
       "      <td>World of Reading This is Captain America: Level 1</td>\n",
       "    </tr>\n",
       "    <tr>\n",
       "      <th>14</th>\n",
       "      <td>None</td>\n",
       "      <td>B002095J4G</td>\n",
       "      <td>None</td>\n",
       "      <td>[[Books]]</td>\n",
       "      <td>None</td>\n",
       "      <td>http://ecx.images-amazon.com/images/I/81yWLzyb...</td>\n",
       "      <td>27.95</td>\n",
       "      <td>([B00H58L4FA, B00EPDJQM6, B00HY6N8T8, B00BRL0S...</td>\n",
       "      <td>(None, 131714, None, None, None, None, None, N...</td>\n",
       "      <td>Marvel Comic Book Lot 50 Comics Good Condition!</td>\n",
       "    </tr>\n",
       "    <tr>\n",
       "      <th>15</th>\n",
       "      <td>None</td>\n",
       "      <td>B00CU06XFY</td>\n",
       "      <td>None</td>\n",
       "      <td>[[Books, Comics &amp; Graphic Novels, Graphic Nove...</td>\n",
       "      <td>None</td>\n",
       "      <td>http://ecx.images-amazon.com/images/I/51EHuoz3...</td>\n",
       "      <td>1.99</td>\n",
       "      <td>([B00IUSHXD6, B00CU06X68, B00D31W650, B00GDHW9...</td>\n",
       "      <td>None</td>\n",
       "      <td>None</td>\n",
       "    </tr>\n",
       "  </tbody>\n",
       "</table>\n",
       "</div>"
      ],
      "text/plain": [
       "   _corrupt_record        asin brand  \\\n",
       "0             None  014038572X  None   \n",
       "1             None  0785117210  None   \n",
       "2             None  0785121056  None   \n",
       "3             None  140122427X  None   \n",
       "4             None  1401229697  None   \n",
       "5             None  1401230067  None   \n",
       "6             None  1401233791  None   \n",
       "7             None  1401233384  None   \n",
       "8             None  1401237789  None   \n",
       "9             None  1401242383  None   \n",
       "10            None  1401246028  None   \n",
       "11            None  1401244017  None   \n",
       "12            None  1423167228  None   \n",
       "13            None  1484712676  None   \n",
       "14            None  B002095J4G  None   \n",
       "15            None  B00CU06XFY  None   \n",
       "\n",
       "                                           categories  \\\n",
       "0                                           [[Books]]   \n",
       "1                                           [[Books]]   \n",
       "2                                           [[Books]]   \n",
       "3                                           [[Books]]   \n",
       "4                                           [[Books]]   \n",
       "5                                           [[Books]]   \n",
       "6                                           [[Books]]   \n",
       "7                                           [[Books]]   \n",
       "8                                           [[Books]]   \n",
       "9                                           [[Books]]   \n",
       "10                                          [[Books]]   \n",
       "11                                          [[Books]]   \n",
       "12                                          [[Books]]   \n",
       "13                                          [[Books]]   \n",
       "14                                          [[Books]]   \n",
       "15  [[Books, Comics & Graphic Novels, Graphic Nove...   \n",
       "\n",
       "                                          description  \\\n",
       "0   According to Ponyboy, there are two kinds of p...   \n",
       "1                                                None   \n",
       "2                                                None   \n",
       "3                                                None   \n",
       "4   Starred Review. A stunning, moving story about...   \n",
       "5                                                None   \n",
       "6   Dennis O'Neil is the influential writer of com...   \n",
       "7   Geoff Johns, a Detroit native, brings a Hollyw...   \n",
       "8   Praise for Scott Snyder'sBatman: Court of Owls...   \n",
       "9   Warren Ellis is a prolific writer whose works ...   \n",
       "10                                                      \n",
       "11  &ldquo;writer Jeph Loeb's brilliance shines th...   \n",
       "12                                           Multiple   \n",
       "13                                               None   \n",
       "14                                               None   \n",
       "15                                               None   \n",
       "\n",
       "                                                imUrl  price  \\\n",
       "0   http://ecx.images-amazon.com/images/I/61Xc9GWp...   4.99   \n",
       "1   http://ecx.images-amazon.com/images/I/51upWJjH...  10.49   \n",
       "2   http://ecx.images-amazon.com/images/I/61iW2SXT...  11.49   \n",
       "3   http://ecx.images-amazon.com/images/I/81g0BQDw...  20.00   \n",
       "4   http://ecx.images-amazon.com/images/I/71%2BCEZ...  11.01   \n",
       "5   http://ecx.images-amazon.com/images/I/81IQpmRp...  11.49   \n",
       "6   http://ecx.images-amazon.com/images/I/81hLFMDQ...  16.09   \n",
       "7   http://ecx.images-amazon.com/images/I/81LZ1mW0...  10.00   \n",
       "8   http://ecx.images-amazon.com/images/I/91DDC3%2...   9.36   \n",
       "9   http://ecx.images-amazon.com/images/I/81adYxKE...  47.73   \n",
       "10  http://ecx.images-amazon.com/images/I/51offO8R...  10.20   \n",
       "11  http://ecx.images-amazon.com/images/I/71k44j9v...  13.99   \n",
       "12  http://ecx.images-amazon.com/images/I/51iEGA26...   9.18   \n",
       "13  http://ecx.images-amazon.com/images/I/51h3ywg3...   3.41   \n",
       "14  http://ecx.images-amazon.com/images/I/81yWLzyb...  27.95   \n",
       "15  http://ecx.images-amazon.com/images/I/51EHuoz3...   1.99   \n",
       "\n",
       "                                              related  \\\n",
       "0   ([0078205409, 0440932211, 0547534264, 01403896...   \n",
       "1   ([0785123202, 0785157050, 078512179X, 07851329...   \n",
       "2   ([0785131272, 0785131280, 0785166432, 07851565...   \n",
       "3   ([1401228798, 1401230970, 1401233902, 14012349...   \n",
       "4   ([1935429000, 160309038X, 1603090746, 17704604...   \n",
       "5   ([1401233023, 1401235190, 1401236901, 14012380...   \n",
       "6   ([1401235360, 1401237215, 1401232744, 14012338...   \n",
       "7   ([1401234054, 1401230016, 1401234488, 14012343...   \n",
       "8   ([1401235425, 1401246028, 1401242529, 14012402...   \n",
       "9   ([1401238998, 1401242758, 1616552379, 07851656...   \n",
       "10  ([1401237789, 1401235425, 140124646X, 14012461...   \n",
       "11  ([1401232590, 1563892731, 1401216269, 14012231...   \n",
       "12  ([006212398X, 142317223X, 142317786X, 14231614...   \n",
       "13  ([1423154126, 1423154088, 1484712684, 14231539...   \n",
       "14  ([B00H58L4FA, B00EPDJQM6, B00HY6N8T8, B00BRL0S...   \n",
       "15  ([B00IUSHXD6, B00CU06X68, B00D31W650, B00GDHW9...   \n",
       "\n",
       "                                            salesRank  \\\n",
       "0   (None, 3106, None, None, None, None, None, Non...   \n",
       "1   (None, 19065, None, None, None, None, None, No...   \n",
       "2   (None, 95214, None, None, None, None, None, No...   \n",
       "3   (None, 793, None, None, None, None, None, None...   \n",
       "4   (None, 6414, None, None, None, None, None, Non...   \n",
       "5   (None, 11659, None, None, None, None, None, No...   \n",
       "6   (None, 9262, None, None, None, None, None, Non...   \n",
       "7   (None, 21061, None, None, None, None, None, No...   \n",
       "8   (None, 1361, None, None, None, None, None, Non...   \n",
       "9   (None, 18519, None, None, None, None, None, No...   \n",
       "10  (None, 1276, None, None, None, None, None, Non...   \n",
       "11  (None, 17295, None, None, None, None, None, No...   \n",
       "12  (None, 8167, None, None, None, None, None, Non...   \n",
       "13  (None, 10353, None, None, None, None, None, No...   \n",
       "14  (None, 131714, None, None, None, None, None, N...   \n",
       "15                                               None   \n",
       "\n",
       "                                                title  \n",
       "0                                       The Outsiders  \n",
       "1                                          House of M  \n",
       "2                                        Infinity War  \n",
       "3                 Fables: The Deluxe Edition Book One  \n",
       "4                                          Daytripper  \n",
       "5   John Constantine, Hellblazer, Vol. 1: Original...  \n",
       "6                          Batman: Knightfall, Vol. 1  \n",
       "7                                          Flashpoint  \n",
       "8        Batman Vol. 2: The City of Owls (The New 52)  \n",
       "9                               The Planetary Omnibus  \n",
       "10    Batman Vol. 3: Death of the Family (The New 52)  \n",
       "11                 Batman: Dark Victory (new edition)  \n",
       "12         5-Minute Marvel Stories (5-Minute Stories)  \n",
       "13  World of Reading This is Captain America: Level 1  \n",
       "14    Marvel Comic Book Lot 50 Comics Good Condition!  \n",
       "15                                               None  "
      ]
     },
     "execution_count": 15,
     "metadata": {},
     "output_type": "execute_result"
    }
   ],
   "source": [
    "top_comic_meta"
   ]
  },
  {
   "cell_type": "markdown",
   "metadata": {},
   "source": [
    "In review, see that some of the ASINs that were scraped aren't aligning to relevant material. This could generally be from those numbers being adjusted at some systematically."
   ]
  },
  {
   "cell_type": "code",
   "execution_count": 10,
   "metadata": {},
   "outputs": [],
   "source": [
    "top_meta = top_comic_meta.drop([0, 12, 13, 14, 15])"
   ]
  },
  {
   "cell_type": "markdown",
   "metadata": {},
   "source": [
    "To help get more information, I used the \"Related\" comics feature to grab more ASINs and will use those to help determine if I can find more."
   ]
  },
  {
   "cell_type": "code",
   "execution_count": 11,
   "metadata": {},
   "outputs": [
    {
     "data": {
      "text/plain": [
       "1    ([0785123202, 0785157050, 078512179X, 07851329...\n",
       "2    ([0785131272, 0785131280, 0785166432, 07851565...\n",
       "3    ([1401228798, 1401230970, 1401233902, 14012349...\n",
       "4    ([1935429000, 160309038X, 1603090746, 17704604...\n",
       "5    ([1401233023, 1401235190, 1401236901, 14012380...\n",
       "Name: related, dtype: object"
      ]
     },
     "execution_count": 11,
     "metadata": {},
     "output_type": "execute_result"
    }
   ],
   "source": [
    "top_meta['related'].head()"
   ]
  },
  {
   "cell_type": "markdown",
   "metadata": {},
   "source": [
    "Putting the 'related' ASINs in a list, then creating a new dataframe for them."
   ]
  },
  {
   "cell_type": "code",
   "execution_count": 12,
   "metadata": {},
   "outputs": [],
   "source": [
    "more_comic_ids = list(set([val for meta in top_meta.related.tolist() for val in meta[0]]))"
   ]
  },
  {
   "cell_type": "code",
   "execution_count": 13,
   "metadata": {},
   "outputs": [],
   "source": [
    "more_comic_meta = books_meta.filter(col(\"asin\").isin(more_comic_ids)).toPandas()"
   ]
  },
  {
   "cell_type": "code",
   "execution_count": 14,
   "metadata": {},
   "outputs": [
    {
     "data": {
      "text/plain": [
       "0    ([0375714545, 0618871713, 1570614598, 18918304...\n",
       "1    ([0316107093, 0316107107, 0316107298, 03161073...\n",
       "2    ([1606904388, 0345506391, 1606901605, 16069021...\n",
       "3    ([1932664165, 1620101130, 1620100045, 14424659...\n",
       "4    ([1560974273, 0375404538, 0375714545, 03073773...\n",
       "Name: related, dtype: object"
      ]
     },
     "execution_count": 14,
     "metadata": {},
     "output_type": "execute_result"
    }
   ],
   "source": [
    "more_comic_meta['related'].head()"
   ]
  },
  {
   "cell_type": "markdown",
   "metadata": {},
   "source": [
    "Based on reviewing what I was able to gather so far, I found a few patterns to help narrow down a subsection that contains comic books:\n",
    "* A large section of comic books from the publisher Marvel Comics begin with '07851'\n",
    "* A large section of comic books from the publisher DC Comics begin with '14012'\n",
    "* A large section of comic books from the publisher Image Comics begin with '160706'\n",
    "\n",
    "As these are three of the largest publishers, I am going to use an SQL query to find those in these ranges, review the data, and if it looks to fit what I expect, proceed with combining them with my previous findings into one set. "
   ]
  },
  {
   "cell_type": "code",
   "execution_count": 15,
   "metadata": {},
   "outputs": [],
   "source": [
    "query =\"\"\"\n",
    "SELECT \n",
    "    asin\n",
    ",   title\n",
    ",   categories\n",
    "FROM \n",
    "    metadata\n",
    "WHERE asin LIKE \"\"\""
   ]
  },
  {
   "cell_type": "code",
   "execution_count": 16,
   "metadata": {},
   "outputs": [],
   "source": [
    "image_query = query + \" \\'160706%\\'\"\n",
    "books_meta.createOrReplaceTempView('metadata')\n",
    "image_meta = spark.sql(image_query).toPandas()"
   ]
  },
  {
   "cell_type": "code",
   "execution_count": 17,
   "metadata": {},
   "outputs": [
    {
     "data": {
      "text/html": [
       "<div>\n",
       "<style scoped>\n",
       "    .dataframe tbody tr th:only-of-type {\n",
       "        vertical-align: middle;\n",
       "    }\n",
       "\n",
       "    .dataframe tbody tr th {\n",
       "        vertical-align: top;\n",
       "    }\n",
       "\n",
       "    .dataframe thead th {\n",
       "        text-align: right;\n",
       "    }\n",
       "</style>\n",
       "<table border=\"1\" class=\"dataframe\">\n",
       "  <thead>\n",
       "    <tr style=\"text-align: right;\">\n",
       "      <th></th>\n",
       "      <th>asin</th>\n",
       "      <th>title</th>\n",
       "      <th>categories</th>\n",
       "    </tr>\n",
       "  </thead>\n",
       "  <tbody>\n",
       "    <tr>\n",
       "      <th>0</th>\n",
       "      <td>1607060051</td>\n",
       "      <td>Screamland</td>\n",
       "      <td>[[Books]]</td>\n",
       "    </tr>\n",
       "    <tr>\n",
       "      <th>1</th>\n",
       "      <td>1607060191</td>\n",
       "      <td>Ted McKeever Library Book 3: Metropol (Bk. 3)</td>\n",
       "      <td>[[Books]]</td>\n",
       "    </tr>\n",
       "    <tr>\n",
       "      <th>2</th>\n",
       "      <td>1607060086</td>\n",
       "      <td>Bruce: The Little Blue Spruce</td>\n",
       "      <td>[[Books]]</td>\n",
       "    </tr>\n",
       "    <tr>\n",
       "      <th>3</th>\n",
       "      <td>1607060043</td>\n",
       "      <td>Outlaw Territory, Vol. 1</td>\n",
       "      <td>[[Books]]</td>\n",
       "    </tr>\n",
       "    <tr>\n",
       "      <th>4</th>\n",
       "      <td>160706023X</td>\n",
       "      <td>Zombie Cop</td>\n",
       "      <td>[[Books]]</td>\n",
       "    </tr>\n",
       "  </tbody>\n",
       "</table>\n",
       "</div>"
      ],
      "text/plain": [
       "         asin                                          title categories\n",
       "0  1607060051                                     Screamland  [[Books]]\n",
       "1  1607060191  Ted McKeever Library Book 3: Metropol (Bk. 3)  [[Books]]\n",
       "2  1607060086                  Bruce: The Little Blue Spruce  [[Books]]\n",
       "3  1607060043                       Outlaw Territory, Vol. 1  [[Books]]\n",
       "4  160706023X                                     Zombie Cop  [[Books]]"
      ]
     },
     "execution_count": 17,
     "metadata": {},
     "output_type": "execute_result"
    }
   ],
   "source": [
    "image_meta.head()"
   ]
  },
  {
   "cell_type": "code",
   "execution_count": 20,
   "metadata": {},
   "outputs": [],
   "source": [
    "marvel_query = query + \" \\'07851%\\'\"\n",
    "books_meta.createOrReplaceTempView('metadata')\n",
    "marvel_meta = spark.sql(marvel_query).toPandas()"
   ]
  },
  {
   "cell_type": "code",
   "execution_count": 21,
   "metadata": {},
   "outputs": [
    {
     "data": {
      "text/html": [
       "<div>\n",
       "<style scoped>\n",
       "    .dataframe tbody tr th:only-of-type {\n",
       "        vertical-align: middle;\n",
       "    }\n",
       "\n",
       "    .dataframe tbody tr th {\n",
       "        vertical-align: top;\n",
       "    }\n",
       "\n",
       "    .dataframe thead th {\n",
       "        text-align: right;\n",
       "    }\n",
       "</style>\n",
       "<table border=\"1\" class=\"dataframe\">\n",
       "  <thead>\n",
       "    <tr style=\"text-align: right;\">\n",
       "      <th></th>\n",
       "      <th>asin</th>\n",
       "      <th>title</th>\n",
       "      <th>categories</th>\n",
       "    </tr>\n",
       "  </thead>\n",
       "  <tbody>\n",
       "    <tr>\n",
       "      <th>0</th>\n",
       "      <td>0785100016</td>\n",
       "      <td>Wolverine: Killing</td>\n",
       "      <td>[[Books]]</td>\n",
       "    </tr>\n",
       "    <tr>\n",
       "      <th>1</th>\n",
       "      <td>0785100555</td>\n",
       "      <td>The Punisher, a man named Frank</td>\n",
       "      <td>[[Books]]</td>\n",
       "    </tr>\n",
       "    <tr>\n",
       "      <th>2</th>\n",
       "      <td>078510027X</td>\n",
       "      <td>Spider-Man: Round Robin : The Sidekick's Revenge</td>\n",
       "      <td>[[Books]]</td>\n",
       "    </tr>\n",
       "    <tr>\n",
       "      <th>3</th>\n",
       "      <td>0785100245</td>\n",
       "      <td>Daredevil - Fall from Grace</td>\n",
       "      <td>[[Books]]</td>\n",
       "    </tr>\n",
       "    <tr>\n",
       "      <th>4</th>\n",
       "      <td>0785100717</td>\n",
       "      <td>The Best of Marvel 1994</td>\n",
       "      <td>[[Books]]</td>\n",
       "    </tr>\n",
       "  </tbody>\n",
       "</table>\n",
       "</div>"
      ],
      "text/plain": [
       "         asin                                             title categories\n",
       "0  0785100016                                Wolverine: Killing  [[Books]]\n",
       "1  0785100555                   The Punisher, a man named Frank  [[Books]]\n",
       "2  078510027X  Spider-Man: Round Robin : The Sidekick's Revenge  [[Books]]\n",
       "3  0785100245                       Daredevil - Fall from Grace  [[Books]]\n",
       "4  0785100717                           The Best of Marvel 1994  [[Books]]"
      ]
     },
     "execution_count": 21,
     "metadata": {},
     "output_type": "execute_result"
    }
   ],
   "source": [
    "marvel_meta.head()"
   ]
  },
  {
   "cell_type": "code",
   "execution_count": 22,
   "metadata": {},
   "outputs": [],
   "source": [
    "dc_query = query + \" \\'14012%\\'\"\n",
    "books_meta.createOrReplaceTempView('metadata')\n",
    "dc_meta = spark.sql(dc_query).toPandas()"
   ]
  },
  {
   "cell_type": "code",
   "execution_count": 23,
   "metadata": {},
   "outputs": [
    {
     "data": {
      "text/html": [
       "<div>\n",
       "<style scoped>\n",
       "    .dataframe tbody tr th:only-of-type {\n",
       "        vertical-align: middle;\n",
       "    }\n",
       "\n",
       "    .dataframe tbody tr th {\n",
       "        vertical-align: top;\n",
       "    }\n",
       "\n",
       "    .dataframe thead th {\n",
       "        text-align: right;\n",
       "    }\n",
       "</style>\n",
       "<table border=\"1\" class=\"dataframe\">\n",
       "  <thead>\n",
       "    <tr style=\"text-align: right;\">\n",
       "      <th></th>\n",
       "      <th>asin</th>\n",
       "      <th>title</th>\n",
       "      <th>categories</th>\n",
       "    </tr>\n",
       "  </thead>\n",
       "  <tbody>\n",
       "    <tr>\n",
       "      <th>0</th>\n",
       "      <td>1401200168</td>\n",
       "      <td>Green Lantern: Emerald Dawn II</td>\n",
       "      <td>[[Books]]</td>\n",
       "    </tr>\n",
       "    <tr>\n",
       "      <th>1</th>\n",
       "      <td>1401200141</td>\n",
       "      <td>Atom, The - Archives, Volume 2 (DC Archive Edi...</td>\n",
       "      <td>[[Books]]</td>\n",
       "    </tr>\n",
       "    <tr>\n",
       "      <th>2</th>\n",
       "      <td>1401200338</td>\n",
       "      <td>High Roads (Cliffhanger!)</td>\n",
       "      <td>[[Books]]</td>\n",
       "    </tr>\n",
       "    <tr>\n",
       "      <th>3</th>\n",
       "      <td>1401200346</td>\n",
       "      <td>Batman/Deathblow: After the Fire (Batman Beyon...</td>\n",
       "      <td>[[Books]]</td>\n",
       "    </tr>\n",
       "    <tr>\n",
       "      <th>4</th>\n",
       "      <td>1401200370</td>\n",
       "      <td>Batman: Absolution</td>\n",
       "      <td>[[Books]]</td>\n",
       "    </tr>\n",
       "  </tbody>\n",
       "</table>\n",
       "</div>"
      ],
      "text/plain": [
       "         asin                                              title categories\n",
       "0  1401200168                     Green Lantern: Emerald Dawn II  [[Books]]\n",
       "1  1401200141  Atom, The - Archives, Volume 2 (DC Archive Edi...  [[Books]]\n",
       "2  1401200338                          High Roads (Cliffhanger!)  [[Books]]\n",
       "3  1401200346  Batman/Deathblow: After the Fire (Batman Beyon...  [[Books]]\n",
       "4  1401200370                                 Batman: Absolution  [[Books]]"
      ]
     },
     "execution_count": 23,
     "metadata": {},
     "output_type": "execute_result"
    }
   ],
   "source": [
    "dc_meta.head()"
   ]
  },
  {
   "cell_type": "markdown",
   "metadata": {},
   "source": [
    "Awesome! All of those looked good in further exploration of each. With that, I combined all of the previous results with these new ones to have my working set of comic book ASINs."
   ]
  },
  {
   "cell_type": "code",
   "execution_count": 24,
   "metadata": {},
   "outputs": [],
   "source": [
    "top_merge = top_comic_meta[['asin', 'title', 'categories']]\n",
    "related_merge = more_comic_meta[['asin', 'title', 'categories']]"
   ]
  },
  {
   "cell_type": "code",
   "execution_count": 25,
   "metadata": {},
   "outputs": [
    {
     "data": {
      "text/html": [
       "<div>\n",
       "<style scoped>\n",
       "    .dataframe tbody tr th:only-of-type {\n",
       "        vertical-align: middle;\n",
       "    }\n",
       "\n",
       "    .dataframe tbody tr th {\n",
       "        vertical-align: top;\n",
       "    }\n",
       "\n",
       "    .dataframe thead th {\n",
       "        text-align: right;\n",
       "    }\n",
       "</style>\n",
       "<table border=\"1\" class=\"dataframe\">\n",
       "  <thead>\n",
       "    <tr style=\"text-align: right;\">\n",
       "      <th></th>\n",
       "      <th>asin</th>\n",
       "      <th>title</th>\n",
       "      <th>categories</th>\n",
       "    </tr>\n",
       "  </thead>\n",
       "  <tbody>\n",
       "    <tr>\n",
       "      <th>0</th>\n",
       "      <td>014038572X</td>\n",
       "      <td>The Outsiders</td>\n",
       "      <td>[['Books']]</td>\n",
       "    </tr>\n",
       "    <tr>\n",
       "      <th>1</th>\n",
       "      <td>0785117210</td>\n",
       "      <td>House of M</td>\n",
       "      <td>[['Books']]</td>\n",
       "    </tr>\n",
       "    <tr>\n",
       "      <th>2</th>\n",
       "      <td>0785121056</td>\n",
       "      <td>Infinity War</td>\n",
       "      <td>[['Books']]</td>\n",
       "    </tr>\n",
       "    <tr>\n",
       "      <th>3</th>\n",
       "      <td>140122427X</td>\n",
       "      <td>Fables: The Deluxe Edition Book One</td>\n",
       "      <td>[['Books']]</td>\n",
       "    </tr>\n",
       "    <tr>\n",
       "      <th>4</th>\n",
       "      <td>1401229697</td>\n",
       "      <td>Daytripper</td>\n",
       "      <td>[['Books']]</td>\n",
       "    </tr>\n",
       "  </tbody>\n",
       "</table>\n",
       "</div>"
      ],
      "text/plain": [
       "         asin                                title   categories\n",
       "0  014038572X                        The Outsiders  [['Books']]\n",
       "1  0785117210                           House of M  [['Books']]\n",
       "2  0785121056                         Infinity War  [['Books']]\n",
       "3  140122427X  Fables: The Deluxe Edition Book One  [['Books']]\n",
       "4  1401229697                           Daytripper  [['Books']]"
      ]
     },
     "execution_count": 25,
     "metadata": {},
     "output_type": "execute_result"
    }
   ],
   "source": [
    "all_comic_df = pd.concat([top_merge, related_merge,\n",
    "                          image_meta, marvel_meta,\n",
    "                          dc_meta])\n",
    "all_comic_df['categories'] = all_comic_df['categories']\\\n",
    "                            .astype(str)\n",
    "all_comic_df.head()"
   ]
  },
  {
   "cell_type": "markdown",
   "metadata": {},
   "source": [
    "Next, I did some additional cleaning of my comic books ASINs:\n",
    "* Dropped any duplicate rows\n",
    "* Found anything that was not categorized as a Book and removed it, as well as a couple more edge cases that I wanted to drop. \n",
    "* Exported this list to a csv to preserve my efforts and not have to extract from the metadata dataset any further."
   ]
  },
  {
   "cell_type": "code",
   "execution_count": 26,
   "metadata": {},
   "outputs": [],
   "source": [
    "all_comics_df = all_comic_df.drop_duplicates()"
   ]
  },
  {
   "cell_type": "code",
   "execution_count": null,
   "metadata": {},
   "outputs": [],
   "source": [
    "all_comics_df.loc[:,'categories'] = all_comics_df.loc[:, 'categories']\\\n",
    "             .apply(lambda x: re.sub(\"\\[|\\]|\\'\", \"\", x))"
   ]
  },
  {
   "cell_type": "code",
   "execution_count": 28,
   "metadata": {},
   "outputs": [
    {
     "data": {
      "text/html": [
       "<div>\n",
       "<style scoped>\n",
       "    .dataframe tbody tr th:only-of-type {\n",
       "        vertical-align: middle;\n",
       "    }\n",
       "\n",
       "    .dataframe tbody tr th {\n",
       "        vertical-align: top;\n",
       "    }\n",
       "\n",
       "    .dataframe thead th {\n",
       "        text-align: right;\n",
       "    }\n",
       "</style>\n",
       "<table border=\"1\" class=\"dataframe\">\n",
       "  <thead>\n",
       "    <tr style=\"text-align: right;\">\n",
       "      <th></th>\n",
       "      <th>asin</th>\n",
       "      <th>title</th>\n",
       "      <th>categories</th>\n",
       "    </tr>\n",
       "  </thead>\n",
       "  <tbody>\n",
       "    <tr>\n",
       "      <th>0</th>\n",
       "      <td>014038572X</td>\n",
       "      <td>The Outsiders</td>\n",
       "      <td>Books</td>\n",
       "    </tr>\n",
       "    <tr>\n",
       "      <th>1</th>\n",
       "      <td>0785117210</td>\n",
       "      <td>House of M</td>\n",
       "      <td>Books</td>\n",
       "    </tr>\n",
       "    <tr>\n",
       "      <th>2</th>\n",
       "      <td>0785121056</td>\n",
       "      <td>Infinity War</td>\n",
       "      <td>Books</td>\n",
       "    </tr>\n",
       "    <tr>\n",
       "      <th>3</th>\n",
       "      <td>140122427X</td>\n",
       "      <td>Fables: The Deluxe Edition Book One</td>\n",
       "      <td>Books</td>\n",
       "    </tr>\n",
       "    <tr>\n",
       "      <th>4</th>\n",
       "      <td>1401229697</td>\n",
       "      <td>Daytripper</td>\n",
       "      <td>Books</td>\n",
       "    </tr>\n",
       "  </tbody>\n",
       "</table>\n",
       "</div>"
      ],
      "text/plain": [
       "         asin                                title categories\n",
       "0  014038572X                        The Outsiders      Books\n",
       "1  0785117210                           House of M      Books\n",
       "2  0785121056                         Infinity War      Books\n",
       "3  140122427X  Fables: The Deluxe Edition Book One      Books\n",
       "4  1401229697                           Daytripper      Books"
      ]
     },
     "execution_count": 28,
     "metadata": {},
     "output_type": "execute_result"
    }
   ],
   "source": [
    "all_comics_df.head()"
   ]
  },
  {
   "cell_type": "code",
   "execution_count": 29,
   "metadata": {},
   "outputs": [
    {
     "data": {
      "text/html": [
       "<div>\n",
       "<style scoped>\n",
       "    .dataframe tbody tr th:only-of-type {\n",
       "        vertical-align: middle;\n",
       "    }\n",
       "\n",
       "    .dataframe tbody tr th {\n",
       "        vertical-align: top;\n",
       "    }\n",
       "\n",
       "    .dataframe thead th {\n",
       "        text-align: right;\n",
       "    }\n",
       "</style>\n",
       "<table border=\"1\" class=\"dataframe\">\n",
       "  <thead>\n",
       "    <tr style=\"text-align: right;\">\n",
       "      <th></th>\n",
       "      <th>asin</th>\n",
       "      <th>title</th>\n",
       "      <th>categories</th>\n",
       "    </tr>\n",
       "  </thead>\n",
       "  <tbody>\n",
       "    <tr>\n",
       "      <th>15</th>\n",
       "      <td>B00CU06XFY</td>\n",
       "      <td>None</td>\n",
       "      <td>Books, Comics &amp; Graphic Novels, Graphic Novels...</td>\n",
       "    </tr>\n",
       "  </tbody>\n",
       "</table>\n",
       "</div>"
      ],
      "text/plain": [
       "          asin title                                         categories\n",
       "15  B00CU06XFY  None  Books, Comics & Graphic Novels, Graphic Novels..."
      ]
     },
     "execution_count": 29,
     "metadata": {},
     "output_type": "execute_result"
    }
   ],
   "source": [
    "all_comics_df[all_comics_df['categories'] != 'Books']"
   ]
  },
  {
   "cell_type": "code",
   "execution_count": 30,
   "metadata": {},
   "outputs": [],
   "source": [
    "all_comics_df = all_comics_df.drop([0,15], axis=0)"
   ]
  },
  {
   "cell_type": "code",
   "execution_count": null,
   "metadata": {},
   "outputs": [],
   "source": [
    "all_comics_df.to_csv('data/all_comic_asin.csv')"
   ]
  },
  {
   "cell_type": "markdown",
   "metadata": {},
   "source": [
    "### 2. Find comic book reviews in Books"
   ]
  },
  {
   "cell_type": "code",
   "execution_count": 31,
   "metadata": {},
   "outputs": [],
   "source": [
    "comic_reviews = books_df.filter(col('asin')\n",
    "                        .isin(all_comics_df.asin.tolist()))"
   ]
  },
  {
   "cell_type": "code",
   "execution_count": 32,
   "metadata": {},
   "outputs": [
    {
     "name": "stdout",
     "output_type": "stream",
     "text": [
      "Number of comic book reviews: 57935\n"
     ]
    }
   ],
   "source": [
    "print(f\"Number of comic book reviews: {comic_reviews.count()}\")"
   ]
  },
  {
   "cell_type": "code",
   "execution_count": 33,
   "metadata": {},
   "outputs": [
    {
     "name": "stdout",
     "output_type": "stream",
     "text": [
      "+----------+-------+-------+--------------------+-----------+--------------+--------------------+--------------------+--------------+\n",
      "|      asin|helpful|overall|          reviewText| reviewTime|    reviewerID|        reviewerName|             summary|unixReviewTime|\n",
      "+----------+-------+-------+--------------------+-----------+--------------+--------------------+--------------------+--------------+\n",
      "|0316107255| [1, 1]|    4.0|PENGUIN DREAMS AN...|02 19, 2014|A3NQU1649SH0Q4|Allen Smalling \"E...|Okay, but no coll...|    1392768000|\n",
      "+----------+-------+-------+--------------------+-----------+--------------+--------------------+--------------------+--------------+\n",
      "only showing top 1 row\n",
      "\n"
     ]
    }
   ],
   "source": [
    "comic_reviews.show(1)"
   ]
  },
  {
   "cell_type": "markdown",
   "metadata": {},
   "source": [
    "Saving a version of my reviews to JSON, so it is easier to work with than the larger file of all books:"
   ]
  },
  {
   "cell_type": "code",
   "execution_count": null,
   "metadata": {},
   "outputs": [],
   "source": [
    "comic_reviews_export = comic_reviews.select(['asin', 'overall',\n",
    "                                             'reviewText', 'reviewerID'])\n",
    "comic_reviews_export.repartition(1).write.json('data/all_comic_reviews.json')"
   ]
  },
  {
   "cell_type": "markdown",
   "metadata": {},
   "source": [
    "### 3. Find movie/tv reviews by comic book reviewers"
   ]
  },
  {
   "cell_type": "code",
   "execution_count": 34,
   "metadata": {},
   "outputs": [],
   "source": [
    "comic_reviews_df = spark.read.json('data/all_comic_reviews.json')"
   ]
  },
  {
   "cell_type": "code",
   "execution_count": 35,
   "metadata": {},
   "outputs": [],
   "source": [
    "good_users = list(set(comic_reviews_df.select('reviewerID').collect()))\n",
    "\n",
    "# Ids are still stored in Spark Rows, so this removes them into a unique list\n",
    "good_user_ids = [g[0] for g in good_users]"
   ]
  },
  {
   "cell_type": "markdown",
   "metadata": {},
   "source": [
    "Creating a dataframe of movie/tv reviews by users who rated comics"
   ]
  },
  {
   "cell_type": "code",
   "execution_count": 36,
   "metadata": {},
   "outputs": [],
   "source": [
    "mtv_reviews = movies_df.filter(col('reviewerID').isin(good_user_ids))"
   ]
  },
  {
   "cell_type": "code",
   "execution_count": 37,
   "metadata": {},
   "outputs": [
    {
     "name": "stdout",
     "output_type": "stream",
     "text": [
      "Number of unique movie/tv reviews\n",
      "        for comic book reviewers:\n",
      "        149189\n"
     ]
    }
   ],
   "source": [
    "print(f\"\"\"Number of unique movie/tv reviews\n",
    "        for comic book reviewers:\n",
    "        {mtv_reviews.count()}\"\"\")"
   ]
  },
  {
   "cell_type": "markdown",
   "metadata": {},
   "source": [
    "<em>Taking a quick look at how many unique users I have:</em>"
   ]
  },
  {
   "cell_type": "code",
   "execution_count": 38,
   "metadata": {},
   "outputs": [],
   "source": [
    "movie_and_comic_reviewers = list(\n",
    "                                set(mtv_reviews\n",
    "                                    .select('reviewerID').collect()\n",
    "                                    )\n",
    "                            )"
   ]
  },
  {
   "cell_type": "code",
   "execution_count": 39,
   "metadata": {},
   "outputs": [
    {
     "name": "stdout",
     "output_type": "stream",
     "text": [
      "Number of users who have rated\n",
      "        both comics and movies/tv: \n",
      "        10366\n"
     ]
    }
   ],
   "source": [
    "print(f\"\"\"Number of users who have rated\n",
    "        both comics and movies/tv: \n",
    "        {len(movie_and_comic_reviewers)}\"\"\")"
   ]
  },
  {
   "cell_type": "markdown",
   "metadata": {},
   "source": [
    "Saving the metadata on asociated movies/tv for later model interpretation. I found a quirk my data where there are reviews that exist in the Movie/TV dataset that do not align to a ASIN in the metadata.  Since I cannot account for what they are, I am going to drop them for the time."
   ]
  },
  {
   "cell_type": "code",
   "execution_count": 40,
   "metadata": {},
   "outputs": [],
   "source": [
    "mtv_asins = list(set(mtv_reviews.select('asin').collect()))\n",
    "mtv_asins = [a[0] for a in mtv_asins]\n",
    "movie_reviews_meta = movies_meta.filter(col('asin').isin(mtv_asins))"
   ]
  },
  {
   "cell_type": "code",
   "execution_count": null,
   "metadata": {},
   "outputs": [],
   "source": [
    "movie_reviews_meta.repartition(1).write.json('data/moviestv_meta')"
   ]
  },
  {
   "cell_type": "markdown",
   "metadata": {},
   "source": [
    "After narrowing the metadata down to movies from the reviews, I then narrowed down the actual reviews to match this dataset and exported to preserve. As the file size is too large for upload, I had it split into 4 partitions:"
   ]
  },
  {
   "cell_type": "code",
   "execution_count": 41,
   "metadata": {},
   "outputs": [],
   "source": [
    "meta_asins = list(set(movie_reviews_meta.select('asin').collect()))\n",
    "meta_asins = [a[0] for a in meta_asins]\n",
    "movies_w_meta = mtv_reviews.filter(col('asin').isin(meta_asins))"
   ]
  },
  {
   "cell_type": "code",
   "execution_count": 42,
   "metadata": {},
   "outputs": [
    {
     "data": {
      "text/plain": [
       "103757"
      ]
     },
     "execution_count": 42,
     "metadata": {},
     "output_type": "execute_result"
    }
   ],
   "source": [
    "movies_w_meta.count()"
   ]
  },
  {
   "cell_type": "code",
   "execution_count": 43,
   "metadata": {},
   "outputs": [],
   "source": [
    "all_movie_review_data = movies_w_meta.join(movies_meta,\n",
    "                                           on='asin',\n",
    "                                           how='left')"
   ]
  },
  {
   "cell_type": "code",
   "execution_count": 44,
   "metadata": {},
   "outputs": [],
   "source": [
    "mtv_reviews_df = all_movie_review_data.select(['asin',\n",
    "                                              'overall',\n",
    "                                              'title',\n",
    "                                              'reviewerID',\n",
    "                                              'imUrl'])"
   ]
  },
  {
   "cell_type": "code",
   "execution_count": 45,
   "metadata": {},
   "outputs": [
    {
     "name": "stdout",
     "output_type": "stream",
     "text": [
      "+----------+-------+--------------------+-------------+--------------------+\n",
      "|      asin|overall|               title|   reviewerID|               imUrl|\n",
      "+----------+-------+--------------------+-------------+--------------------+\n",
      "|0767807693|    3.0|Requiem for a Hea...|ADENUJJYKNHPO|http://ecx.images...|\n",
      "+----------+-------+--------------------+-------------+--------------------+\n",
      "only showing top 1 row\n",
      "\n"
     ]
    }
   ],
   "source": [
    "mtv_reviews_df.show(1)"
   ]
  },
  {
   "cell_type": "markdown",
   "metadata": {},
   "source": [
    "### 4. Filtering comic reviews by those who rated both comics & movies/tv"
   ]
  },
  {
   "cell_type": "code",
   "execution_count": 46,
   "metadata": {},
   "outputs": [],
   "source": [
    "movie_reviewers = list(set(mtv_reviews_df.select('reviewerID').collect()))\n",
    "\n",
    "movie_and_comic_reviewers = [reviewer[0] for reviewer in movie_reviewers]"
   ]
  },
  {
   "cell_type": "code",
   "execution_count": 47,
   "metadata": {},
   "outputs": [
    {
     "data": {
      "text/plain": [
       "['A1N7CLMHL8GX47',\n",
       " 'A3CDW403KI8AUF',\n",
       " 'A1B9ISLYYCHIVE',\n",
       " 'A1J9YT964HP4EC',\n",
       " 'A2K8GFTF3W0YNU']"
      ]
     },
     "execution_count": 47,
     "metadata": {},
     "output_type": "execute_result"
    }
   ],
   "source": [
    "# Quick visual check on these ids\n",
    "movie_and_comic_reviewers[:5]"
   ]
  },
  {
   "cell_type": "code",
   "execution_count": 48,
   "metadata": {},
   "outputs": [],
   "source": [
    "cm_reviews_df = comic_reviews_df.filter(col('reviewerID')\\\n",
    "                                .isin(movie_and_comic_reviewers))"
   ]
  },
  {
   "cell_type": "markdown",
   "metadata": {},
   "source": [
    "Comic reviews from reviewers who also reviewed movies/tv"
   ]
  },
  {
   "cell_type": "code",
   "execution_count": 49,
   "metadata": {},
   "outputs": [
    {
     "data": {
      "text/plain": [
       "28107"
      ]
     },
     "execution_count": 49,
     "metadata": {},
     "output_type": "execute_result"
    }
   ],
   "source": [
    "cm_reviews_df.count()"
   ]
  },
  {
   "cell_type": "code",
   "execution_count": 50,
   "metadata": {},
   "outputs": [],
   "source": [
    "all_comic_review_data = cm_reviews_df.join(books_meta,\n",
    "                                           on='asin',\n",
    "                                           how='left')"
   ]
  },
  {
   "cell_type": "code",
   "execution_count": 51,
   "metadata": {},
   "outputs": [
    {
     "data": {
      "text/plain": [
       "28107"
      ]
     },
     "execution_count": 51,
     "metadata": {},
     "output_type": "execute_result"
    }
   ],
   "source": [
    "all_comic_review_data.count()"
   ]
  },
  {
   "cell_type": "code",
   "execution_count": null,
   "metadata": {},
   "outputs": [],
   "source": [
    "# Exporting this new set of comic reviews to JSON\n",
    "\n",
    "mtv_reviews_df.select(['asin', 'overall', 'title','reviewerID', 'imUrl'])\\\n",
    "                     .repartition(1).write.json(\"data/movie_reviews_wtitle\")\n",
    "\n",
    "all_comic_review_data.select(['asin', 'overall', 'title','reviewerID', 'imUrl'])\\\n",
    "                     .repartition(1).write.json(\"data/comic_reviews_wtitle\")"
   ]
  },
  {
   "cell_type": "markdown",
   "metadata": {},
   "source": [
    "Looks like a good start! From here, I moved to the my next notebook to merge, clean, and model my data further. "
   ]
  }
 ],
 "metadata": {
  "kernelspec": {
   "display_name": "Python 3",
   "language": "python",
   "name": "python3"
  },
  "language_info": {
   "codemirror_mode": {
    "name": "ipython",
    "version": 3
   },
   "file_extension": ".py",
   "mimetype": "text/x-python",
   "name": "python",
   "nbconvert_exporter": "python",
   "pygments_lexer": "ipython3",
   "version": "3.7.1"
  }
 },
 "nbformat": 4,
 "nbformat_minor": 2
}
