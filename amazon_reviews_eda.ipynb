{
 "cells": [
  {
   "cell_type": "code",
   "execution_count": 92,
   "metadata": {},
   "outputs": [],
   "source": [
    "import pandas as pd\n",
    "import csv\n",
    "import re\n",
    "\n",
    "import pyspark\n",
    "from pyspark.sql.functions import col\n",
    "from pyspark.sql import SQLContext\n",
    "\n",
    "from batcave import get_amazon_list_ids"
   ]
  },
  {
   "cell_type": "markdown",
   "metadata": {},
   "source": [
    "### Importing Amazon reviews through Spark"
   ]
  },
  {
   "cell_type": "markdown",
   "metadata": {},
   "source": [
    "These are complete datasets from a project by [Julien McAuley.](http://jmcauley.ucsd.edu/data/amazon/links.html) "
   ]
  },
  {
   "cell_type": "code",
   "execution_count": 2,
   "metadata": {},
   "outputs": [],
   "source": [
    "spark = (pyspark.sql.SparkSession.builder\n",
    "    .master(\"local\")\n",
    "    .getOrCreate())"
   ]
  },
  {
   "cell_type": "code",
   "execution_count": 3,
   "metadata": {},
   "outputs": [],
   "source": [
    "movies_df = spark.read.json('data/reviews_Movies_and_TV.json')"
   ]
  },
  {
   "cell_type": "code",
   "execution_count": 4,
   "metadata": {},
   "outputs": [],
   "source": [
    "books_df = spark.read.json('data/reviews_Books.json')"
   ]
  },
  {
   "cell_type": "code",
   "execution_count": 5,
   "metadata": {},
   "outputs": [],
   "source": [
    "metadata = spark.read.json('data/metadata.json')"
   ]
  },
  {
   "cell_type": "markdown",
   "metadata": {},
   "source": [
    "### Scraping Amazon for ASIN starting point\n",
    "To help narrow my results, I started by scraping the top 100 DC & Marvel Graphic Novels for their ASIN, so that I could start with an understanding of where to find the reviews I want to target. "
   ]
  },
  {
   "cell_type": "code",
   "execution_count": 10,
   "metadata": {},
   "outputs": [],
   "source": [
    "#DC Comics - top ID's\n",
    "dc_url_1 = \"https://www.amazon.com/gp/bestsellers/books/193766/ref=pd_zg_hrsr_books\"\n",
    "dc_url_2 = \"https://www.amazon.com/Best-Sellers-Books-DC-Comics-Graphic-Novels/zgbs/books/193766/ref=zg_bs_pg_2?_encoding=UTF8&pg=2\"\n",
    "dc_ids_1 = get_amazon_list_ids(dc_url_1)\n",
    "dc_ids_2 = get_amazon_list_ids(dc_url_2)"
   ]
  },
  {
   "cell_type": "code",
   "execution_count": 9,
   "metadata": {},
   "outputs": [],
   "source": [
    "# Marvel Comics - top ID's\n",
    "marvel_url_1 = \"https://www.amazon.com/gp/bestsellers/books/4400/ref=pd_zg_hrsr_books\"\n",
    "marvel_url_2 = \"https://www.amazon.com/Best-Sellers-Books-Marvel-Comics-Graphic-Novels/zgbs/books/4400/ref=zg_bs_pg_2?_encoding=UTF8&pg=2\"\n",
    "marvel_ids_1 = get_amazon_list_ids(marvel_url_1)\n",
    "marvel_ids_2 = get_amazon_list_ids(marvel_url_2)"
   ]
  },
  {
   "cell_type": "code",
   "execution_count": 11,
   "metadata": {},
   "outputs": [],
   "source": [
    "all_ids = dc_ids_1 + dc_ids_2 + marvel_ids_1 + marvel_ids_2"
   ]
  },
  {
   "cell_type": "markdown",
   "metadata": {},
   "source": [
    "Saving these id's temporarily to a csv, to preserve and make for easier refreshing of this notebook without re-scraping."
   ]
  },
  {
   "cell_type": "code",
   "execution_count": null,
   "metadata": {},
   "outputs": [],
   "source": [
    "with open('data/top_dc_marvel_comics.csv', 'w') as f:\n",
    "    wr = csv.writer(f)\n",
    "    wr.writerow(all_ids)"
   ]
  },
  {
   "cell_type": "markdown",
   "metadata": {},
   "source": [
    "# Getting the right reviews\n",
    "My thought process for getting down to the reviews of those who have scored both comic books and movies is as follows:\n",
    "* Find comic book ASIN's in the metadata dataset through exploration and looking at related items. Call it \"all_comic_ids\".\n",
    "* Find any reviews for \"all_comics_ids\" in the book reviews dataset. This subset is \"comic_reviews\"\n",
    "* Take reviewer ids from \"comic_reviews\" and find them in movie/tv reviews dataset. This subset is \"movie_reviews\"\n",
    "* Take the reviewer ids from \"movie_reviews\" and filter out any missing from \"comic_reviews\", calling this subset \"comic_reviews_both\""
   ]
  },
  {
   "cell_type": "code",
   "execution_count": 8,
   "metadata": {},
   "outputs": [],
   "source": [
    "with open(\"data/top_dc_marvel_comics.csv\") as f:\n",
    "    reader = csv.reader(f)\n",
    "    all_ids = []\n",
    "    for row in reader:\n",
    "        all_ids.append(row)"
   ]
  },
  {
   "cell_type": "markdown",
   "metadata": {},
   "source": [
    "### 1. Finding ASINs\n",
    "After reading back in list of ASINs, finding them in metadata and reviewing the data. I am loading it out to a Pandas dataframe for now as it will most likely be smaller, so faster to work with in this way:"
   ]
  },
  {
   "cell_type": "code",
   "execution_count": 13,
   "metadata": {},
   "outputs": [],
   "source": [
    "top_comic_meta = metadata.filter(col(\"asin\").isin(all_ids[0])).toPandas()"
   ]
  },
  {
   "cell_type": "code",
   "execution_count": 14,
   "metadata": {},
   "outputs": [
    {
     "data": {
      "text/plain": [
       "(16, 10)"
      ]
     },
     "execution_count": 14,
     "metadata": {},
     "output_type": "execute_result"
    }
   ],
   "source": [
    "top_comic_meta.shape"
   ]
  },
  {
   "cell_type": "code",
   "execution_count": 15,
   "metadata": {},
   "outputs": [
    {
     "data": {
      "text/html": [
       "<div>\n",
       "<style scoped>\n",
       "    .dataframe tbody tr th:only-of-type {\n",
       "        vertical-align: middle;\n",
       "    }\n",
       "\n",
       "    .dataframe tbody tr th {\n",
       "        vertical-align: top;\n",
       "    }\n",
       "\n",
       "    .dataframe thead th {\n",
       "        text-align: right;\n",
       "    }\n",
       "</style>\n",
       "<table border=\"1\" class=\"dataframe\">\n",
       "  <thead>\n",
       "    <tr style=\"text-align: right;\">\n",
       "      <th></th>\n",
       "      <th>_corrupt_record</th>\n",
       "      <th>asin</th>\n",
       "      <th>brand</th>\n",
       "      <th>categories</th>\n",
       "      <th>description</th>\n",
       "      <th>imUrl</th>\n",
       "      <th>price</th>\n",
       "      <th>related</th>\n",
       "      <th>salesRank</th>\n",
       "      <th>title</th>\n",
       "    </tr>\n",
       "  </thead>\n",
       "  <tbody>\n",
       "    <tr>\n",
       "      <th>0</th>\n",
       "      <td>None</td>\n",
       "      <td>014038572X</td>\n",
       "      <td>None</td>\n",
       "      <td>[[Books]]</td>\n",
       "      <td>According to Ponyboy, there are two kinds of p...</td>\n",
       "      <td>http://ecx.images-amazon.com/images/I/61Xc9GWp...</td>\n",
       "      <td>4.99</td>\n",
       "      <td>([0078205409, 0440932211, 0547534264, 01403896...</td>\n",
       "      <td>(None, None, None, None, None, 3106, None, Non...</td>\n",
       "      <td>The Outsiders</td>\n",
       "    </tr>\n",
       "    <tr>\n",
       "      <th>1</th>\n",
       "      <td>None</td>\n",
       "      <td>0785117210</td>\n",
       "      <td>None</td>\n",
       "      <td>[[Books]]</td>\n",
       "      <td>None</td>\n",
       "      <td>http://ecx.images-amazon.com/images/I/51upWJjH...</td>\n",
       "      <td>10.49</td>\n",
       "      <td>([0785123202, 0785157050, 078512179X, 07851329...</td>\n",
       "      <td>(None, None, None, None, None, 19065, None, No...</td>\n",
       "      <td>House of M</td>\n",
       "    </tr>\n",
       "    <tr>\n",
       "      <th>2</th>\n",
       "      <td>None</td>\n",
       "      <td>0785121056</td>\n",
       "      <td>None</td>\n",
       "      <td>[[Books]]</td>\n",
       "      <td>None</td>\n",
       "      <td>http://ecx.images-amazon.com/images/I/61iW2SXT...</td>\n",
       "      <td>11.49</td>\n",
       "      <td>([0785131272, 0785131280, 0785166432, 07851565...</td>\n",
       "      <td>(None, None, None, None, None, 95214, None, No...</td>\n",
       "      <td>Infinity War</td>\n",
       "    </tr>\n",
       "    <tr>\n",
       "      <th>3</th>\n",
       "      <td>None</td>\n",
       "      <td>140122427X</td>\n",
       "      <td>None</td>\n",
       "      <td>[[Books]]</td>\n",
       "      <td>None</td>\n",
       "      <td>http://ecx.images-amazon.com/images/I/81g0BQDw...</td>\n",
       "      <td>20.00</td>\n",
       "      <td>([1401228798, 1401230970, 1401233902, 14012349...</td>\n",
       "      <td>(None, None, None, None, None, 793, None, None...</td>\n",
       "      <td>Fables: The Deluxe Edition Book One</td>\n",
       "    </tr>\n",
       "    <tr>\n",
       "      <th>4</th>\n",
       "      <td>None</td>\n",
       "      <td>1401229697</td>\n",
       "      <td>None</td>\n",
       "      <td>[[Books]]</td>\n",
       "      <td>Starred Review. A stunning, moving story about...</td>\n",
       "      <td>http://ecx.images-amazon.com/images/I/71%2BCEZ...</td>\n",
       "      <td>11.01</td>\n",
       "      <td>([1935429000, 160309038X, 1603090746, 17704604...</td>\n",
       "      <td>(None, None, None, None, None, 6414, None, Non...</td>\n",
       "      <td>Daytripper</td>\n",
       "    </tr>\n",
       "    <tr>\n",
       "      <th>5</th>\n",
       "      <td>None</td>\n",
       "      <td>1401230067</td>\n",
       "      <td>None</td>\n",
       "      <td>[[Books]]</td>\n",
       "      <td>None</td>\n",
       "      <td>http://ecx.images-amazon.com/images/I/81IQpmRp...</td>\n",
       "      <td>11.49</td>\n",
       "      <td>([1401233023, 1401235190, 1401236901, 14012380...</td>\n",
       "      <td>(None, None, None, None, None, 11659, None, No...</td>\n",
       "      <td>John Constantine, Hellblazer, Vol. 1: Original...</td>\n",
       "    </tr>\n",
       "    <tr>\n",
       "      <th>6</th>\n",
       "      <td>None</td>\n",
       "      <td>1401233791</td>\n",
       "      <td>None</td>\n",
       "      <td>[[Books]]</td>\n",
       "      <td>Dennis O'Neil is the influential writer of com...</td>\n",
       "      <td>http://ecx.images-amazon.com/images/I/81hLFMDQ...</td>\n",
       "      <td>16.09</td>\n",
       "      <td>([1401235360, 1401237215, 1401232744, 14012338...</td>\n",
       "      <td>(None, None, None, None, None, 9262, None, Non...</td>\n",
       "      <td>Batman: Knightfall, Vol. 1</td>\n",
       "    </tr>\n",
       "    <tr>\n",
       "      <th>7</th>\n",
       "      <td>None</td>\n",
       "      <td>1401233384</td>\n",
       "      <td>None</td>\n",
       "      <td>[[Books]]</td>\n",
       "      <td>Geoff Johns, a Detroit native, brings a Hollyw...</td>\n",
       "      <td>http://ecx.images-amazon.com/images/I/81LZ1mW0...</td>\n",
       "      <td>10.00</td>\n",
       "      <td>([1401234054, 1401230016, 1401234488, 14012343...</td>\n",
       "      <td>(None, None, None, None, None, 21061, None, No...</td>\n",
       "      <td>Flashpoint</td>\n",
       "    </tr>\n",
       "    <tr>\n",
       "      <th>8</th>\n",
       "      <td>None</td>\n",
       "      <td>1401237789</td>\n",
       "      <td>None</td>\n",
       "      <td>[[Books]]</td>\n",
       "      <td>Praise for Scott Snyder'sBatman: Court of Owls...</td>\n",
       "      <td>http://ecx.images-amazon.com/images/I/91DDC3%2...</td>\n",
       "      <td>9.36</td>\n",
       "      <td>([1401235425, 1401246028, 1401242529, 14012402...</td>\n",
       "      <td>(None, None, None, None, None, 1361, None, Non...</td>\n",
       "      <td>Batman Vol. 2: The City of Owls (The New 52)</td>\n",
       "    </tr>\n",
       "    <tr>\n",
       "      <th>9</th>\n",
       "      <td>None</td>\n",
       "      <td>1401242383</td>\n",
       "      <td>None</td>\n",
       "      <td>[[Books]]</td>\n",
       "      <td>Warren Ellis is a prolific writer whose works ...</td>\n",
       "      <td>http://ecx.images-amazon.com/images/I/81adYxKE...</td>\n",
       "      <td>47.73</td>\n",
       "      <td>([1401238998, 1401242758, 1616552379, 07851656...</td>\n",
       "      <td>(None, None, None, None, None, 18519, None, No...</td>\n",
       "      <td>The Planetary Omnibus</td>\n",
       "    </tr>\n",
       "    <tr>\n",
       "      <th>10</th>\n",
       "      <td>None</td>\n",
       "      <td>1401246028</td>\n",
       "      <td>None</td>\n",
       "      <td>[[Books]]</td>\n",
       "      <td></td>\n",
       "      <td>http://ecx.images-amazon.com/images/I/51offO8R...</td>\n",
       "      <td>10.20</td>\n",
       "      <td>([1401237789, 1401235425, 140124646X, 14012461...</td>\n",
       "      <td>(None, None, None, None, None, 1276, None, Non...</td>\n",
       "      <td>Batman Vol. 3: Death of the Family (The New 52)</td>\n",
       "    </tr>\n",
       "    <tr>\n",
       "      <th>11</th>\n",
       "      <td>None</td>\n",
       "      <td>1401244017</td>\n",
       "      <td>None</td>\n",
       "      <td>[[Books]]</td>\n",
       "      <td>&amp;ldquo;writer Jeph Loeb's brilliance shines th...</td>\n",
       "      <td>http://ecx.images-amazon.com/images/I/71k44j9v...</td>\n",
       "      <td>13.99</td>\n",
       "      <td>([1401232590, 1563892731, 1401216269, 14012231...</td>\n",
       "      <td>(None, None, None, None, None, 17295, None, No...</td>\n",
       "      <td>Batman: Dark Victory (new edition)</td>\n",
       "    </tr>\n",
       "    <tr>\n",
       "      <th>12</th>\n",
       "      <td>None</td>\n",
       "      <td>1423167228</td>\n",
       "      <td>None</td>\n",
       "      <td>[[Books]]</td>\n",
       "      <td>Multiple</td>\n",
       "      <td>http://ecx.images-amazon.com/images/I/51iEGA26...</td>\n",
       "      <td>9.18</td>\n",
       "      <td>([006212398X, 142317223X, 142317786X, 14231614...</td>\n",
       "      <td>(None, None, None, None, None, 8167, None, Non...</td>\n",
       "      <td>5-Minute Marvel Stories (5-Minute Stories)</td>\n",
       "    </tr>\n",
       "    <tr>\n",
       "      <th>13</th>\n",
       "      <td>None</td>\n",
       "      <td>1484712676</td>\n",
       "      <td>None</td>\n",
       "      <td>[[Books]]</td>\n",
       "      <td>None</td>\n",
       "      <td>http://ecx.images-amazon.com/images/I/51h3ywg3...</td>\n",
       "      <td>3.41</td>\n",
       "      <td>([1423154126, 1423154088, 1484712684, 14231539...</td>\n",
       "      <td>(None, None, None, None, None, 10353, None, No...</td>\n",
       "      <td>World of Reading This is Captain America: Level 1</td>\n",
       "    </tr>\n",
       "    <tr>\n",
       "      <th>14</th>\n",
       "      <td>None</td>\n",
       "      <td>B002095J4G</td>\n",
       "      <td>None</td>\n",
       "      <td>[[Books]]</td>\n",
       "      <td>None</td>\n",
       "      <td>http://ecx.images-amazon.com/images/I/81yWLzyb...</td>\n",
       "      <td>27.95</td>\n",
       "      <td>([B00H58L4FA, B00EPDJQM6, B00HY6N8T8, B00BRL0S...</td>\n",
       "      <td>(None, None, None, None, None, 131714, None, N...</td>\n",
       "      <td>Marvel Comic Book Lot 50 Comics Good Condition!</td>\n",
       "    </tr>\n",
       "    <tr>\n",
       "      <th>15</th>\n",
       "      <td>None</td>\n",
       "      <td>B00CU06XFY</td>\n",
       "      <td>None</td>\n",
       "      <td>[[Books, Comics &amp; Graphic Novels, Graphic Nove...</td>\n",
       "      <td>None</td>\n",
       "      <td>http://ecx.images-amazon.com/images/I/51EHuoz3...</td>\n",
       "      <td>1.99</td>\n",
       "      <td>([B00IUSHXD6, B00CU06X68, B00D31W650, B00GDHW9...</td>\n",
       "      <td>None</td>\n",
       "      <td>None</td>\n",
       "    </tr>\n",
       "  </tbody>\n",
       "</table>\n",
       "</div>"
      ],
      "text/plain": [
       "   _corrupt_record        asin brand  \\\n",
       "0             None  014038572X  None   \n",
       "1             None  0785117210  None   \n",
       "2             None  0785121056  None   \n",
       "3             None  140122427X  None   \n",
       "4             None  1401229697  None   \n",
       "5             None  1401230067  None   \n",
       "6             None  1401233791  None   \n",
       "7             None  1401233384  None   \n",
       "8             None  1401237789  None   \n",
       "9             None  1401242383  None   \n",
       "10            None  1401246028  None   \n",
       "11            None  1401244017  None   \n",
       "12            None  1423167228  None   \n",
       "13            None  1484712676  None   \n",
       "14            None  B002095J4G  None   \n",
       "15            None  B00CU06XFY  None   \n",
       "\n",
       "                                           categories  \\\n",
       "0                                           [[Books]]   \n",
       "1                                           [[Books]]   \n",
       "2                                           [[Books]]   \n",
       "3                                           [[Books]]   \n",
       "4                                           [[Books]]   \n",
       "5                                           [[Books]]   \n",
       "6                                           [[Books]]   \n",
       "7                                           [[Books]]   \n",
       "8                                           [[Books]]   \n",
       "9                                           [[Books]]   \n",
       "10                                          [[Books]]   \n",
       "11                                          [[Books]]   \n",
       "12                                          [[Books]]   \n",
       "13                                          [[Books]]   \n",
       "14                                          [[Books]]   \n",
       "15  [[Books, Comics & Graphic Novels, Graphic Nove...   \n",
       "\n",
       "                                          description  \\\n",
       "0   According to Ponyboy, there are two kinds of p...   \n",
       "1                                                None   \n",
       "2                                                None   \n",
       "3                                                None   \n",
       "4   Starred Review. A stunning, moving story about...   \n",
       "5                                                None   \n",
       "6   Dennis O'Neil is the influential writer of com...   \n",
       "7   Geoff Johns, a Detroit native, brings a Hollyw...   \n",
       "8   Praise for Scott Snyder'sBatman: Court of Owls...   \n",
       "9   Warren Ellis is a prolific writer whose works ...   \n",
       "10                                                      \n",
       "11  &ldquo;writer Jeph Loeb's brilliance shines th...   \n",
       "12                                           Multiple   \n",
       "13                                               None   \n",
       "14                                               None   \n",
       "15                                               None   \n",
       "\n",
       "                                                imUrl  price  \\\n",
       "0   http://ecx.images-amazon.com/images/I/61Xc9GWp...   4.99   \n",
       "1   http://ecx.images-amazon.com/images/I/51upWJjH...  10.49   \n",
       "2   http://ecx.images-amazon.com/images/I/61iW2SXT...  11.49   \n",
       "3   http://ecx.images-amazon.com/images/I/81g0BQDw...  20.00   \n",
       "4   http://ecx.images-amazon.com/images/I/71%2BCEZ...  11.01   \n",
       "5   http://ecx.images-amazon.com/images/I/81IQpmRp...  11.49   \n",
       "6   http://ecx.images-amazon.com/images/I/81hLFMDQ...  16.09   \n",
       "7   http://ecx.images-amazon.com/images/I/81LZ1mW0...  10.00   \n",
       "8   http://ecx.images-amazon.com/images/I/91DDC3%2...   9.36   \n",
       "9   http://ecx.images-amazon.com/images/I/81adYxKE...  47.73   \n",
       "10  http://ecx.images-amazon.com/images/I/51offO8R...  10.20   \n",
       "11  http://ecx.images-amazon.com/images/I/71k44j9v...  13.99   \n",
       "12  http://ecx.images-amazon.com/images/I/51iEGA26...   9.18   \n",
       "13  http://ecx.images-amazon.com/images/I/51h3ywg3...   3.41   \n",
       "14  http://ecx.images-amazon.com/images/I/81yWLzyb...  27.95   \n",
       "15  http://ecx.images-amazon.com/images/I/51EHuoz3...   1.99   \n",
       "\n",
       "                                              related  \\\n",
       "0   ([0078205409, 0440932211, 0547534264, 01403896...   \n",
       "1   ([0785123202, 0785157050, 078512179X, 07851329...   \n",
       "2   ([0785131272, 0785131280, 0785166432, 07851565...   \n",
       "3   ([1401228798, 1401230970, 1401233902, 14012349...   \n",
       "4   ([1935429000, 160309038X, 1603090746, 17704604...   \n",
       "5   ([1401233023, 1401235190, 1401236901, 14012380...   \n",
       "6   ([1401235360, 1401237215, 1401232744, 14012338...   \n",
       "7   ([1401234054, 1401230016, 1401234488, 14012343...   \n",
       "8   ([1401235425, 1401246028, 1401242529, 14012402...   \n",
       "9   ([1401238998, 1401242758, 1616552379, 07851656...   \n",
       "10  ([1401237789, 1401235425, 140124646X, 14012461...   \n",
       "11  ([1401232590, 1563892731, 1401216269, 14012231...   \n",
       "12  ([006212398X, 142317223X, 142317786X, 14231614...   \n",
       "13  ([1423154126, 1423154088, 1484712684, 14231539...   \n",
       "14  ([B00H58L4FA, B00EPDJQM6, B00HY6N8T8, B00BRL0S...   \n",
       "15  ([B00IUSHXD6, B00CU06X68, B00D31W650, B00GDHW9...   \n",
       "\n",
       "                                            salesRank  \\\n",
       "0   (None, None, None, None, None, 3106, None, Non...   \n",
       "1   (None, None, None, None, None, 19065, None, No...   \n",
       "2   (None, None, None, None, None, 95214, None, No...   \n",
       "3   (None, None, None, None, None, 793, None, None...   \n",
       "4   (None, None, None, None, None, 6414, None, Non...   \n",
       "5   (None, None, None, None, None, 11659, None, No...   \n",
       "6   (None, None, None, None, None, 9262, None, Non...   \n",
       "7   (None, None, None, None, None, 21061, None, No...   \n",
       "8   (None, None, None, None, None, 1361, None, Non...   \n",
       "9   (None, None, None, None, None, 18519, None, No...   \n",
       "10  (None, None, None, None, None, 1276, None, Non...   \n",
       "11  (None, None, None, None, None, 17295, None, No...   \n",
       "12  (None, None, None, None, None, 8167, None, Non...   \n",
       "13  (None, None, None, None, None, 10353, None, No...   \n",
       "14  (None, None, None, None, None, 131714, None, N...   \n",
       "15                                               None   \n",
       "\n",
       "                                                title  \n",
       "0                                       The Outsiders  \n",
       "1                                          House of M  \n",
       "2                                        Infinity War  \n",
       "3                 Fables: The Deluxe Edition Book One  \n",
       "4                                          Daytripper  \n",
       "5   John Constantine, Hellblazer, Vol. 1: Original...  \n",
       "6                          Batman: Knightfall, Vol. 1  \n",
       "7                                          Flashpoint  \n",
       "8        Batman Vol. 2: The City of Owls (The New 52)  \n",
       "9                               The Planetary Omnibus  \n",
       "10    Batman Vol. 3: Death of the Family (The New 52)  \n",
       "11                 Batman: Dark Victory (new edition)  \n",
       "12         5-Minute Marvel Stories (5-Minute Stories)  \n",
       "13  World of Reading This is Captain America: Level 1  \n",
       "14    Marvel Comic Book Lot 50 Comics Good Condition!  \n",
       "15                                               None  "
      ]
     },
     "execution_count": 15,
     "metadata": {},
     "output_type": "execute_result"
    }
   ],
   "source": [
    "top_comic_meta"
   ]
  },
  {
   "cell_type": "markdown",
   "metadata": {},
   "source": [
    "In review, see that some of the ASINs that were scraped aren't aligning to relevant material. This could generally be from those numbers being adjusted at some systematically."
   ]
  },
  {
   "cell_type": "code",
   "execution_count": 16,
   "metadata": {},
   "outputs": [],
   "source": [
    "top_meta = top_comic_meta.drop([0, 12, 13, 14, 15])"
   ]
  },
  {
   "cell_type": "markdown",
   "metadata": {},
   "source": [
    "To help get more information, I used the \"Related\" comics feature to grab more ASINs and will use those to help determine if I can find more."
   ]
  },
  {
   "cell_type": "code",
   "execution_count": 25,
   "metadata": {},
   "outputs": [
    {
     "data": {
      "text/plain": [
       "1    ([0785123202, 0785157050, 078512179X, 07851329...\n",
       "2    ([0785131272, 0785131280, 0785166432, 07851565...\n",
       "3    ([1401228798, 1401230970, 1401233902, 14012349...\n",
       "4    ([1935429000, 160309038X, 1603090746, 17704604...\n",
       "5    ([1401233023, 1401235190, 1401236901, 14012380...\n",
       "Name: related, dtype: object"
      ]
     },
     "execution_count": 25,
     "metadata": {},
     "output_type": "execute_result"
    }
   ],
   "source": [
    "top_meta['related'].head()"
   ]
  },
  {
   "cell_type": "markdown",
   "metadata": {},
   "source": [
    "Putting the 'related' ASINs in a list, then creating a new dataframe for them."
   ]
  },
  {
   "cell_type": "code",
   "execution_count": 18,
   "metadata": {},
   "outputs": [],
   "source": [
    "more_comic_ids = list(set([val for meta in top_meta.related.tolist() for val in meta[0]]))"
   ]
  },
  {
   "cell_type": "code",
   "execution_count": 24,
   "metadata": {},
   "outputs": [],
   "source": [
    "more_comic_meta = metadata.filter(col(\"asin\").isin(more_comic_ids)).toPandas()"
   ]
  },
  {
   "cell_type": "code",
   "execution_count": 26,
   "metadata": {},
   "outputs": [
    {
     "data": {
      "text/plain": [
       "0    ([0375714545, 0618871713, 1570614598, 18918304...\n",
       "1    ([0316107093, 0316107107, 0316107298, 03161073...\n",
       "2    ([1606904388, 0345506391, 1606901605, 16069021...\n",
       "3    ([1932664165, 1620101130, 1620100045, 14424659...\n",
       "4    ([1560974273, 0375404538, 0375714545, 03073773...\n",
       "Name: related, dtype: object"
      ]
     },
     "execution_count": 26,
     "metadata": {},
     "output_type": "execute_result"
    }
   ],
   "source": [
    "more_comic_meta['related'].head()"
   ]
  },
  {
   "cell_type": "markdown",
   "metadata": {},
   "source": [
    "Repeating the process one more time to get more samples and better determine some shortcuts."
   ]
  },
  {
   "cell_type": "code",
   "execution_count": 28,
   "metadata": {},
   "outputs": [],
   "source": [
    "more_related = list(set([val for meta in top_meta.related.tolist() for val in meta[0] if meta[0] is not None]))"
   ]
  },
  {
   "cell_type": "code",
   "execution_count": 29,
   "metadata": {},
   "outputs": [],
   "source": [
    "more_meta = metadata.filter(col(\"asin\").isin(more_related)).toPandas()"
   ]
  },
  {
   "cell_type": "code",
   "execution_count": 30,
   "metadata": {},
   "outputs": [
    {
     "data": {
      "text/plain": [
       "0    ([0375714545, 0618871713, 1570614598, 18918304...\n",
       "1    ([0316107093, 0316107107, 0316107298, 03161073...\n",
       "2    ([1606904388, 0345506391, 1606901605, 16069021...\n",
       "3    ([1932664165, 1620101130, 1620100045, 14424659...\n",
       "4    ([1560974273, 0375404538, 0375714545, 03073773...\n",
       "Name: related, dtype: object"
      ]
     },
     "execution_count": 30,
     "metadata": {},
     "output_type": "execute_result"
    }
   ],
   "source": [
    "more_meta['related'].head()"
   ]
  },
  {
   "cell_type": "markdown",
   "metadata": {},
   "source": [
    "Based on reviewing what I was able to gather so far, I found a few patterns to help narrow down a subsection that contains comic books:\n",
    "* A large section of comic books from the publisher Marvel Comics begin with '07851'\n",
    "* A large section of comic books from the publisher DC Comics begin with '14012'\n",
    "* A large section of comic books from the publisher Image Comics begin with '160706'\n",
    "\n",
    "As these are three of the largest publishers, I am going to use an SQL query to find those in these ranges, review the data, and if it looks to fit what I expect, proceed with combining them with my previous findings into one set. "
   ]
  },
  {
   "cell_type": "code",
   "execution_count": 41,
   "metadata": {},
   "outputs": [],
   "source": [
    "image_query = \"\"\"\n",
    "SELECT \n",
    "    asin,\n",
    "    title,\n",
    "    categories\n",
    "FROM metadata\n",
    "    WHERE asin LIKE '160706%'\n",
    "\"\"\""
   ]
  },
  {
   "cell_type": "code",
   "execution_count": 42,
   "metadata": {},
   "outputs": [],
   "source": [
    "metadata.createOrReplaceTempView('metadata')"
   ]
  },
  {
   "cell_type": "code",
   "execution_count": 43,
   "metadata": {},
   "outputs": [],
   "source": [
    "image_meta = spark.sql(image_query).toPandas()"
   ]
  },
  {
   "cell_type": "code",
   "execution_count": 44,
   "metadata": {},
   "outputs": [
    {
     "data": {
      "text/html": [
       "<div>\n",
       "<style scoped>\n",
       "    .dataframe tbody tr th:only-of-type {\n",
       "        vertical-align: middle;\n",
       "    }\n",
       "\n",
       "    .dataframe tbody tr th {\n",
       "        vertical-align: top;\n",
       "    }\n",
       "\n",
       "    .dataframe thead th {\n",
       "        text-align: right;\n",
       "    }\n",
       "</style>\n",
       "<table border=\"1\" class=\"dataframe\">\n",
       "  <thead>\n",
       "    <tr style=\"text-align: right;\">\n",
       "      <th></th>\n",
       "      <th>asin</th>\n",
       "      <th>title</th>\n",
       "      <th>categories</th>\n",
       "    </tr>\n",
       "  </thead>\n",
       "  <tbody>\n",
       "    <tr>\n",
       "      <th>0</th>\n",
       "      <td>1607060051</td>\n",
       "      <td>Screamland</td>\n",
       "      <td>[[Books]]</td>\n",
       "    </tr>\n",
       "    <tr>\n",
       "      <th>1</th>\n",
       "      <td>1607060191</td>\n",
       "      <td>Ted McKeever Library Book 3: Metropol (Bk. 3)</td>\n",
       "      <td>[[Books]]</td>\n",
       "    </tr>\n",
       "    <tr>\n",
       "      <th>2</th>\n",
       "      <td>1607060086</td>\n",
       "      <td>Bruce: The Little Blue Spruce</td>\n",
       "      <td>[[Books]]</td>\n",
       "    </tr>\n",
       "    <tr>\n",
       "      <th>3</th>\n",
       "      <td>1607060043</td>\n",
       "      <td>Outlaw Territory, Vol. 1</td>\n",
       "      <td>[[Books]]</td>\n",
       "    </tr>\n",
       "    <tr>\n",
       "      <th>4</th>\n",
       "      <td>160706023X</td>\n",
       "      <td>Zombie Cop</td>\n",
       "      <td>[[Books]]</td>\n",
       "    </tr>\n",
       "  </tbody>\n",
       "</table>\n",
       "</div>"
      ],
      "text/plain": [
       "         asin                                          title categories\n",
       "0  1607060051                                     Screamland  [[Books]]\n",
       "1  1607060191  Ted McKeever Library Book 3: Metropol (Bk. 3)  [[Books]]\n",
       "2  1607060086                  Bruce: The Little Blue Spruce  [[Books]]\n",
       "3  1607060043                       Outlaw Territory, Vol. 1  [[Books]]\n",
       "4  160706023X                                     Zombie Cop  [[Books]]"
      ]
     },
     "execution_count": 44,
     "metadata": {},
     "output_type": "execute_result"
    }
   ],
   "source": [
    "image_meta.head()"
   ]
  },
  {
   "cell_type": "code",
   "execution_count": 38,
   "metadata": {},
   "outputs": [],
   "source": [
    "marvel_query = \"\"\"\n",
    "SELECT \n",
    "    asin,\n",
    "    title,\n",
    "    categories\n",
    "FROM \n",
    "    metadata\n",
    "WHERE asin LIKE '07851%'\n",
    "\"\"\""
   ]
  },
  {
   "cell_type": "code",
   "execution_count": 39,
   "metadata": {},
   "outputs": [],
   "source": [
    "metadata.createOrReplaceTempView('metadata')"
   ]
  },
  {
   "cell_type": "code",
   "execution_count": 40,
   "metadata": {},
   "outputs": [],
   "source": [
    "marvel_meta = spark.sql(marvel_query).toPandas()"
   ]
  },
  {
   "cell_type": "code",
   "execution_count": 49,
   "metadata": {},
   "outputs": [
    {
     "data": {
      "text/html": [
       "<div>\n",
       "<style scoped>\n",
       "    .dataframe tbody tr th:only-of-type {\n",
       "        vertical-align: middle;\n",
       "    }\n",
       "\n",
       "    .dataframe tbody tr th {\n",
       "        vertical-align: top;\n",
       "    }\n",
       "\n",
       "    .dataframe thead th {\n",
       "        text-align: right;\n",
       "    }\n",
       "</style>\n",
       "<table border=\"1\" class=\"dataframe\">\n",
       "  <thead>\n",
       "    <tr style=\"text-align: right;\">\n",
       "      <th></th>\n",
       "      <th>asin</th>\n",
       "      <th>title</th>\n",
       "      <th>categories</th>\n",
       "    </tr>\n",
       "  </thead>\n",
       "  <tbody>\n",
       "    <tr>\n",
       "      <th>0</th>\n",
       "      <td>0785100016</td>\n",
       "      <td>Wolverine: Killing</td>\n",
       "      <td>[[Books]]</td>\n",
       "    </tr>\n",
       "    <tr>\n",
       "      <th>1</th>\n",
       "      <td>0785100555</td>\n",
       "      <td>The Punisher, a man named Frank</td>\n",
       "      <td>[[Books]]</td>\n",
       "    </tr>\n",
       "    <tr>\n",
       "      <th>2</th>\n",
       "      <td>078510027X</td>\n",
       "      <td>Spider-Man: Round Robin : The Sidekick's Revenge</td>\n",
       "      <td>[[Books]]</td>\n",
       "    </tr>\n",
       "    <tr>\n",
       "      <th>3</th>\n",
       "      <td>0785100245</td>\n",
       "      <td>Daredevil - Fall from Grace</td>\n",
       "      <td>[[Books]]</td>\n",
       "    </tr>\n",
       "    <tr>\n",
       "      <th>4</th>\n",
       "      <td>0785100717</td>\n",
       "      <td>The Best of Marvel 1994</td>\n",
       "      <td>[[Books]]</td>\n",
       "    </tr>\n",
       "  </tbody>\n",
       "</table>\n",
       "</div>"
      ],
      "text/plain": [
       "         asin                                             title categories\n",
       "0  0785100016                                Wolverine: Killing  [[Books]]\n",
       "1  0785100555                   The Punisher, a man named Frank  [[Books]]\n",
       "2  078510027X  Spider-Man: Round Robin : The Sidekick's Revenge  [[Books]]\n",
       "3  0785100245                       Daredevil - Fall from Grace  [[Books]]\n",
       "4  0785100717                           The Best of Marvel 1994  [[Books]]"
      ]
     },
     "execution_count": 49,
     "metadata": {},
     "output_type": "execute_result"
    }
   ],
   "source": [
    "marvel_meta.head()"
   ]
  },
  {
   "cell_type": "code",
   "execution_count": 45,
   "metadata": {},
   "outputs": [],
   "source": [
    "dc_query = \"\"\"\n",
    "SELECT \n",
    "    asin,\n",
    "    title,\n",
    "    categories\n",
    "    FROM metadata\n",
    "    WHERE asin LIKE '14012%'\n",
    "\"\"\""
   ]
  },
  {
   "cell_type": "code",
   "execution_count": 46,
   "metadata": {},
   "outputs": [],
   "source": [
    "metadata.createOrReplaceTempView('metadata')"
   ]
  },
  {
   "cell_type": "code",
   "execution_count": 47,
   "metadata": {},
   "outputs": [],
   "source": [
    "dc_meta = spark.sql(dc_query).toPandas()"
   ]
  },
  {
   "cell_type": "code",
   "execution_count": 48,
   "metadata": {},
   "outputs": [
    {
     "data": {
      "text/html": [
       "<div>\n",
       "<style scoped>\n",
       "    .dataframe tbody tr th:only-of-type {\n",
       "        vertical-align: middle;\n",
       "    }\n",
       "\n",
       "    .dataframe tbody tr th {\n",
       "        vertical-align: top;\n",
       "    }\n",
       "\n",
       "    .dataframe thead th {\n",
       "        text-align: right;\n",
       "    }\n",
       "</style>\n",
       "<table border=\"1\" class=\"dataframe\">\n",
       "  <thead>\n",
       "    <tr style=\"text-align: right;\">\n",
       "      <th></th>\n",
       "      <th>asin</th>\n",
       "      <th>title</th>\n",
       "      <th>categories</th>\n",
       "    </tr>\n",
       "  </thead>\n",
       "  <tbody>\n",
       "    <tr>\n",
       "      <th>0</th>\n",
       "      <td>1401200168</td>\n",
       "      <td>Green Lantern: Emerald Dawn II</td>\n",
       "      <td>[[Books]]</td>\n",
       "    </tr>\n",
       "    <tr>\n",
       "      <th>1</th>\n",
       "      <td>1401200141</td>\n",
       "      <td>Atom, The - Archives, Volume 2 (DC Archive Edi...</td>\n",
       "      <td>[[Books]]</td>\n",
       "    </tr>\n",
       "    <tr>\n",
       "      <th>2</th>\n",
       "      <td>1401200338</td>\n",
       "      <td>High Roads (Cliffhanger!)</td>\n",
       "      <td>[[Books]]</td>\n",
       "    </tr>\n",
       "    <tr>\n",
       "      <th>3</th>\n",
       "      <td>1401200346</td>\n",
       "      <td>Batman/Deathblow: After the Fire (Batman Beyon...</td>\n",
       "      <td>[[Books]]</td>\n",
       "    </tr>\n",
       "    <tr>\n",
       "      <th>4</th>\n",
       "      <td>1401200370</td>\n",
       "      <td>Batman: Absolution</td>\n",
       "      <td>[[Books]]</td>\n",
       "    </tr>\n",
       "  </tbody>\n",
       "</table>\n",
       "</div>"
      ],
      "text/plain": [
       "         asin                                              title categories\n",
       "0  1401200168                     Green Lantern: Emerald Dawn II  [[Books]]\n",
       "1  1401200141  Atom, The - Archives, Volume 2 (DC Archive Edi...  [[Books]]\n",
       "2  1401200338                          High Roads (Cliffhanger!)  [[Books]]\n",
       "3  1401200346  Batman/Deathblow: After the Fire (Batman Beyon...  [[Books]]\n",
       "4  1401200370                                 Batman: Absolution  [[Books]]"
      ]
     },
     "execution_count": 48,
     "metadata": {},
     "output_type": "execute_result"
    }
   ],
   "source": [
    "dc_meta.head()"
   ]
  },
  {
   "cell_type": "markdown",
   "metadata": {},
   "source": [
    "Awesome! All of those looked good in further exploration of each. With that, I combined all of the previous results with these new ones to have my working set of comic book ASINs."
   ]
  },
  {
   "cell_type": "code",
   "execution_count": 50,
   "metadata": {},
   "outputs": [],
   "source": [
    "top_merge = top_comic_meta[['asin', 'title', 'categories']]\n",
    "m1_merge = more_comic_meta[['asin', 'title', 'categories']]\n",
    "m2_merge = more_meta[['asin', 'title', 'categories']]"
   ]
  },
  {
   "cell_type": "code",
   "execution_count": 79,
   "metadata": {},
   "outputs": [
    {
     "data": {
      "text/html": [
       "<div>\n",
       "<style scoped>\n",
       "    .dataframe tbody tr th:only-of-type {\n",
       "        vertical-align: middle;\n",
       "    }\n",
       "\n",
       "    .dataframe tbody tr th {\n",
       "        vertical-align: top;\n",
       "    }\n",
       "\n",
       "    .dataframe thead th {\n",
       "        text-align: right;\n",
       "    }\n",
       "</style>\n",
       "<table border=\"1\" class=\"dataframe\">\n",
       "  <thead>\n",
       "    <tr style=\"text-align: right;\">\n",
       "      <th></th>\n",
       "      <th>asin</th>\n",
       "      <th>title</th>\n",
       "      <th>categories</th>\n",
       "    </tr>\n",
       "  </thead>\n",
       "  <tbody>\n",
       "    <tr>\n",
       "      <th>0</th>\n",
       "      <td>014038572X</td>\n",
       "      <td>The Outsiders</td>\n",
       "      <td>[['Books']]</td>\n",
       "    </tr>\n",
       "    <tr>\n",
       "      <th>1</th>\n",
       "      <td>0785117210</td>\n",
       "      <td>House of M</td>\n",
       "      <td>[['Books']]</td>\n",
       "    </tr>\n",
       "    <tr>\n",
       "      <th>2</th>\n",
       "      <td>0785121056</td>\n",
       "      <td>Infinity War</td>\n",
       "      <td>[['Books']]</td>\n",
       "    </tr>\n",
       "    <tr>\n",
       "      <th>3</th>\n",
       "      <td>140122427X</td>\n",
       "      <td>Fables: The Deluxe Edition Book One</td>\n",
       "      <td>[['Books']]</td>\n",
       "    </tr>\n",
       "    <tr>\n",
       "      <th>4</th>\n",
       "      <td>1401229697</td>\n",
       "      <td>Daytripper</td>\n",
       "      <td>[['Books']]</td>\n",
       "    </tr>\n",
       "  </tbody>\n",
       "</table>\n",
       "</div>"
      ],
      "text/plain": [
       "         asin                                title   categories\n",
       "0  014038572X                        The Outsiders  [['Books']]\n",
       "1  0785117210                           House of M  [['Books']]\n",
       "2  0785121056                         Infinity War  [['Books']]\n",
       "3  140122427X  Fables: The Deluxe Edition Book One  [['Books']]\n",
       "4  1401229697                           Daytripper  [['Books']]"
      ]
     },
     "execution_count": 79,
     "metadata": {},
     "output_type": "execute_result"
    }
   ],
   "source": [
    "all_comic_df = pd.concat([top_merge, m1_merge, m2_merge, image_meta, marvel_meta, dc_meta])\n",
    "all_comic_df['categories'] = all_comic_df['categories'].astype(str)\n",
    "all_comic_df.head()"
   ]
  },
  {
   "cell_type": "markdown",
   "metadata": {},
   "source": [
    "Next, I did some additional cleaning of my comic books ASINs:\n",
    "* Dropped any duplicate rows\n",
    "* Found anything that was not categorized as a Book and removed it, as well as a couple more edge cases that I wanted to drop. \n",
    "* Exported this list to a csv to preserve my efforts and not have to extract from the metadata dataset any further."
   ]
  },
  {
   "cell_type": "code",
   "execution_count": 80,
   "metadata": {},
   "outputs": [],
   "source": [
    "all_comics_df = all_comic_df.drop_duplicates()"
   ]
  },
  {
   "cell_type": "code",
   "execution_count": 81,
   "metadata": {},
   "outputs": [
    {
     "name": "stderr",
     "output_type": "stream",
     "text": [
      "/Users/nawjux/anaconda3/envs/learn-env/lib/python3.6/site-packages/ipykernel_launcher.py:1: SettingWithCopyWarning: \n",
      "A value is trying to be set on a copy of a slice from a DataFrame.\n",
      "Try using .loc[row_indexer,col_indexer] = value instead\n",
      "\n",
      "See the caveats in the documentation: http://pandas.pydata.org/pandas-docs/stable/indexing.html#indexing-view-versus-copy\n",
      "  \"\"\"Entry point for launching an IPython kernel.\n"
     ]
    }
   ],
   "source": [
    "all_comics_df['categories'] = all_comics_df['categories'].apply(lambda x: re.sub(\"\\[|\\]|\\'\", \"\", x))"
   ]
  },
  {
   "cell_type": "code",
   "execution_count": 87,
   "metadata": {},
   "outputs": [
    {
     "data": {
      "text/html": [
       "<div>\n",
       "<style scoped>\n",
       "    .dataframe tbody tr th:only-of-type {\n",
       "        vertical-align: middle;\n",
       "    }\n",
       "\n",
       "    .dataframe tbody tr th {\n",
       "        vertical-align: top;\n",
       "    }\n",
       "\n",
       "    .dataframe thead th {\n",
       "        text-align: right;\n",
       "    }\n",
       "</style>\n",
       "<table border=\"1\" class=\"dataframe\">\n",
       "  <thead>\n",
       "    <tr style=\"text-align: right;\">\n",
       "      <th></th>\n",
       "      <th>asin</th>\n",
       "      <th>title</th>\n",
       "      <th>categories</th>\n",
       "    </tr>\n",
       "  </thead>\n",
       "  <tbody>\n",
       "    <tr>\n",
       "      <th>1</th>\n",
       "      <td>0785117210</td>\n",
       "      <td>House of M</td>\n",
       "      <td>Books</td>\n",
       "    </tr>\n",
       "    <tr>\n",
       "      <th>2</th>\n",
       "      <td>0785121056</td>\n",
       "      <td>Infinity War</td>\n",
       "      <td>Books</td>\n",
       "    </tr>\n",
       "    <tr>\n",
       "      <th>3</th>\n",
       "      <td>140122427X</td>\n",
       "      <td>Fables: The Deluxe Edition Book One</td>\n",
       "      <td>Books</td>\n",
       "    </tr>\n",
       "    <tr>\n",
       "      <th>4</th>\n",
       "      <td>1401229697</td>\n",
       "      <td>Daytripper</td>\n",
       "      <td>Books</td>\n",
       "    </tr>\n",
       "    <tr>\n",
       "      <th>5</th>\n",
       "      <td>1401230067</td>\n",
       "      <td>John Constantine, Hellblazer, Vol. 1: Original...</td>\n",
       "      <td>Books</td>\n",
       "    </tr>\n",
       "  </tbody>\n",
       "</table>\n",
       "</div>"
      ],
      "text/plain": [
       "         asin                                              title categories\n",
       "1  0785117210                                         House of M      Books\n",
       "2  0785121056                                       Infinity War      Books\n",
       "3  140122427X                Fables: The Deluxe Edition Book One      Books\n",
       "4  1401229697                                         Daytripper      Books\n",
       "5  1401230067  John Constantine, Hellblazer, Vol. 1: Original...      Books"
      ]
     },
     "execution_count": 87,
     "metadata": {},
     "output_type": "execute_result"
    }
   ],
   "source": [
    "all_comics_df.head()"
   ]
  },
  {
   "cell_type": "code",
   "execution_count": 83,
   "metadata": {},
   "outputs": [
    {
     "data": {
      "text/html": [
       "<div>\n",
       "<style scoped>\n",
       "    .dataframe tbody tr th:only-of-type {\n",
       "        vertical-align: middle;\n",
       "    }\n",
       "\n",
       "    .dataframe tbody tr th {\n",
       "        vertical-align: top;\n",
       "    }\n",
       "\n",
       "    .dataframe thead th {\n",
       "        text-align: right;\n",
       "    }\n",
       "</style>\n",
       "<table border=\"1\" class=\"dataframe\">\n",
       "  <thead>\n",
       "    <tr style=\"text-align: right;\">\n",
       "      <th></th>\n",
       "      <th>asin</th>\n",
       "      <th>title</th>\n",
       "      <th>categories</th>\n",
       "    </tr>\n",
       "  </thead>\n",
       "  <tbody>\n",
       "    <tr>\n",
       "      <th>15</th>\n",
       "      <td>B00CU06XFY</td>\n",
       "      <td>None</td>\n",
       "      <td>Books, Comics &amp; Graphic Novels, Graphic Novels...</td>\n",
       "    </tr>\n",
       "    <tr>\n",
       "      <th>380</th>\n",
       "      <td>B00CENWUYK</td>\n",
       "      <td>None</td>\n",
       "      <td>Movies &amp; TV, Movies</td>\n",
       "    </tr>\n",
       "    <tr>\n",
       "      <th>369</th>\n",
       "      <td>1401209017</td>\n",
       "      <td>None</td>\n",
       "      <td>None</td>\n",
       "    </tr>\n",
       "    <tr>\n",
       "      <th>777</th>\n",
       "      <td>1401216420</td>\n",
       "      <td>None</td>\n",
       "      <td>None</td>\n",
       "    </tr>\n",
       "    <tr>\n",
       "      <th>1092</th>\n",
       "      <td>1401220428</td>\n",
       "      <td>Vertigo Tarot Deck Set 20th Anniversary Edition</td>\n",
       "      <td>Toys &amp; Games</td>\n",
       "    </tr>\n",
       "  </tbody>\n",
       "</table>\n",
       "</div>"
      ],
      "text/plain": [
       "            asin                                            title  \\\n",
       "15    B00CU06XFY                                             None   \n",
       "380   B00CENWUYK                                             None   \n",
       "369   1401209017                                             None   \n",
       "777   1401216420                                             None   \n",
       "1092  1401220428  Vertigo Tarot Deck Set 20th Anniversary Edition   \n",
       "\n",
       "                                             categories  \n",
       "15    Books, Comics & Graphic Novels, Graphic Novels...  \n",
       "380                                 Movies & TV, Movies  \n",
       "369                                                None  \n",
       "777                                                None  \n",
       "1092                                       Toys & Games  "
      ]
     },
     "execution_count": 83,
     "metadata": {},
     "output_type": "execute_result"
    }
   ],
   "source": [
    "all_comics_df[all_comics_df['categories'] != 'Books']"
   ]
  },
  {
   "cell_type": "code",
   "execution_count": 85,
   "metadata": {},
   "outputs": [],
   "source": [
    "all_comics_df = all_comics_df.drop([0,12,13,14,15,380,369,777,1092], axis=0)"
   ]
  },
  {
   "cell_type": "code",
   "execution_count": 86,
   "metadata": {},
   "outputs": [],
   "source": [
    "all_comics_df.to_csv('data/all_comic_asin.csv')"
   ]
  },
  {
   "cell_type": "markdown",
   "metadata": {},
   "source": [
    "### 2. Find comic book reviews in Books"
   ]
  },
  {
   "cell_type": "code",
   "execution_count": 88,
   "metadata": {},
   "outputs": [],
   "source": [
    "comic_reviews = books_df.filter(col('asin').isin(all_comics_df.asin.tolist()))"
   ]
  },
  {
   "cell_type": "code",
   "execution_count": 89,
   "metadata": {},
   "outputs": [
    {
     "name": "stdout",
     "output_type": "stream",
     "text": [
      "Number of comic book reviews: 57543\n"
     ]
    }
   ],
   "source": [
    "print(f\"Number of comic book reviews: {comic_reviews.count()}\")"
   ]
  },
  {
   "cell_type": "code",
   "execution_count": 104,
   "metadata": {},
   "outputs": [
    {
     "name": "stdout",
     "output_type": "stream",
     "text": [
      "+----------+-------+-------+--------------------+-----------+--------------+--------------------+--------------------+--------------+\n",
      "|      asin|helpful|overall|          reviewText| reviewTime|    reviewerID|        reviewerName|             summary|unixReviewTime|\n",
      "+----------+-------+-------+--------------------+-----------+--------------+--------------------+--------------------+--------------+\n",
      "|0316107255| [1, 1]|    4.0|PENGUIN DREAMS AN...|02 19, 2014|A3NQU1649SH0Q4|Allen Smalling \"E...|Okay, but no coll...|    1392768000|\n",
      "+----------+-------+-------+--------------------+-----------+--------------+--------------------+--------------------+--------------+\n",
      "only showing top 1 row\n",
      "\n"
     ]
    }
   ],
   "source": [
    "comic_reviews.show(1)"
   ]
  },
  {
   "cell_type": "code",
   "execution_count": 106,
   "metadata": {},
   "outputs": [],
   "source": [
    "comic_reviews_export = comic_reviews.select(['asin', 'overall', 'reviewText', 'reviewerID'])"
   ]
  },
  {
   "cell_type": "code",
   "execution_count": 139,
   "metadata": {},
   "outputs": [],
   "source": [
    "# Exporting data to make easier to work with\n",
    "comic_reviews_export.repartition(1).write.json('data/all_comic_reviews.json')"
   ]
  },
  {
   "cell_type": "code",
   "execution_count": 144,
   "metadata": {},
   "outputs": [],
   "source": [
    "comic_reviews_df = spark.read.json(\"data/all_comic_reviews.json\")"
   ]
  },
  {
   "cell_type": "code",
   "execution_count": 145,
   "metadata": {},
   "outputs": [
    {
     "name": "stdout",
     "output_type": "stream",
     "text": [
      "+----------+-------+--------------------+--------------+\n",
      "|      asin|overall|          reviewText|    reviewerID|\n",
      "+----------+-------+--------------------+--------------+\n",
      "|0316107255|    4.0|PENGUIN DREAMS AN...|A3NQU1649SH0Q4|\n",
      "+----------+-------+--------------------+--------------+\n",
      "only showing top 1 row\n",
      "\n"
     ]
    }
   ],
   "source": [
    "comic_reviews_df.show(1)"
   ]
  },
  {
   "cell_type": "markdown",
   "metadata": {},
   "source": [
    "### 3. Find movie/tv reviews by comic book reviewers"
   ]
  },
  {
   "cell_type": "code",
   "execution_count": 114,
   "metadata": {},
   "outputs": [],
   "source": [
    "good_users = list(set(comic_reviews_df.select('reviewerID').collect()))"
   ]
  },
  {
   "cell_type": "code",
   "execution_count": 116,
   "metadata": {},
   "outputs": [],
   "source": [
    "# Ids are still stored in Spark Rows, so this removes them into a unique list\n",
    "good_user_ids = [g[0] for g in good_users]"
   ]
  },
  {
   "cell_type": "code",
   "execution_count": 117,
   "metadata": {},
   "outputs": [],
   "source": [
    "mtv_reviews = movies_df.filter(col('reviewerID').isin(good_user_ids))"
   ]
  },
  {
   "cell_type": "code",
   "execution_count": 118,
   "metadata": {},
   "outputs": [
    {
     "name": "stdout",
     "output_type": "stream",
     "text": [
      "Number of unique movie/tv reviews for comic book reviewers:149189\n"
     ]
    }
   ],
   "source": [
    "print(f\"Number of unique movie/tv reviews for comic book reviewers:{mtv_reviews.count()}\")"
   ]
  },
  {
   "cell_type": "code",
   "execution_count": 119,
   "metadata": {},
   "outputs": [],
   "source": [
    "movie_and_comic_reviewers = list(set(mtv_reviews.select('reviewerID').collect()))"
   ]
  },
  {
   "cell_type": "code",
   "execution_count": 120,
   "metadata": {},
   "outputs": [
    {
     "name": "stdout",
     "output_type": "stream",
     "text": [
      "Number of users who have rated both comics and movies/tv: 10366\n"
     ]
    }
   ],
   "source": [
    "print(f\"Number of users who have rated both comics and movies/tv: {len(movie_and_comic_reviewers)}\")"
   ]
  },
  {
   "cell_type": "code",
   "execution_count": 121,
   "metadata": {},
   "outputs": [],
   "source": [
    "mtv_reviews_export = mtv_reviews.select(['asin', 'overall', 'reviewText', 'reviewerID'])"
   ]
  },
  {
   "cell_type": "markdown",
   "metadata": {},
   "source": [
    "Saving the metadata on asociated movies/tv for later model interpretation:"
   ]
  },
  {
   "cell_type": "code",
   "execution_count": 163,
   "metadata": {},
   "outputs": [],
   "source": [
    "mtv_asins = list(set(mtv_reviews.select('asin').collect()))\n",
    "mtv_asins = [a[0] for a in mtv_asins]\n",
    "all_mtv_asins = metadata.filter(col('asin').isin(mtv_asins))"
   ]
  },
  {
   "cell_type": "code",
   "execution_count": 165,
   "metadata": {},
   "outputs": [],
   "source": [
    "all_mtv_asins.repartition(1).write.json('all_mtv_asin')"
   ]
  },
  {
   "cell_type": "code",
   "execution_count": 147,
   "metadata": {},
   "outputs": [],
   "source": [
    "# Exporting data to make easier to work with\n",
    "mtv_reviews_export.repartition(5).write.json('data/all_movietv_jsons')"
   ]
  },
  {
   "cell_type": "code",
   "execution_count": 148,
   "metadata": {},
   "outputs": [],
   "source": [
    "mtv_reviews_df = spark.read.json('data/all_movietv_jsons/*.json')"
   ]
  },
  {
   "cell_type": "code",
   "execution_count": 149,
   "metadata": {},
   "outputs": [
    {
     "name": "stdout",
     "output_type": "stream",
     "text": [
      "+----------+-------+--------------------+--------------+\n",
      "|      asin|overall|          reviewText|    reviewerID|\n",
      "+----------+-------+--------------------+--------------+\n",
      "|0767823796|    4.0|&quot;John Carpen...|A2NJO6YE954DBH|\n",
      "+----------+-------+--------------------+--------------+\n",
      "only showing top 1 row\n",
      "\n"
     ]
    }
   ],
   "source": [
    "mtv_reviews_df.show(1)"
   ]
  },
  {
   "cell_type": "markdown",
   "metadata": {},
   "source": [
    "### 4. Filtering comic reviews by those who rated both comics & movies/tv"
   ]
  },
  {
   "cell_type": "code",
   "execution_count": 131,
   "metadata": {},
   "outputs": [],
   "source": [
    "# Unpacking reviews from previous reviewers list\n",
    "movie_and_comic_reviewers = [reviewer[0] for reviewer in movie_and_comic_reviewers]"
   ]
  },
  {
   "cell_type": "code",
   "execution_count": 135,
   "metadata": {},
   "outputs": [
    {
     "data": {
      "text/plain": [
       "['A1R7Q24DI4OJE0',\n",
       " 'A2KGYA96OKM5YH',\n",
       " 'A1RK6OE88XA0TF',\n",
       " 'A14VECUBFP6K7D',\n",
       " 'A1ZYOFUCY9KQX7']"
      ]
     },
     "execution_count": 135,
     "metadata": {},
     "output_type": "execute_result"
    }
   ],
   "source": [
    "# Quick visual check on these ids\n",
    "movie_and_comic_reviewers[:5]"
   ]
  },
  {
   "cell_type": "code",
   "execution_count": 155,
   "metadata": {},
   "outputs": [],
   "source": [
    "mtv_and_comic_reviews = comic_reviews_df.filter(col('reviewerID').isin(movie_and_comic_reviewers))"
   ]
  },
  {
   "cell_type": "markdown",
   "metadata": {},
   "source": [
    "Comic reviews from reviewers who also reviewed movies/tv"
   ]
  },
  {
   "cell_type": "code",
   "execution_count": 156,
   "metadata": {},
   "outputs": [
    {
     "data": {
      "text/plain": [
       "30628"
      ]
     },
     "execution_count": 156,
     "metadata": {},
     "output_type": "execute_result"
    }
   ],
   "source": [
    "mtv_and_comic_reviews.count()"
   ]
  },
  {
   "cell_type": "code",
   "execution_count": 157,
   "metadata": {},
   "outputs": [
    {
     "name": "stdout",
     "output_type": "stream",
     "text": [
      "+----------+-------+--------------------+--------------+\n",
      "|      asin|overall|          reviewText|    reviewerID|\n",
      "+----------+-------+--------------------+--------------+\n",
      "|0316107255|    4.0|PENGUIN DREAMS AN...|A3NQU1649SH0Q4|\n",
      "+----------+-------+--------------------+--------------+\n",
      "only showing top 1 row\n",
      "\n"
     ]
    }
   ],
   "source": [
    "mtv_and_comic_reviews.show(1)"
   ]
  },
  {
   "cell_type": "code",
   "execution_count": 159,
   "metadata": {},
   "outputs": [],
   "source": [
    "# Exporting this new set of comic reviews to JSON\n",
    "mtv_and_comic_reviews.repartition(1).write.json(\"data/comic_and_movie\")"
   ]
  },
  {
   "cell_type": "markdown",
   "metadata": {},
   "source": [
    "Looks like a good start! From here, I moved to the my next notebook to merge, clean, and model my data further. "
   ]
  },
  {
   "cell_type": "markdown",
   "metadata": {},
   "source": [
    "# Formal content cutoff here, move rest of materials to second notebook"
   ]
  },
  {
   "cell_type": "code",
   "execution_count": 253,
   "metadata": {},
   "outputs": [],
   "source": [
    "testing = metadata_split.limit(5).toPandas()"
   ]
  },
  {
   "cell_type": "code",
   "execution_count": null,
   "metadata": {},
   "outputs": [],
   "source": []
  },
  {
   "cell_type": "code",
   "execution_count": 174,
   "metadata": {},
   "outputs": [
    {
     "data": {
      "text/plain": [
       "[('_corrupt_record', 'string'),\n",
       " ('asin', 'string'),\n",
       " ('brand', 'string'),\n",
       " ('categories', 'array<array<string>>'),\n",
       " ('description', 'string'),\n",
       " ('imUrl', 'string'),\n",
       " ('price', 'double'),\n",
       " ('related',\n",
       "  'struct<also_bought:array<string>,also_viewed:array<string>,bought_together:array<string>,buy_after_viewing:array<string>>'),\n",
       " ('salesRank',\n",
       "  'struct<Appliances:bigint,Arts, Crafts & Sewing:bigint,Automotive:bigint,Baby:bigint,Beauty:bigint,Books:bigint,Camera &amp; Photo:bigint,Cell Phones & Accessories:bigint,Clothing:bigint,Computers & Accessories:bigint,Electronics:bigint,Gift Cards Store:bigint,Grocery & Gourmet Food:bigint,Health & Personal Care:bigint,Home &amp; Kitchen:bigint,Home Improvement:bigint,Industrial & Scientific:bigint,Jewelry:bigint,Kitchen & Dining:bigint,Magazines:bigint,Movies & TV:bigint,Music:bigint,Musical Instruments:bigint,Office Products:bigint,Patio, Lawn & Garden:bigint,Pet Supplies:bigint,Prime Pantry:bigint,Shoes:bigint,Software:bigint,Sports &amp; Outdoors:bigint,Toys & Games:bigint,Video Games:bigint,Watches:bigint>'),\n",
       " ('title', 'string')]"
      ]
     },
     "execution_count": 174,
     "metadata": {},
     "output_type": "execute_result"
    }
   ],
   "source": [
    "metadata.dtypes"
   ]
  },
  {
   "cell_type": "code",
   "execution_count": 36,
   "metadata": {},
   "outputs": [],
   "source": [
    "comic_readers = list(set(dc_reviews['reviewerID'].tolist()))"
   ]
  },
  {
   "cell_type": "code",
   "execution_count": 38,
   "metadata": {},
   "outputs": [],
   "source": [
    "movie_reviews = movies_df.filter(col(\"reviewerID\").isin(comic_readers)).toPandas()"
   ]
  },
  {
   "cell_type": "code",
   "execution_count": 39,
   "metadata": {},
   "outputs": [
    {
     "data": {
      "text/plain": [
       "(31343, 9)"
      ]
     },
     "execution_count": 39,
     "metadata": {},
     "output_type": "execute_result"
    }
   ],
   "source": [
    "movie_reviews.shape"
   ]
  },
  {
   "cell_type": "code",
   "execution_count": 50,
   "metadata": {},
   "outputs": [
    {
     "data": {
      "text/html": [
       "<div>\n",
       "<style scoped>\n",
       "    .dataframe tbody tr th:only-of-type {\n",
       "        vertical-align: middle;\n",
       "    }\n",
       "\n",
       "    .dataframe tbody tr th {\n",
       "        vertical-align: top;\n",
       "    }\n",
       "\n",
       "    .dataframe thead th {\n",
       "        text-align: right;\n",
       "    }\n",
       "</style>\n",
       "<table border=\"1\" class=\"dataframe\">\n",
       "  <thead>\n",
       "    <tr style=\"text-align: right;\">\n",
       "      <th></th>\n",
       "      <th>asin</th>\n",
       "      <th>helpful</th>\n",
       "      <th>overall</th>\n",
       "      <th>reviewText</th>\n",
       "      <th>reviewTime</th>\n",
       "      <th>reviewerID</th>\n",
       "      <th>reviewerName</th>\n",
       "      <th>summary</th>\n",
       "      <th>unixReviewTime</th>\n",
       "    </tr>\n",
       "  </thead>\n",
       "  <tbody>\n",
       "    <tr>\n",
       "      <th>0</th>\n",
       "      <td>0005119367</td>\n",
       "      <td>[0, 0]</td>\n",
       "      <td>5.0</td>\n",
       "      <td>I've watched this movie every six months or so...</td>\n",
       "      <td>06 11, 2012</td>\n",
       "      <td>AE62TIY3899YL</td>\n",
       "      <td>Daniel J. Silva \"Superman_242\"</td>\n",
       "      <td>Best of the Bible Collection AND best telling ...</td>\n",
       "      <td>1339372800</td>\n",
       "    </tr>\n",
       "    <tr>\n",
       "      <th>1</th>\n",
       "      <td>0307141950</td>\n",
       "      <td>[4, 4]</td>\n",
       "      <td>5.0</td>\n",
       "      <td>I suppose giving this video a 5-star is rather...</td>\n",
       "      <td>01 24, 2003</td>\n",
       "      <td>A2XVRCU5DQBULH</td>\n",
       "      <td>L. Varnau \"nerff20\"</td>\n",
       "      <td>From the voice of Little Critter...</td>\n",
       "      <td>1043366400</td>\n",
       "    </tr>\n",
       "    <tr>\n",
       "      <th>2</th>\n",
       "      <td>0307142493</td>\n",
       "      <td>[3, 3]</td>\n",
       "      <td>5.0</td>\n",
       "      <td>It is rather ironic to think that the elfin Mi...</td>\n",
       "      <td>12 3, 2003</td>\n",
       "      <td>A2NJO6YE954DBH</td>\n",
       "      <td>Lawrance M. Bernabo</td>\n",
       "      <td>The charming story of how Kris Kringle became ...</td>\n",
       "      <td>1070409600</td>\n",
       "    </tr>\n",
       "    <tr>\n",
       "      <th>3</th>\n",
       "      <td>0307514161</td>\n",
       "      <td>[1, 1]</td>\n",
       "      <td>5.0</td>\n",
       "      <td>In just telling the story in the song \"Rudolph...</td>\n",
       "      <td>12 25, 2005</td>\n",
       "      <td>A2NJO6YE954DBH</td>\n",
       "      <td>Lawrance M. Bernabo</td>\n",
       "      <td>The deservedly beloved 1964 Bass-Rakin televis...</td>\n",
       "      <td>1135468800</td>\n",
       "    </tr>\n",
       "    <tr>\n",
       "      <th>4</th>\n",
       "      <td>0307514161</td>\n",
       "      <td>[0, 0]</td>\n",
       "      <td>5.0</td>\n",
       "      <td>I bought a bunch of these old holiday classics...</td>\n",
       "      <td>12 19, 2010</td>\n",
       "      <td>A3PZ88WU7RPTP6</td>\n",
       "      <td>TeamQuinnHQ</td>\n",
       "      <td>Mine!</td>\n",
       "      <td>1292716800</td>\n",
       "    </tr>\n",
       "  </tbody>\n",
       "</table>\n",
       "</div>"
      ],
      "text/plain": [
       "         asin helpful  overall  \\\n",
       "0  0005119367  [0, 0]      5.0   \n",
       "1  0307141950  [4, 4]      5.0   \n",
       "2  0307142493  [3, 3]      5.0   \n",
       "3  0307514161  [1, 1]      5.0   \n",
       "4  0307514161  [0, 0]      5.0   \n",
       "\n",
       "                                          reviewText   reviewTime  \\\n",
       "0  I've watched this movie every six months or so...  06 11, 2012   \n",
       "1  I suppose giving this video a 5-star is rather...  01 24, 2003   \n",
       "2  It is rather ironic to think that the elfin Mi...   12 3, 2003   \n",
       "3  In just telling the story in the song \"Rudolph...  12 25, 2005   \n",
       "4  I bought a bunch of these old holiday classics...  12 19, 2010   \n",
       "\n",
       "       reviewerID                    reviewerName  \\\n",
       "0   AE62TIY3899YL  Daniel J. Silva \"Superman_242\"   \n",
       "1  A2XVRCU5DQBULH             L. Varnau \"nerff20\"   \n",
       "2  A2NJO6YE954DBH             Lawrance M. Bernabo   \n",
       "3  A2NJO6YE954DBH             Lawrance M. Bernabo   \n",
       "4  A3PZ88WU7RPTP6                     TeamQuinnHQ   \n",
       "\n",
       "                                             summary  unixReviewTime  \n",
       "0  Best of the Bible Collection AND best telling ...      1339372800  \n",
       "1                From the voice of Little Critter...      1043366400  \n",
       "2  The charming story of how Kris Kringle became ...      1070409600  \n",
       "3  The deservedly beloved 1964 Bass-Rakin televis...      1135468800  \n",
       "4                                              Mine!      1292716800  "
      ]
     },
     "execution_count": 50,
     "metadata": {},
     "output_type": "execute_result"
    }
   ],
   "source": [
    "movie_reviews.head()"
   ]
  },
  {
   "cell_type": "code",
   "execution_count": 51,
   "metadata": {},
   "outputs": [],
   "source": [
    "movie_reviews.drop(['helpful','reviewText','reviewTime','reviewerName','summary','unixReviewTime'], axis=1, inplace=True)"
   ]
  },
  {
   "cell_type": "code",
   "execution_count": 55,
   "metadata": {},
   "outputs": [
    {
     "data": {
      "text/html": [
       "<div>\n",
       "<style scoped>\n",
       "    .dataframe tbody tr th:only-of-type {\n",
       "        vertical-align: middle;\n",
       "    }\n",
       "\n",
       "    .dataframe tbody tr th {\n",
       "        vertical-align: top;\n",
       "    }\n",
       "\n",
       "    .dataframe thead th {\n",
       "        text-align: right;\n",
       "    }\n",
       "</style>\n",
       "<table border=\"1\" class=\"dataframe\">\n",
       "  <thead>\n",
       "    <tr style=\"text-align: right;\">\n",
       "      <th></th>\n",
       "      <th>asin</th>\n",
       "      <th>overall</th>\n",
       "      <th>reviewerID</th>\n",
       "    </tr>\n",
       "  </thead>\n",
       "  <tbody>\n",
       "    <tr>\n",
       "      <th>0</th>\n",
       "      <td>014038572X</td>\n",
       "      <td>5.0</td>\n",
       "      <td>A2INGRA4M7D0QH</td>\n",
       "    </tr>\n",
       "    <tr>\n",
       "      <th>1</th>\n",
       "      <td>014038572X</td>\n",
       "      <td>5.0</td>\n",
       "      <td>AC1MHHZVWJE1P</td>\n",
       "    </tr>\n",
       "    <tr>\n",
       "      <th>2</th>\n",
       "      <td>014038572X</td>\n",
       "      <td>5.0</td>\n",
       "      <td>A38Z66H58RIJ64</td>\n",
       "    </tr>\n",
       "    <tr>\n",
       "      <th>3</th>\n",
       "      <td>014038572X</td>\n",
       "      <td>1.0</td>\n",
       "      <td>A77UMI1QYXJF9</td>\n",
       "    </tr>\n",
       "    <tr>\n",
       "      <th>4</th>\n",
       "      <td>014038572X</td>\n",
       "      <td>5.0</td>\n",
       "      <td>A3BVJTBO17JTZE</td>\n",
       "    </tr>\n",
       "  </tbody>\n",
       "</table>\n",
       "</div>"
      ],
      "text/plain": [
       "         asin  overall      reviewerID\n",
       "0  014038572X      5.0  A2INGRA4M7D0QH\n",
       "1  014038572X      5.0   AC1MHHZVWJE1P\n",
       "2  014038572X      5.0  A38Z66H58RIJ64\n",
       "3  014038572X      1.0   A77UMI1QYXJF9\n",
       "4  014038572X      5.0  A3BVJTBO17JTZE"
      ]
     },
     "execution_count": 55,
     "metadata": {},
     "output_type": "execute_result"
    }
   ],
   "source": [
    "dc_reviews.head()"
   ]
  },
  {
   "cell_type": "code",
   "execution_count": 93,
   "metadata": {},
   "outputs": [],
   "source": [
    "def new_id_column(df, column, suffix_val, new_name):\n",
    "    \"\"\"Take in column with unique indexes, return new index values\"\"\"\n",
    "    unique_vals = list(set(df[column].tolist()))\n",
    "    new_ids = [int(str(i) + suffix_val) for i in range(1,len(unique_vals)+1)]\n",
    "    new_id_dict = {k:v for k,v in zip(unique_vals, new_ids)}\n",
    "    df[new_name] = df[column].apply(lambda x: new_id_dict[x])"
   ]
  },
  {
   "cell_type": "code",
   "execution_count": 77,
   "metadata": {},
   "outputs": [
    {
     "data": {
      "text/plain": [
       "14"
      ]
     },
     "execution_count": 77,
     "metadata": {},
     "output_type": "execute_result"
    }
   ],
   "source": [
    "asins = list(set(dc_reviews['asin'].tolist()))\n",
    "len(asins)"
   ]
  },
  {
   "cell_type": "code",
   "execution_count": 78,
   "metadata": {},
   "outputs": [
    {
     "data": {
      "text/plain": [
       "14"
      ]
     },
     "execution_count": 78,
     "metadata": {},
     "output_type": "execute_result"
    }
   ],
   "source": [
    "dc_id = [int(str(i) + '00') for i in range(1,len(asins)+1)]\n",
    "len(dc_id)"
   ]
  },
  {
   "cell_type": "code",
   "execution_count": 79,
   "metadata": {},
   "outputs": [
    {
     "data": {
      "text/html": [
       "<div>\n",
       "<style scoped>\n",
       "    .dataframe tbody tr th:only-of-type {\n",
       "        vertical-align: middle;\n",
       "    }\n",
       "\n",
       "    .dataframe tbody tr th {\n",
       "        vertical-align: top;\n",
       "    }\n",
       "\n",
       "    .dataframe thead th {\n",
       "        text-align: right;\n",
       "    }\n",
       "</style>\n",
       "<table border=\"1\" class=\"dataframe\">\n",
       "  <thead>\n",
       "    <tr style=\"text-align: right;\">\n",
       "      <th></th>\n",
       "      <th>asin</th>\n",
       "      <th>overall</th>\n",
       "      <th>reviewerID</th>\n",
       "      <th>amazon_id</th>\n",
       "    </tr>\n",
       "  </thead>\n",
       "  <tbody>\n",
       "    <tr>\n",
       "      <th>0</th>\n",
       "      <td>014038572X</td>\n",
       "      <td>5.0</td>\n",
       "      <td>A2INGRA4M7D0QH</td>\n",
       "      <td>1300</td>\n",
       "    </tr>\n",
       "    <tr>\n",
       "      <th>1</th>\n",
       "      <td>014038572X</td>\n",
       "      <td>5.0</td>\n",
       "      <td>AC1MHHZVWJE1P</td>\n",
       "      <td>1300</td>\n",
       "    </tr>\n",
       "    <tr>\n",
       "      <th>2</th>\n",
       "      <td>014038572X</td>\n",
       "      <td>5.0</td>\n",
       "      <td>A38Z66H58RIJ64</td>\n",
       "      <td>1300</td>\n",
       "    </tr>\n",
       "    <tr>\n",
       "      <th>3</th>\n",
       "      <td>014038572X</td>\n",
       "      <td>1.0</td>\n",
       "      <td>A77UMI1QYXJF9</td>\n",
       "      <td>1300</td>\n",
       "    </tr>\n",
       "    <tr>\n",
       "      <th>4</th>\n",
       "      <td>014038572X</td>\n",
       "      <td>5.0</td>\n",
       "      <td>A3BVJTBO17JTZE</td>\n",
       "      <td>1300</td>\n",
       "    </tr>\n",
       "  </tbody>\n",
       "</table>\n",
       "</div>"
      ],
      "text/plain": [
       "         asin  overall      reviewerID  amazon_id\n",
       "0  014038572X      5.0  A2INGRA4M7D0QH       1300\n",
       "1  014038572X      5.0   AC1MHHZVWJE1P       1300\n",
       "2  014038572X      5.0  A38Z66H58RIJ64       1300\n",
       "3  014038572X      1.0   A77UMI1QYXJF9       1300\n",
       "4  014038572X      5.0  A3BVJTBO17JTZE       1300"
      ]
     },
     "execution_count": 79,
     "metadata": {},
     "output_type": "execute_result"
    }
   ],
   "source": [
    "new_id_dict = {k:v for k,v in zip(asins, dc_id)}\n",
    "dc_reviews['amazon_id'] = dc_reviews['asin'].apply(lambda x: new_id_dict[x])\n",
    "dc_reviews.head()"
   ]
  },
  {
   "cell_type": "code",
   "execution_count": 80,
   "metadata": {},
   "outputs": [
    {
     "data": {
      "text/plain": [
       "15964"
      ]
     },
     "execution_count": 80,
     "metadata": {},
     "output_type": "execute_result"
    }
   ],
   "source": [
    "movie_asins = list(set(movie_reviews['asin'].tolist()))\n",
    "len(movie_asins)"
   ]
  },
  {
   "cell_type": "code",
   "execution_count": 81,
   "metadata": {},
   "outputs": [
    {
     "data": {
      "text/plain": [
       "15964"
      ]
     },
     "execution_count": 81,
     "metadata": {},
     "output_type": "execute_result"
    }
   ],
   "source": [
    "m_id = [int(str(i) + '99') for i in range(1,len(movie_asins)+1)]\n",
    "len(m_id)"
   ]
  },
  {
   "cell_type": "code",
   "execution_count": 83,
   "metadata": {},
   "outputs": [
    {
     "data": {
      "text/html": [
       "<div>\n",
       "<style scoped>\n",
       "    .dataframe tbody tr th:only-of-type {\n",
       "        vertical-align: middle;\n",
       "    }\n",
       "\n",
       "    .dataframe tbody tr th {\n",
       "        vertical-align: top;\n",
       "    }\n",
       "\n",
       "    .dataframe thead th {\n",
       "        text-align: right;\n",
       "    }\n",
       "</style>\n",
       "<table border=\"1\" class=\"dataframe\">\n",
       "  <thead>\n",
       "    <tr style=\"text-align: right;\">\n",
       "      <th></th>\n",
       "      <th>asin</th>\n",
       "      <th>overall</th>\n",
       "      <th>reviewerID</th>\n",
       "      <th>amazon_id</th>\n",
       "    </tr>\n",
       "  </thead>\n",
       "  <tbody>\n",
       "    <tr>\n",
       "      <th>0</th>\n",
       "      <td>0005119367</td>\n",
       "      <td>5.0</td>\n",
       "      <td>AE62TIY3899YL</td>\n",
       "      <td>1065299</td>\n",
       "    </tr>\n",
       "    <tr>\n",
       "      <th>1</th>\n",
       "      <td>0307141950</td>\n",
       "      <td>5.0</td>\n",
       "      <td>A2XVRCU5DQBULH</td>\n",
       "      <td>1174199</td>\n",
       "    </tr>\n",
       "    <tr>\n",
       "      <th>2</th>\n",
       "      <td>0307142493</td>\n",
       "      <td>5.0</td>\n",
       "      <td>A2NJO6YE954DBH</td>\n",
       "      <td>621099</td>\n",
       "    </tr>\n",
       "    <tr>\n",
       "      <th>3</th>\n",
       "      <td>0307514161</td>\n",
       "      <td>5.0</td>\n",
       "      <td>A2NJO6YE954DBH</td>\n",
       "      <td>839799</td>\n",
       "    </tr>\n",
       "    <tr>\n",
       "      <th>4</th>\n",
       "      <td>0307514161</td>\n",
       "      <td>5.0</td>\n",
       "      <td>A3PZ88WU7RPTP6</td>\n",
       "      <td>839799</td>\n",
       "    </tr>\n",
       "  </tbody>\n",
       "</table>\n",
       "</div>"
      ],
      "text/plain": [
       "         asin  overall      reviewerID  amazon_id\n",
       "0  0005119367      5.0   AE62TIY3899YL    1065299\n",
       "1  0307141950      5.0  A2XVRCU5DQBULH    1174199\n",
       "2  0307142493      5.0  A2NJO6YE954DBH     621099\n",
       "3  0307514161      5.0  A2NJO6YE954DBH     839799\n",
       "4  0307514161      5.0  A3PZ88WU7RPTP6     839799"
      ]
     },
     "execution_count": 83,
     "metadata": {},
     "output_type": "execute_result"
    }
   ],
   "source": [
    "m_id_dict = {k:v for k,v in zip(movie_asins, m_id)}\n",
    "movie_reviews['amazon_id'] = movie_reviews['asin'].apply(lambda x: m_id_dict[x])\n",
    "movie_reviews.head()"
   ]
  },
  {
   "cell_type": "code",
   "execution_count": 84,
   "metadata": {},
   "outputs": [],
   "source": [
    "all_reviews = pd.concat([dc_reviews, movie_reviews], axis=0)"
   ]
  },
  {
   "cell_type": "code",
   "execution_count": 87,
   "metadata": {},
   "outputs": [],
   "source": [
    "all_reviews.drop('asin', axis=1, inplace=True)"
   ]
  },
  {
   "cell_type": "code",
   "execution_count": 88,
   "metadata": {},
   "outputs": [
    {
     "data": {
      "text/html": [
       "<div>\n",
       "<style scoped>\n",
       "    .dataframe tbody tr th:only-of-type {\n",
       "        vertical-align: middle;\n",
       "    }\n",
       "\n",
       "    .dataframe tbody tr th {\n",
       "        vertical-align: top;\n",
       "    }\n",
       "\n",
       "    .dataframe thead th {\n",
       "        text-align: right;\n",
       "    }\n",
       "</style>\n",
       "<table border=\"1\" class=\"dataframe\">\n",
       "  <thead>\n",
       "    <tr style=\"text-align: right;\">\n",
       "      <th></th>\n",
       "      <th>overall</th>\n",
       "      <th>reviewerID</th>\n",
       "      <th>amazon_id</th>\n",
       "    </tr>\n",
       "  </thead>\n",
       "  <tbody>\n",
       "    <tr>\n",
       "      <th>0</th>\n",
       "      <td>5.0</td>\n",
       "      <td>A2INGRA4M7D0QH</td>\n",
       "      <td>1300</td>\n",
       "    </tr>\n",
       "    <tr>\n",
       "      <th>1</th>\n",
       "      <td>5.0</td>\n",
       "      <td>AC1MHHZVWJE1P</td>\n",
       "      <td>1300</td>\n",
       "    </tr>\n",
       "    <tr>\n",
       "      <th>2</th>\n",
       "      <td>5.0</td>\n",
       "      <td>A38Z66H58RIJ64</td>\n",
       "      <td>1300</td>\n",
       "    </tr>\n",
       "    <tr>\n",
       "      <th>3</th>\n",
       "      <td>1.0</td>\n",
       "      <td>A77UMI1QYXJF9</td>\n",
       "      <td>1300</td>\n",
       "    </tr>\n",
       "    <tr>\n",
       "      <th>4</th>\n",
       "      <td>5.0</td>\n",
       "      <td>A3BVJTBO17JTZE</td>\n",
       "      <td>1300</td>\n",
       "    </tr>\n",
       "  </tbody>\n",
       "</table>\n",
       "</div>"
      ],
      "text/plain": [
       "   overall      reviewerID  amazon_id\n",
       "0      5.0  A2INGRA4M7D0QH       1300\n",
       "1      5.0   AC1MHHZVWJE1P       1300\n",
       "2      5.0  A38Z66H58RIJ64       1300\n",
       "3      1.0   A77UMI1QYXJF9       1300\n",
       "4      5.0  A3BVJTBO17JTZE       1300"
      ]
     },
     "execution_count": 88,
     "metadata": {},
     "output_type": "execute_result"
    }
   ],
   "source": [
    "all_reviews.head()"
   ]
  },
  {
   "cell_type": "code",
   "execution_count": 94,
   "metadata": {},
   "outputs": [],
   "source": [
    "new_id_column(all_reviews, 'reviewerID', suffix_val='88', new_name='amazon_user_id')"
   ]
  },
  {
   "cell_type": "code",
   "execution_count": 96,
   "metadata": {},
   "outputs": [],
   "source": [
    "all_reviews.drop('reviewerID', axis=1, inplace=True)"
   ]
  },
  {
   "cell_type": "code",
   "execution_count": 169,
   "metadata": {},
   "outputs": [
    {
     "data": {
      "text/html": [
       "<div>\n",
       "<style scoped>\n",
       "    .dataframe tbody tr th:only-of-type {\n",
       "        vertical-align: middle;\n",
       "    }\n",
       "\n",
       "    .dataframe tbody tr th {\n",
       "        vertical-align: top;\n",
       "    }\n",
       "\n",
       "    .dataframe thead th {\n",
       "        text-align: right;\n",
       "    }\n",
       "</style>\n",
       "<table border=\"1\" class=\"dataframe\">\n",
       "  <thead>\n",
       "    <tr style=\"text-align: right;\">\n",
       "      <th></th>\n",
       "      <th>overall</th>\n",
       "      <th>amazon_id</th>\n",
       "      <th>amazon_user_id</th>\n",
       "    </tr>\n",
       "  </thead>\n",
       "  <tbody>\n",
       "    <tr>\n",
       "      <th>0</th>\n",
       "      <td>5.0</td>\n",
       "      <td>1300</td>\n",
       "      <td>73188</td>\n",
       "    </tr>\n",
       "    <tr>\n",
       "      <th>1</th>\n",
       "      <td>5.0</td>\n",
       "      <td>1300</td>\n",
       "      <td>57288</td>\n",
       "    </tr>\n",
       "    <tr>\n",
       "      <th>2</th>\n",
       "      <td>5.0</td>\n",
       "      <td>1300</td>\n",
       "      <td>53288</td>\n",
       "    </tr>\n",
       "    <tr>\n",
       "      <th>3</th>\n",
       "      <td>1.0</td>\n",
       "      <td>1300</td>\n",
       "      <td>22088</td>\n",
       "    </tr>\n",
       "    <tr>\n",
       "      <th>4</th>\n",
       "      <td>5.0</td>\n",
       "      <td>1300</td>\n",
       "      <td>33688</td>\n",
       "    </tr>\n",
       "  </tbody>\n",
       "</table>\n",
       "</div>"
      ],
      "text/plain": [
       "   overall  amazon_id  amazon_user_id\n",
       "0      5.0       1300           73188\n",
       "1      5.0       1300           57288\n",
       "2      5.0       1300           53288\n",
       "3      1.0       1300           22088\n",
       "4      5.0       1300           33688"
      ]
     },
     "execution_count": 169,
     "metadata": {},
     "output_type": "execute_result"
    }
   ],
   "source": [
    "all_reviews.head()"
   ]
  },
  {
   "cell_type": "code",
   "execution_count": 107,
   "metadata": {},
   "outputs": [],
   "source": [
    "all_reviews_spark = spark.createDataFrame(all_reviews)"
   ]
  },
  {
   "cell_type": "code",
   "execution_count": 108,
   "metadata": {},
   "outputs": [
    {
     "data": {
      "text/plain": [
       "DataFrame[overall: double, amazon_id: bigint, amazon_user_id: bigint]"
      ]
     },
     "execution_count": 108,
     "metadata": {},
     "output_type": "execute_result"
    }
   ],
   "source": [
    "all_reviews_spark.persist()"
   ]
  },
  {
   "cell_type": "code",
   "execution_count": 158,
   "metadata": {},
   "outputs": [],
   "source": [
    "(train, test) = all_reviews_spark.randomSplit([.8,.2])"
   ]
  },
  {
   "cell_type": "code",
   "execution_count": 190,
   "metadata": {},
   "outputs": [],
   "source": [
    "# Build the recommendation model using ALS\n",
    "als = ALS(userCol='amazon_user_id', itemCol='amazon_id', ratingCol='overall', nonnegative=True)\n",
    "\n",
    "als_model = als.fit(train)"
   ]
  },
  {
   "cell_type": "code",
   "execution_count": 191,
   "metadata": {},
   "outputs": [],
   "source": [
    "pred = als_model.transform(test)"
   ]
  },
  {
   "cell_type": "code",
   "execution_count": 192,
   "metadata": {},
   "outputs": [],
   "source": [
    "pred_df = pred.toPandas()"
   ]
  },
  {
   "cell_type": "code",
   "execution_count": 193,
   "metadata": {},
   "outputs": [],
   "source": [
    "pred_df = pred_df.dropna(axis=0)"
   ]
  },
  {
   "cell_type": "code",
   "execution_count": 194,
   "metadata": {},
   "outputs": [],
   "source": [
    "pred = spark.createDataFrame(pred_df)"
   ]
  },
  {
   "cell_type": "code",
   "execution_count": 195,
   "metadata": {},
   "outputs": [],
   "source": [
    "al = als_model.extractParamMap"
   ]
  },
  {
   "cell_type": "code",
   "execution_count": 196,
   "metadata": {},
   "outputs": [
    {
     "name": "stdout",
     "output_type": "stream",
     "text": [
      "<bound method Params.extractParamMap of ALS_c17a9a3dcb6b>\n"
     ]
    }
   ],
   "source": [
    "print(al)"
   ]
  },
  {
   "cell_type": "code",
   "execution_count": 197,
   "metadata": {},
   "outputs": [
    {
     "name": "stdout",
     "output_type": "stream",
     "text": [
      "Root-mean-square error = 1.3328492850220897\n"
     ]
    }
   ],
   "source": [
    "evaluator = RegressionEvaluator(metricName=\"rmse\", labelCol=\"overall\",\n",
    "                                predictionCol=\"prediction\")\n",
    "\n",
    "rmse = evaluator.evaluate(pred)\n",
    "print(\"Root-mean-square error = \" + str(rmse))"
   ]
  },
  {
   "cell_type": "code",
   "execution_count": null,
   "metadata": {},
   "outputs": [],
   "source": [
    "& (pred_df['amazon_id'].astype(str).str.endswith('00'))"
   ]
  },
  {
   "cell_type": "code",
   "execution_count": 231,
   "metadata": {},
   "outputs": [
    {
     "data": {
      "text/html": [
       "<div>\n",
       "<style scoped>\n",
       "    .dataframe tbody tr th:only-of-type {\n",
       "        vertical-align: middle;\n",
       "    }\n",
       "\n",
       "    .dataframe tbody tr th {\n",
       "        vertical-align: top;\n",
       "    }\n",
       "\n",
       "    .dataframe thead th {\n",
       "        text-align: right;\n",
       "    }\n",
       "</style>\n",
       "<table border=\"1\" class=\"dataframe\">\n",
       "  <thead>\n",
       "    <tr style=\"text-align: right;\">\n",
       "      <th></th>\n",
       "      <th>overall</th>\n",
       "      <th>amazon_id</th>\n",
       "      <th>amazon_user_id</th>\n",
       "      <th>prediction</th>\n",
       "    </tr>\n",
       "  </thead>\n",
       "  <tbody>\n",
       "    <tr>\n",
       "      <th>529</th>\n",
       "      <td>5.0</td>\n",
       "      <td>300</td>\n",
       "      <td>94688</td>\n",
       "      <td>2.584244</td>\n",
       "    </tr>\n",
       "  </tbody>\n",
       "</table>\n",
       "</div>"
      ],
      "text/plain": [
       "     overall  amazon_id  amazon_user_id  prediction\n",
       "529      5.0        300           94688    2.584244"
      ]
     },
     "execution_count": 231,
     "metadata": {},
     "output_type": "execute_result"
    }
   ],
   "source": [
    "pred_df.loc[pred_df['amazon_user_id'] == 94688]"
   ]
  },
  {
   "cell_type": "code",
   "execution_count": 122,
   "metadata": {},
   "outputs": [
    {
     "data": {
      "text/plain": [
       "50"
      ]
     },
     "execution_count": 122,
     "metadata": {},
     "output_type": "execute_result"
    }
   ],
   "source": [
    "from pyspark.ml.tuning import CrossValidator, ParamGridBuilder\n",
    "\n",
    "\n",
    "als_model =  ALS(userCol=\"amazon_user_id\", itemCol=\"amazon_id\", ratingCol=\"overall\")\n",
    "\n",
    "                 \n",
    "params = ParamGridBuilder().addGrid(als_model.regParam, [0.01,0.001,0.1]).addGrid(als_model.rank, [4,10,50]).build()\n",
    "\n",
    "\n",
    "## instantiating crossvalidator estimator\n",
    "cv = CrossValidator(estimator=als_model, estimatorParamMaps=params,evaluator=evaluator,parallelism=4)\n",
    "best_model = cv.fit(train)    \n",
    "\n",
    "# We see the best model has a rank of 50, so we will use that in our future models with this dataset\n",
    "best_model.bestModel.rank"
   ]
  },
  {
   "cell_type": "code",
   "execution_count": null,
   "metadata": {},
   "outputs": [],
   "source": [
    "query = \"\"\"\n",
    "SELECT \n",
    "    asin,\n",
    "    title\n",
    "FROM metadta\n",
    "\"\"\""
   ]
  },
  {
   "cell_type": "code",
   "execution_count": null,
   "metadata": {},
   "outputs": [],
   "source": [
    "metadta.createOrReplaceTempView('metadta')"
   ]
  },
  {
   "cell_type": "markdown",
   "metadata": {},
   "source": [
    "* non-negative = TRUE\n",
    "* search latent features\n",
    "* See the cluster\n",
    "* Clusters that containt both \n",
    "* Combine clusters \n",
    "* Reduce ranks for increased "
   ]
  },
  {
   "cell_type": "code",
   "execution_count": null,
   "metadata": {},
   "outputs": [],
   "source": []
  }
 ],
 "metadata": {
  "kernelspec": {
   "display_name": "Python 3",
   "language": "python",
   "name": "python3"
  },
  "language_info": {
   "codemirror_mode": {
    "name": "ipython",
    "version": 3
   },
   "file_extension": ".py",
   "mimetype": "text/x-python",
   "name": "python",
   "nbconvert_exporter": "python",
   "pygments_lexer": "ipython3",
   "version": "3.6.6"
  }
 },
 "nbformat": 4,
 "nbformat_minor": 2
}
