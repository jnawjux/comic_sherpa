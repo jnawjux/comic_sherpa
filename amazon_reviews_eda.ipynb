{
 "cells": [
  {
   "cell_type": "code",
   "execution_count": 4,
   "metadata": {},
   "outputs": [],
   "source": [
    "import pandas as pd\n",
    "import pyspark\n",
    "from pyspark.sql.functions import col\n",
    "from pyspark.ml.evaluation import RegressionEvaluator\n",
    "from pyspark.ml.recommendation import ALS"
   ]
  },
  {
   "cell_type": "markdown",
   "metadata": {},
   "source": [
    "Importing Amazon reviews through Spark"
   ]
  },
  {
   "cell_type": "code",
   "execution_count": 5,
   "metadata": {},
   "outputs": [],
   "source": [
    "spark = (pyspark.sql.SparkSession.builder\n",
    "    .master(\"local\")\n",
    "    .getOrCreate())"
   ]
  },
  {
   "cell_type": "code",
   "execution_count": 3,
   "metadata": {},
   "outputs": [],
   "source": [
    "movies_df = spark.read.json('reviews_Movies_and_TV.json')\n",
    "books_df = spark.read.json('reviews_Books.json')\n",
    "metadata = spark.read.json('metadata.json')"
   ]
  },
  {
   "cell_type": "markdown",
   "metadata": {},
   "source": [
    "These are complete datasets from a project by [Julien McAuley.](http://jmcauley.ucsd.edu/data/amazon/links.html) To help narrow my results, I started by scraping the top 100 DC & Marvel Graphic Novels for their ASIN, so that I could start with an understanding of where to find the reviews I want to target. "
   ]
  },
  {
   "cell_type": "code",
   "execution_count": 48,
   "metadata": {},
   "outputs": [],
   "source": [
    "#DC Comics - top ID's\n",
    "\n",
    "from selenium.webdriver import Chrome\n",
    "browser = Chrome()\n",
    "url = \"https://www.amazon.com/gp/bestsellers/books/4400/ref=pd_zg_hrsr_books\"\n",
    "browser.get(url)\n",
    "all_ids = [x.get_attribute('href').split('dp/')[1].split('/')[0] \n",
    "       for x in browser.find_elements_by_xpath('//*[@id=\"zg-ordered-list\"]/li/span/div/span/a')]\n"
   ]
  },
  {
   "cell_type": "code",
   "execution_count": 51,
   "metadata": {},
   "outputs": [],
   "source": [
    "url = \"https://www.amazon.com/Best-Sellers-Books-Marvel-Comics-Graphic-Novels/zgbs/books/4400/ref=zg_bs_pg_2?_encoding=UTF8&pg=2\""
   ]
  },
  {
   "cell_type": "code",
   "execution_count": 52,
   "metadata": {},
   "outputs": [],
   "source": [
    "browser.get(url)\n",
    "all_ids_2 = [x.get_attribute('href').split('dp/')[1].split('/')[0] \n",
    "       for x in browser.find_elements_by_xpath('//*[@id=\"zg-ordered-list\"]/li/span/div/span/a')]\n"
   ]
  },
  {
   "cell_type": "code",
   "execution_count": 53,
   "metadata": {},
   "outputs": [],
   "source": [
    "all_ids.extend(all_ids_2)"
   ]
  },
  {
   "cell_type": "code",
   "execution_count": 54,
   "metadata": {},
   "outputs": [
    {
     "data": {
      "text/plain": [
       "100"
      ]
     },
     "execution_count": 54,
     "metadata": {},
     "output_type": "execute_result"
    }
   ],
   "source": [
    "len(all_ids)"
   ]
  },
  {
   "cell_type": "code",
   "execution_count": 55,
   "metadata": {},
   "outputs": [
    {
     "data": {
      "text/plain": [
       "['B009OIZ9M8',\n",
       " 'B00ARKCTES',\n",
       " 'B00NAHL15I',\n",
       " 'B00FRP6VKQ',\n",
       " 'B00AAJQYPG',\n",
       " 'B076C129TM',\n",
       " '1423167228',\n",
       " 'B07MHVZZZQ',\n",
       " 'B00NEW45XE',\n",
       " 'B07BH4HKL9',\n",
       " 'B01IO3NJVQ',\n",
       " 'B00DYVESVO',\n",
       " 'B00AAJR554',\n",
       " '0785156593',\n",
       " 'B00AAJR0GI',\n",
       " 'B07BH47HB3',\n",
       " 'B01M6CBVFS',\n",
       " 'B00ARKCTHA',\n",
       " 'B074WH8D18',\n",
       " 'B00AAJR3M4',\n",
       " 'B00DYVESX2',\n",
       " 'B07G8M8CS3',\n",
       " 'B07G8LF78G',\n",
       " 'B00VU2BKQA',\n",
       " 'B00NEW45Z2',\n",
       " '1302912550',\n",
       " 'B00K5Y5WG8',\n",
       " 'B01JT4A2DW',\n",
       " '148470438X',\n",
       " 'B00BC711DK',\n",
       " 'B071RZ2WPV',\n",
       " 'B00MC2HKP2',\n",
       " '1302915061',\n",
       " '1484781422',\n",
       " 'B076C26GQY',\n",
       " '1368026672',\n",
       " 'B00AAJQX6G',\n",
       " 'B00EARP0HM',\n",
       " 'B01IQ44P1Q',\n",
       " 'B00BC710QI',\n",
       " 'B00GBDI9O4',\n",
       " 'B00ARKCTA2',\n",
       " '0785164219',\n",
       " 'B07L43NVCQ',\n",
       " 'B00J43YD48',\n",
       " '130291958X',\n",
       " 'B00PR4B2S8',\n",
       " 'B007Y319Y2',\n",
       " '0785164030',\n",
       " 'B072YS7GX7',\n",
       " 'B075MT477X',\n",
       " 'B007NACVAW',\n",
       " '1302912569',\n",
       " 'B007I83MPM',\n",
       " 'B0794BSFJ2',\n",
       " '1484732820',\n",
       " '0785121056',\n",
       " 'B07D4QWFS2',\n",
       " 'B01NH4Y224',\n",
       " 'B077J89645',\n",
       " 'B07BH44PC7',\n",
       " '1484743318',\n",
       " 'B00BXQCI32',\n",
       " 'B07JWH9KJ6',\n",
       " '0785157263',\n",
       " '0785158685',\n",
       " '1302917293',\n",
       " '1302917102',\n",
       " '1484716582',\n",
       " 'B00Q7571KO',\n",
       " '1302910574',\n",
       " '1302915592',\n",
       " '1484712676',\n",
       " '148478636X',\n",
       " '148478765X',\n",
       " '1484786432',\n",
       " '1302910566',\n",
       " '1302912127',\n",
       " 'B00XZD7E1C',\n",
       " 'B00DTTHJ3U',\n",
       " '1302900536',\n",
       " '1368025269',\n",
       " 'B00PR4B3DM',\n",
       " '0785188347',\n",
       " '1368008534',\n",
       " '078512179X',\n",
       " '1484786440',\n",
       " 'B00PR4B44K',\n",
       " '0785166432',\n",
       " 'B00FSRFMJO',\n",
       " '1302918567',\n",
       " '1302911945',\n",
       " 'B07PFFKP59',\n",
       " 'B00FRVH3VQ',\n",
       " '0785117210',\n",
       " '0785164537',\n",
       " '0785134816',\n",
       " 'B002095J4G',\n",
       " '0785198954',\n",
       " '1302907441']"
      ]
     },
     "execution_count": 55,
     "metadata": {},
     "output_type": "execute_result"
    }
   ],
   "source": [
    "all_ids[:100]"
   ]
  },
  {
   "cell_type": "code",
   "execution_count": 152,
   "metadata": {},
   "outputs": [],
   "source": [
    "import csv\n",
    "\n",
    "with open('../fantasy_comics.csv', 'w') as f:\n",
    "    wr = csv.writer(f)\n",
    "    wr.writerow(all_ids)"
   ]
  },
  {
   "cell_type": "code",
   "execution_count": 13,
   "metadata": {},
   "outputs": [
    {
     "name": "stdout",
     "output_type": "stream",
     "text": [
      "+----------+--------+-------+--------------------+-----------+--------------+------------+--------------------+--------------+\n",
      "|      asin| helpful|overall|          reviewText| reviewTime|    reviewerID|reviewerName|             summary|unixReviewTime|\n",
      "+----------+--------+-------+--------------------+-----------+--------------+------------+--------------------+--------------+\n",
      "|0000000116|  [5, 5]|    4.0|Interesting Grish...|04 27, 2002| AH2L9G3DQHHAJ|       chris|  Show me the money!|    1019865600|\n",
      "|0000000116|  [0, 0]|    1.0|The thumbnail is ...|03 24, 2014|A2IIIDRK3PRRZY|      Helene|Listing is all sc...|    1395619200|\n",
      "|0000000868|[10, 10]|    4.0|I'll be honest. I...|09 11, 2002|A1TADCM7YWPQ8M|    Joel@AWS|Not a Bad Transla...|    1031702400|\n",
      "+----------+--------+-------+--------------------+-----------+--------------+------------+--------------------+--------------+\n",
      "only showing top 3 rows\n",
      "\n"
     ]
    }
   ],
   "source": [
    "books_df.show(3)"
   ]
  },
  {
   "cell_type": "code",
   "execution_count": 57,
   "metadata": {},
   "outputs": [],
   "source": [
    "marvel_meta = metadata.filter(col(\"asin\").isin(all_ids)).toPandas()"
   ]
  },
  {
   "cell_type": "code",
   "execution_count": 85,
   "metadata": {},
   "outputs": [],
   "source": [
    "marvel_reco = marvel_meta['related'].tolist()\n",
    "temp = [also[0] for also in marvel_reco]"
   ]
  },
  {
   "cell_type": "code",
   "execution_count": 86,
   "metadata": {},
   "outputs": [],
   "source": [
    "all_marvel_recos = [item for sublist in temp for item in sublist]"
   ]
  },
  {
   "cell_type": "code",
   "execution_count": 88,
   "metadata": {},
   "outputs": [],
   "source": [
    "all_marvel_reco_df = metadata.filter(col('asin').isin(all_marvel_recos))"
   ]
  },
  {
   "cell_type": "code",
   "execution_count": 90,
   "metadata": {},
   "outputs": [
    {
     "data": {
      "text/plain": [
       "426"
      ]
     },
     "execution_count": 90,
     "metadata": {},
     "output_type": "execute_result"
    }
   ],
   "source": [
    "all_marvel_reco_df.count()"
   ]
  },
  {
   "cell_type": "code",
   "execution_count": 87,
   "metadata": {},
   "outputs": [
    {
     "data": {
      "text/plain": [
       "920"
      ]
     },
     "execution_count": 87,
     "metadata": {},
     "output_type": "execute_result"
    }
   ],
   "source": [
    "len(all_marvel_recos)"
   ]
  },
  {
   "cell_type": "code",
   "execution_count": 77,
   "metadata": {},
   "outputs": [
    {
     "ename": "NameError",
     "evalue": "name 'v' is not defined",
     "output_type": "error",
     "traceback": [
      "\u001b[0;31m---------------------------------------------------------------------------\u001b[0m",
      "\u001b[0;31mNameError\u001b[0m                                 Traceback (most recent call last)",
      "\u001b[0;32m<ipython-input-77-ef433058d9a6>\u001b[0m in \u001b[0;36m<module>\u001b[0;34m()\u001b[0m\n\u001b[0;32m----> 1\u001b[0;31m \u001b[0mm_recommend\u001b[0m \u001b[0;34m=\u001b[0m \u001b[0;34m[\u001b[0m\u001b[0mval\u001b[0m \u001b[0;32mfor\u001b[0m \u001b[0mv\u001b[0m\u001b[0;34m[\u001b[0m\u001b[0;36m0\u001b[0m\u001b[0;34m]\u001b[0m \u001b[0;32min\u001b[0m \u001b[0mmarvel_reco\u001b[0m \u001b[0;32mfor\u001b[0m \u001b[0mval\u001b[0m \u001b[0;32min\u001b[0m \u001b[0mv\u001b[0m\u001b[0;34m[\u001b[0m\u001b[0;36m0\u001b[0m\u001b[0;34m]\u001b[0m\u001b[0;34m]\u001b[0m\u001b[0;34m\u001b[0m\u001b[0m\n\u001b[0m",
      "\u001b[0;32m<ipython-input-77-ef433058d9a6>\u001b[0m in \u001b[0;36m<listcomp>\u001b[0;34m(.0)\u001b[0m\n\u001b[0;32m----> 1\u001b[0;31m \u001b[0mm_recommend\u001b[0m \u001b[0;34m=\u001b[0m \u001b[0;34m[\u001b[0m\u001b[0mval\u001b[0m \u001b[0;32mfor\u001b[0m \u001b[0mv\u001b[0m\u001b[0;34m[\u001b[0m\u001b[0;36m0\u001b[0m\u001b[0;34m]\u001b[0m \u001b[0;32min\u001b[0m \u001b[0mmarvel_reco\u001b[0m \u001b[0;32mfor\u001b[0m \u001b[0mval\u001b[0m \u001b[0;32min\u001b[0m \u001b[0mv\u001b[0m\u001b[0;34m[\u001b[0m\u001b[0;36m0\u001b[0m\u001b[0;34m]\u001b[0m\u001b[0;34m]\u001b[0m\u001b[0;34m\u001b[0m\u001b[0m\n\u001b[0m",
      "\u001b[0;31mNameError\u001b[0m: name 'v' is not defined"
     ]
    }
   ],
   "source": [
    "m_recommend = [val for v[0] in marvel_reco for val in v[0]]"
   ]
  },
  {
   "cell_type": "code",
   "execution_count": 76,
   "metadata": {},
   "outputs": [
    {
     "data": {
      "text/plain": [
       "['0785123202',\n",
       " '0785157050',\n",
       " '078512179X',\n",
       " '078513297X',\n",
       " '0785163182',\n",
       " '0785131736',\n",
       " '0785164537',\n",
       " '0785140794',\n",
       " '0785156887',\n",
       " '0785156593',\n",
       " '0785138838',\n",
       " '0785119744',\n",
       " '0785125965',\n",
       " '0785114823',\n",
       " '0785164219',\n",
       " '078513882X',\n",
       " '0785138811',\n",
       " '0785157263',\n",
       " '0785161945',\n",
       " '0785161953',\n",
       " '0785142347',\n",
       " '0785120122',\n",
       " '0785124373',\n",
       " '0785141669',\n",
       " '0785166467',\n",
       " '0785121781',\n",
       " '0785114793',\n",
       " '0785142282',\n",
       " '0785131728',\n",
       " '0785157069',\n",
       " '078515650X',\n",
       " '0785120521',\n",
       " '0785120513',\n",
       " '0785117148',\n",
       " '078515566X',\n",
       " '0785135499',\n",
       " '0785118748',\n",
       " '078512294X',\n",
       " '0785137262',\n",
       " '0785137246',\n",
       " '0785148108',\n",
       " '0785156631',\n",
       " '0785124691',\n",
       " '0785148558',\n",
       " '0785116729',\n",
       " '0785137270',\n",
       " '0785143416',\n",
       " '0785164979',\n",
       " '078512750X',\n",
       " '0785119841',\n",
       " '0785166378',\n",
       " '0785123121',\n",
       " '0785124462',\n",
       " '0785158685',\n",
       " '0785143777',\n",
       " '0785128204',\n",
       " '0785123148',\n",
       " '0785164030',\n",
       " '0785183795',\n",
       " '0785149171',\n",
       " '0785183787',\n",
       " '0785134506',\n",
       " '0785156178',\n",
       " '0785121897',\n",
       " '078514675X',\n",
       " '0785163174',\n",
       " '0785155082',\n",
       " '0785165053',\n",
       " '0785184422',\n",
       " '0785168001',\n",
       " '0785166033',\n",
       " '0785138846',\n",
       " '0785135405',\n",
       " '0785119876',\n",
       " '0785152903',\n",
       " '0785115315',\n",
       " '0785118306',\n",
       " '0785166386',\n",
       " '0785164898',\n",
       " '1401232590',\n",
       " '0785149074',\n",
       " '0785166807',\n",
       " '0785122133',\n",
       " '0785145141',\n",
       " '0785127984',\n",
       " '0785167021',\n",
       " '078514661X',\n",
       " '1401232078',\n",
       " '0785119582',\n",
       " '0785168303',\n",
       " '0785117598',\n",
       " '0785119809',\n",
       " '0785119701',\n",
       " '0785143130',\n",
       " '0785184228',\n",
       " '0785154310',\n",
       " '0785154027',\n",
       " '0785167854',\n",
       " '0785168516',\n",
       " '1401216676']"
      ]
     },
     "execution_count": 76,
     "metadata": {},
     "output_type": "execute_result"
    }
   ],
   "source": [
    "[item for sublist in l for item in sublist]"
   ]
  },
  {
   "cell_type": "code",
   "execution_count": 18,
   "metadata": {},
   "outputs": [
    {
     "ename": "NameError",
     "evalue": "name 'fantasy_reviews' is not defined",
     "output_type": "error",
     "traceback": [
      "\u001b[0;31m---------------------------------------------------------------------------\u001b[0m",
      "\u001b[0;31mNameError\u001b[0m                                 Traceback (most recent call last)",
      "\u001b[0;32m<ipython-input-18-578127c3ac52>\u001b[0m in \u001b[0;36m<module>\u001b[0;34m()\u001b[0m\n\u001b[0;32m----> 1\u001b[0;31m \u001b[0mfantasy_reviews\u001b[0m\u001b[0;34m\u001b[0m\u001b[0m\n\u001b[0m",
      "\u001b[0;31mNameError\u001b[0m: name 'fantasy_reviews' is not defined"
     ]
    }
   ],
   "source": [
    "fantasy_reviews"
   ]
  },
  {
   "cell_type": "code",
   "execution_count": 156,
   "metadata": {},
   "outputs": [
    {
     "data": {
      "text/plain": [
       "(8, 9)"
      ]
     },
     "execution_count": 156,
     "metadata": {},
     "output_type": "execute_result"
    }
   ],
   "source": [
    "fantasy_reviews.shape"
   ]
  },
  {
   "cell_type": "code",
   "execution_count": 174,
   "metadata": {},
   "outputs": [
    {
     "data": {
      "text/plain": [
       "[('_corrupt_record', 'string'),\n",
       " ('asin', 'string'),\n",
       " ('brand', 'string'),\n",
       " ('categories', 'array<array<string>>'),\n",
       " ('description', 'string'),\n",
       " ('imUrl', 'string'),\n",
       " ('price', 'double'),\n",
       " ('related',\n",
       "  'struct<also_bought:array<string>,also_viewed:array<string>,bought_together:array<string>,buy_after_viewing:array<string>>'),\n",
       " ('salesRank',\n",
       "  'struct<Appliances:bigint,Arts, Crafts & Sewing:bigint,Automotive:bigint,Baby:bigint,Beauty:bigint,Books:bigint,Camera &amp; Photo:bigint,Cell Phones & Accessories:bigint,Clothing:bigint,Computers & Accessories:bigint,Electronics:bigint,Gift Cards Store:bigint,Grocery & Gourmet Food:bigint,Health & Personal Care:bigint,Home &amp; Kitchen:bigint,Home Improvement:bigint,Industrial & Scientific:bigint,Jewelry:bigint,Kitchen & Dining:bigint,Magazines:bigint,Movies & TV:bigint,Music:bigint,Musical Instruments:bigint,Office Products:bigint,Patio, Lawn & Garden:bigint,Pet Supplies:bigint,Prime Pantry:bigint,Shoes:bigint,Software:bigint,Sports &amp; Outdoors:bigint,Toys & Games:bigint,Video Games:bigint,Watches:bigint>'),\n",
       " ('title', 'string')]"
      ]
     },
     "execution_count": 174,
     "metadata": {},
     "output_type": "execute_result"
    }
   ],
   "source": [
    "metadata.dtypes"
   ]
  },
  {
   "cell_type": "code",
   "execution_count": 79,
   "metadata": {},
   "outputs": [],
   "source": [
    "more_df = metadata.filter(col('asin').startswith('0785'))"
   ]
  },
  {
   "cell_type": "code",
   "execution_count": 28,
   "metadata": {},
   "outputs": [],
   "source": [
    "titles = meta_df.select('asin','title').collect()"
   ]
  },
  {
   "cell_type": "code",
   "execution_count": 45,
   "metadata": {},
   "outputs": [],
   "source": [
    "fant = metadata.filter(col('asin').startswith('B07'))"
   ]
  },
  {
   "cell_type": "code",
   "execution_count": 80,
   "metadata": {},
   "outputs": [
    {
     "data": {
      "text/plain": [
       "6806"
      ]
     },
     "execution_count": 80,
     "metadata": {},
     "output_type": "execute_result"
    }
   ],
   "source": [
    "more_df.count()"
   ]
  },
  {
   "cell_type": "code",
   "execution_count": 182,
   "metadata": {},
   "outputs": [
    {
     "data": {
      "text/plain": [
       "2077"
      ]
     },
     "execution_count": 182,
     "metadata": {},
     "output_type": "execute_result"
    }
   ],
   "source": [
    "meta_df.count()"
   ]
  },
  {
   "cell_type": "code",
   "execution_count": 44,
   "metadata": {},
   "outputs": [
    {
     "data": {
      "text/plain": [
       "2077"
      ]
     },
     "execution_count": 44,
     "metadata": {},
     "output_type": "execute_result"
    }
   ],
   "source": [
    "len(titles)"
   ]
  },
  {
   "cell_type": "code",
   "execution_count": 43,
   "metadata": {},
   "outputs": [],
   "source": [
    "import csv\n",
    "\n",
    "with open('all_dc.csv', 'w') as f:\n",
    "    w = csv.writer(f)\n",
    "    for val in titles:\n",
    "        w.writerow((val[0], val[1]))"
   ]
  },
  {
   "cell_type": "code",
   "execution_count": 177,
   "metadata": {},
   "outputs": [],
   "source": [
    "dc_reviews.to_csv('dc_comic_top100.csv')"
   ]
  },
  {
   "cell_type": "code",
   "execution_count": 140,
   "metadata": {},
   "outputs": [],
   "source": [
    "dc_reviews.drop(['helpful','reviewText','reviewTime','reviewerName','summary','unixReviewTime'], axis=1, inplace=True)"
   ]
  },
  {
   "cell_type": "code",
   "execution_count": 141,
   "metadata": {},
   "outputs": [
    {
     "data": {
      "text/plain": [
       "1401232590    307\n",
       "1401220347    294\n",
       "1401223176    284\n",
       "0345391810    178\n",
       "1401229697     84\n",
       "1401232051     81\n",
       "1401229352     72\n",
       "1401235360     52\n",
       "1401238963     37\n",
       "1401242383     31\n",
       "140123884X     13\n",
       "1401247113      8\n",
       "B00CU06XFY      3\n",
       "Name: asin, dtype: int64"
      ]
     },
     "execution_count": 141,
     "metadata": {},
     "output_type": "execute_result"
    }
   ],
   "source": [
    "dc_reviews['asin'].value_counts()"
   ]
  },
  {
   "cell_type": "code",
   "execution_count": 36,
   "metadata": {},
   "outputs": [],
   "source": [
    "comic_readers = list(set(dc_reviews['reviewerID'].tolist()))"
   ]
  },
  {
   "cell_type": "code",
   "execution_count": 32,
   "metadata": {},
   "outputs": [
    {
     "name": "stdout",
     "output_type": "stream",
     "text": [
      "+----------+-------+-------+--------------------+-----------+--------------+------------------+--------------------+--------------+\n",
      "|      asin|helpful|overall|          reviewText| reviewTime|    reviewerID|      reviewerName|             summary|unixReviewTime|\n",
      "+----------+-------+-------+--------------------+-----------+--------------+------------------+--------------------+--------------+\n",
      "|0000143502| [0, 0]|    5.0|This has some gre...|01 17, 2013|A3R5OBKS7OM2IR|Rebecca L. Johnson| Alton... nough said|    1358380800|\n",
      "|0000143529| [0, 0]|    5.0|This is a great p...| 10 2, 2013|A3R5OBKS7OM2IR|Rebecca L. Johnson|         Ah Alton...|    1380672000|\n",
      "|0000143561| [2, 4]|    2.0|I have to admit t...|07 17, 2008| AH3QC2PC1VTGP|   Great Home Cook|Don't waste your ...|    1216252800|\n",
      "+----------+-------+-------+--------------------+-----------+--------------+------------------+--------------------+--------------+\n",
      "only showing top 3 rows\n",
      "\n"
     ]
    }
   ],
   "source": [
    "movies_df.show(3)"
   ]
  },
  {
   "cell_type": "code",
   "execution_count": 38,
   "metadata": {},
   "outputs": [],
   "source": [
    "movie_reviews = movies_df.filter(col(\"reviewerID\").isin(comic_readers)).toPandas()"
   ]
  },
  {
   "cell_type": "code",
   "execution_count": 39,
   "metadata": {},
   "outputs": [
    {
     "data": {
      "text/plain": [
       "(31343, 9)"
      ]
     },
     "execution_count": 39,
     "metadata": {},
     "output_type": "execute_result"
    }
   ],
   "source": [
    "movie_reviews.shape"
   ]
  },
  {
   "cell_type": "code",
   "execution_count": 50,
   "metadata": {},
   "outputs": [
    {
     "data": {
      "text/html": [
       "<div>\n",
       "<style scoped>\n",
       "    .dataframe tbody tr th:only-of-type {\n",
       "        vertical-align: middle;\n",
       "    }\n",
       "\n",
       "    .dataframe tbody tr th {\n",
       "        vertical-align: top;\n",
       "    }\n",
       "\n",
       "    .dataframe thead th {\n",
       "        text-align: right;\n",
       "    }\n",
       "</style>\n",
       "<table border=\"1\" class=\"dataframe\">\n",
       "  <thead>\n",
       "    <tr style=\"text-align: right;\">\n",
       "      <th></th>\n",
       "      <th>asin</th>\n",
       "      <th>helpful</th>\n",
       "      <th>overall</th>\n",
       "      <th>reviewText</th>\n",
       "      <th>reviewTime</th>\n",
       "      <th>reviewerID</th>\n",
       "      <th>reviewerName</th>\n",
       "      <th>summary</th>\n",
       "      <th>unixReviewTime</th>\n",
       "    </tr>\n",
       "  </thead>\n",
       "  <tbody>\n",
       "    <tr>\n",
       "      <th>0</th>\n",
       "      <td>0005119367</td>\n",
       "      <td>[0, 0]</td>\n",
       "      <td>5.0</td>\n",
       "      <td>I've watched this movie every six months or so...</td>\n",
       "      <td>06 11, 2012</td>\n",
       "      <td>AE62TIY3899YL</td>\n",
       "      <td>Daniel J. Silva \"Superman_242\"</td>\n",
       "      <td>Best of the Bible Collection AND best telling ...</td>\n",
       "      <td>1339372800</td>\n",
       "    </tr>\n",
       "    <tr>\n",
       "      <th>1</th>\n",
       "      <td>0307141950</td>\n",
       "      <td>[4, 4]</td>\n",
       "      <td>5.0</td>\n",
       "      <td>I suppose giving this video a 5-star is rather...</td>\n",
       "      <td>01 24, 2003</td>\n",
       "      <td>A2XVRCU5DQBULH</td>\n",
       "      <td>L. Varnau \"nerff20\"</td>\n",
       "      <td>From the voice of Little Critter...</td>\n",
       "      <td>1043366400</td>\n",
       "    </tr>\n",
       "    <tr>\n",
       "      <th>2</th>\n",
       "      <td>0307142493</td>\n",
       "      <td>[3, 3]</td>\n",
       "      <td>5.0</td>\n",
       "      <td>It is rather ironic to think that the elfin Mi...</td>\n",
       "      <td>12 3, 2003</td>\n",
       "      <td>A2NJO6YE954DBH</td>\n",
       "      <td>Lawrance M. Bernabo</td>\n",
       "      <td>The charming story of how Kris Kringle became ...</td>\n",
       "      <td>1070409600</td>\n",
       "    </tr>\n",
       "    <tr>\n",
       "      <th>3</th>\n",
       "      <td>0307514161</td>\n",
       "      <td>[1, 1]</td>\n",
       "      <td>5.0</td>\n",
       "      <td>In just telling the story in the song \"Rudolph...</td>\n",
       "      <td>12 25, 2005</td>\n",
       "      <td>A2NJO6YE954DBH</td>\n",
       "      <td>Lawrance M. Bernabo</td>\n",
       "      <td>The deservedly beloved 1964 Bass-Rakin televis...</td>\n",
       "      <td>1135468800</td>\n",
       "    </tr>\n",
       "    <tr>\n",
       "      <th>4</th>\n",
       "      <td>0307514161</td>\n",
       "      <td>[0, 0]</td>\n",
       "      <td>5.0</td>\n",
       "      <td>I bought a bunch of these old holiday classics...</td>\n",
       "      <td>12 19, 2010</td>\n",
       "      <td>A3PZ88WU7RPTP6</td>\n",
       "      <td>TeamQuinnHQ</td>\n",
       "      <td>Mine!</td>\n",
       "      <td>1292716800</td>\n",
       "    </tr>\n",
       "  </tbody>\n",
       "</table>\n",
       "</div>"
      ],
      "text/plain": [
       "         asin helpful  overall  \\\n",
       "0  0005119367  [0, 0]      5.0   \n",
       "1  0307141950  [4, 4]      5.0   \n",
       "2  0307142493  [3, 3]      5.0   \n",
       "3  0307514161  [1, 1]      5.0   \n",
       "4  0307514161  [0, 0]      5.0   \n",
       "\n",
       "                                          reviewText   reviewTime  \\\n",
       "0  I've watched this movie every six months or so...  06 11, 2012   \n",
       "1  I suppose giving this video a 5-star is rather...  01 24, 2003   \n",
       "2  It is rather ironic to think that the elfin Mi...   12 3, 2003   \n",
       "3  In just telling the story in the song \"Rudolph...  12 25, 2005   \n",
       "4  I bought a bunch of these old holiday classics...  12 19, 2010   \n",
       "\n",
       "       reviewerID                    reviewerName  \\\n",
       "0   AE62TIY3899YL  Daniel J. Silva \"Superman_242\"   \n",
       "1  A2XVRCU5DQBULH             L. Varnau \"nerff20\"   \n",
       "2  A2NJO6YE954DBH             Lawrance M. Bernabo   \n",
       "3  A2NJO6YE954DBH             Lawrance M. Bernabo   \n",
       "4  A3PZ88WU7RPTP6                     TeamQuinnHQ   \n",
       "\n",
       "                                             summary  unixReviewTime  \n",
       "0  Best of the Bible Collection AND best telling ...      1339372800  \n",
       "1                From the voice of Little Critter...      1043366400  \n",
       "2  The charming story of how Kris Kringle became ...      1070409600  \n",
       "3  The deservedly beloved 1964 Bass-Rakin televis...      1135468800  \n",
       "4                                              Mine!      1292716800  "
      ]
     },
     "execution_count": 50,
     "metadata": {},
     "output_type": "execute_result"
    }
   ],
   "source": [
    "movie_reviews.head()"
   ]
  },
  {
   "cell_type": "code",
   "execution_count": 51,
   "metadata": {},
   "outputs": [],
   "source": [
    "movie_reviews.drop(['helpful','reviewText','reviewTime','reviewerName','summary','unixReviewTime'], axis=1, inplace=True)"
   ]
  },
  {
   "cell_type": "code",
   "execution_count": 55,
   "metadata": {},
   "outputs": [
    {
     "data": {
      "text/html": [
       "<div>\n",
       "<style scoped>\n",
       "    .dataframe tbody tr th:only-of-type {\n",
       "        vertical-align: middle;\n",
       "    }\n",
       "\n",
       "    .dataframe tbody tr th {\n",
       "        vertical-align: top;\n",
       "    }\n",
       "\n",
       "    .dataframe thead th {\n",
       "        text-align: right;\n",
       "    }\n",
       "</style>\n",
       "<table border=\"1\" class=\"dataframe\">\n",
       "  <thead>\n",
       "    <tr style=\"text-align: right;\">\n",
       "      <th></th>\n",
       "      <th>asin</th>\n",
       "      <th>overall</th>\n",
       "      <th>reviewerID</th>\n",
       "    </tr>\n",
       "  </thead>\n",
       "  <tbody>\n",
       "    <tr>\n",
       "      <th>0</th>\n",
       "      <td>014038572X</td>\n",
       "      <td>5.0</td>\n",
       "      <td>A2INGRA4M7D0QH</td>\n",
       "    </tr>\n",
       "    <tr>\n",
       "      <th>1</th>\n",
       "      <td>014038572X</td>\n",
       "      <td>5.0</td>\n",
       "      <td>AC1MHHZVWJE1P</td>\n",
       "    </tr>\n",
       "    <tr>\n",
       "      <th>2</th>\n",
       "      <td>014038572X</td>\n",
       "      <td>5.0</td>\n",
       "      <td>A38Z66H58RIJ64</td>\n",
       "    </tr>\n",
       "    <tr>\n",
       "      <th>3</th>\n",
       "      <td>014038572X</td>\n",
       "      <td>1.0</td>\n",
       "      <td>A77UMI1QYXJF9</td>\n",
       "    </tr>\n",
       "    <tr>\n",
       "      <th>4</th>\n",
       "      <td>014038572X</td>\n",
       "      <td>5.0</td>\n",
       "      <td>A3BVJTBO17JTZE</td>\n",
       "    </tr>\n",
       "  </tbody>\n",
       "</table>\n",
       "</div>"
      ],
      "text/plain": [
       "         asin  overall      reviewerID\n",
       "0  014038572X      5.0  A2INGRA4M7D0QH\n",
       "1  014038572X      5.0   AC1MHHZVWJE1P\n",
       "2  014038572X      5.0  A38Z66H58RIJ64\n",
       "3  014038572X      1.0   A77UMI1QYXJF9\n",
       "4  014038572X      5.0  A3BVJTBO17JTZE"
      ]
     },
     "execution_count": 55,
     "metadata": {},
     "output_type": "execute_result"
    }
   ],
   "source": [
    "dc_reviews.head()"
   ]
  },
  {
   "cell_type": "code",
   "execution_count": 93,
   "metadata": {},
   "outputs": [],
   "source": [
    "def new_id_column(df, column, suffix_val, new_name):\n",
    "    \"\"\"Take in column with unique indexes, return new index values\"\"\"\n",
    "    unique_vals = list(set(df[column].tolist()))\n",
    "    new_ids = [int(str(i) + suffix_val) for i in range(1,len(unique_vals)+1)]\n",
    "    new_id_dict = {k:v for k,v in zip(unique_vals, new_ids)}\n",
    "    df[new_name] = df[column].apply(lambda x: new_id_dict[x])"
   ]
  },
  {
   "cell_type": "code",
   "execution_count": 77,
   "metadata": {},
   "outputs": [
    {
     "data": {
      "text/plain": [
       "14"
      ]
     },
     "execution_count": 77,
     "metadata": {},
     "output_type": "execute_result"
    }
   ],
   "source": [
    "asins = list(set(dc_reviews['asin'].tolist()))\n",
    "len(asins)"
   ]
  },
  {
   "cell_type": "code",
   "execution_count": 78,
   "metadata": {},
   "outputs": [
    {
     "data": {
      "text/plain": [
       "14"
      ]
     },
     "execution_count": 78,
     "metadata": {},
     "output_type": "execute_result"
    }
   ],
   "source": [
    "dc_id = [int(str(i) + '00') for i in range(1,len(asins)+1)]\n",
    "len(dc_id)"
   ]
  },
  {
   "cell_type": "code",
   "execution_count": 79,
   "metadata": {},
   "outputs": [
    {
     "data": {
      "text/html": [
       "<div>\n",
       "<style scoped>\n",
       "    .dataframe tbody tr th:only-of-type {\n",
       "        vertical-align: middle;\n",
       "    }\n",
       "\n",
       "    .dataframe tbody tr th {\n",
       "        vertical-align: top;\n",
       "    }\n",
       "\n",
       "    .dataframe thead th {\n",
       "        text-align: right;\n",
       "    }\n",
       "</style>\n",
       "<table border=\"1\" class=\"dataframe\">\n",
       "  <thead>\n",
       "    <tr style=\"text-align: right;\">\n",
       "      <th></th>\n",
       "      <th>asin</th>\n",
       "      <th>overall</th>\n",
       "      <th>reviewerID</th>\n",
       "      <th>amazon_id</th>\n",
       "    </tr>\n",
       "  </thead>\n",
       "  <tbody>\n",
       "    <tr>\n",
       "      <th>0</th>\n",
       "      <td>014038572X</td>\n",
       "      <td>5.0</td>\n",
       "      <td>A2INGRA4M7D0QH</td>\n",
       "      <td>1300</td>\n",
       "    </tr>\n",
       "    <tr>\n",
       "      <th>1</th>\n",
       "      <td>014038572X</td>\n",
       "      <td>5.0</td>\n",
       "      <td>AC1MHHZVWJE1P</td>\n",
       "      <td>1300</td>\n",
       "    </tr>\n",
       "    <tr>\n",
       "      <th>2</th>\n",
       "      <td>014038572X</td>\n",
       "      <td>5.0</td>\n",
       "      <td>A38Z66H58RIJ64</td>\n",
       "      <td>1300</td>\n",
       "    </tr>\n",
       "    <tr>\n",
       "      <th>3</th>\n",
       "      <td>014038572X</td>\n",
       "      <td>1.0</td>\n",
       "      <td>A77UMI1QYXJF9</td>\n",
       "      <td>1300</td>\n",
       "    </tr>\n",
       "    <tr>\n",
       "      <th>4</th>\n",
       "      <td>014038572X</td>\n",
       "      <td>5.0</td>\n",
       "      <td>A3BVJTBO17JTZE</td>\n",
       "      <td>1300</td>\n",
       "    </tr>\n",
       "  </tbody>\n",
       "</table>\n",
       "</div>"
      ],
      "text/plain": [
       "         asin  overall      reviewerID  amazon_id\n",
       "0  014038572X      5.0  A2INGRA4M7D0QH       1300\n",
       "1  014038572X      5.0   AC1MHHZVWJE1P       1300\n",
       "2  014038572X      5.0  A38Z66H58RIJ64       1300\n",
       "3  014038572X      1.0   A77UMI1QYXJF9       1300\n",
       "4  014038572X      5.0  A3BVJTBO17JTZE       1300"
      ]
     },
     "execution_count": 79,
     "metadata": {},
     "output_type": "execute_result"
    }
   ],
   "source": [
    "new_id_dict = {k:v for k,v in zip(asins, dc_id)}\n",
    "dc_reviews['amazon_id'] = dc_reviews['asin'].apply(lambda x: new_id_dict[x])\n",
    "dc_reviews.head()"
   ]
  },
  {
   "cell_type": "code",
   "execution_count": 80,
   "metadata": {},
   "outputs": [
    {
     "data": {
      "text/plain": [
       "15964"
      ]
     },
     "execution_count": 80,
     "metadata": {},
     "output_type": "execute_result"
    }
   ],
   "source": [
    "movie_asins = list(set(movie_reviews['asin'].tolist()))\n",
    "len(movie_asins)"
   ]
  },
  {
   "cell_type": "code",
   "execution_count": 81,
   "metadata": {},
   "outputs": [
    {
     "data": {
      "text/plain": [
       "15964"
      ]
     },
     "execution_count": 81,
     "metadata": {},
     "output_type": "execute_result"
    }
   ],
   "source": [
    "m_id = [int(str(i) + '99') for i in range(1,len(movie_asins)+1)]\n",
    "len(m_id)"
   ]
  },
  {
   "cell_type": "code",
   "execution_count": 83,
   "metadata": {},
   "outputs": [
    {
     "data": {
      "text/html": [
       "<div>\n",
       "<style scoped>\n",
       "    .dataframe tbody tr th:only-of-type {\n",
       "        vertical-align: middle;\n",
       "    }\n",
       "\n",
       "    .dataframe tbody tr th {\n",
       "        vertical-align: top;\n",
       "    }\n",
       "\n",
       "    .dataframe thead th {\n",
       "        text-align: right;\n",
       "    }\n",
       "</style>\n",
       "<table border=\"1\" class=\"dataframe\">\n",
       "  <thead>\n",
       "    <tr style=\"text-align: right;\">\n",
       "      <th></th>\n",
       "      <th>asin</th>\n",
       "      <th>overall</th>\n",
       "      <th>reviewerID</th>\n",
       "      <th>amazon_id</th>\n",
       "    </tr>\n",
       "  </thead>\n",
       "  <tbody>\n",
       "    <tr>\n",
       "      <th>0</th>\n",
       "      <td>0005119367</td>\n",
       "      <td>5.0</td>\n",
       "      <td>AE62TIY3899YL</td>\n",
       "      <td>1065299</td>\n",
       "    </tr>\n",
       "    <tr>\n",
       "      <th>1</th>\n",
       "      <td>0307141950</td>\n",
       "      <td>5.0</td>\n",
       "      <td>A2XVRCU5DQBULH</td>\n",
       "      <td>1174199</td>\n",
       "    </tr>\n",
       "    <tr>\n",
       "      <th>2</th>\n",
       "      <td>0307142493</td>\n",
       "      <td>5.0</td>\n",
       "      <td>A2NJO6YE954DBH</td>\n",
       "      <td>621099</td>\n",
       "    </tr>\n",
       "    <tr>\n",
       "      <th>3</th>\n",
       "      <td>0307514161</td>\n",
       "      <td>5.0</td>\n",
       "      <td>A2NJO6YE954DBH</td>\n",
       "      <td>839799</td>\n",
       "    </tr>\n",
       "    <tr>\n",
       "      <th>4</th>\n",
       "      <td>0307514161</td>\n",
       "      <td>5.0</td>\n",
       "      <td>A3PZ88WU7RPTP6</td>\n",
       "      <td>839799</td>\n",
       "    </tr>\n",
       "  </tbody>\n",
       "</table>\n",
       "</div>"
      ],
      "text/plain": [
       "         asin  overall      reviewerID  amazon_id\n",
       "0  0005119367      5.0   AE62TIY3899YL    1065299\n",
       "1  0307141950      5.0  A2XVRCU5DQBULH    1174199\n",
       "2  0307142493      5.0  A2NJO6YE954DBH     621099\n",
       "3  0307514161      5.0  A2NJO6YE954DBH     839799\n",
       "4  0307514161      5.0  A3PZ88WU7RPTP6     839799"
      ]
     },
     "execution_count": 83,
     "metadata": {},
     "output_type": "execute_result"
    }
   ],
   "source": [
    "m_id_dict = {k:v for k,v in zip(movie_asins, m_id)}\n",
    "movie_reviews['amazon_id'] = movie_reviews['asin'].apply(lambda x: m_id_dict[x])\n",
    "movie_reviews.head()"
   ]
  },
  {
   "cell_type": "code",
   "execution_count": 84,
   "metadata": {},
   "outputs": [],
   "source": [
    "all_reviews = pd.concat([dc_reviews, movie_reviews], axis=0)"
   ]
  },
  {
   "cell_type": "code",
   "execution_count": 87,
   "metadata": {},
   "outputs": [],
   "source": [
    "all_reviews.drop('asin', axis=1, inplace=True)"
   ]
  },
  {
   "cell_type": "code",
   "execution_count": 88,
   "metadata": {},
   "outputs": [
    {
     "data": {
      "text/html": [
       "<div>\n",
       "<style scoped>\n",
       "    .dataframe tbody tr th:only-of-type {\n",
       "        vertical-align: middle;\n",
       "    }\n",
       "\n",
       "    .dataframe tbody tr th {\n",
       "        vertical-align: top;\n",
       "    }\n",
       "\n",
       "    .dataframe thead th {\n",
       "        text-align: right;\n",
       "    }\n",
       "</style>\n",
       "<table border=\"1\" class=\"dataframe\">\n",
       "  <thead>\n",
       "    <tr style=\"text-align: right;\">\n",
       "      <th></th>\n",
       "      <th>overall</th>\n",
       "      <th>reviewerID</th>\n",
       "      <th>amazon_id</th>\n",
       "    </tr>\n",
       "  </thead>\n",
       "  <tbody>\n",
       "    <tr>\n",
       "      <th>0</th>\n",
       "      <td>5.0</td>\n",
       "      <td>A2INGRA4M7D0QH</td>\n",
       "      <td>1300</td>\n",
       "    </tr>\n",
       "    <tr>\n",
       "      <th>1</th>\n",
       "      <td>5.0</td>\n",
       "      <td>AC1MHHZVWJE1P</td>\n",
       "      <td>1300</td>\n",
       "    </tr>\n",
       "    <tr>\n",
       "      <th>2</th>\n",
       "      <td>5.0</td>\n",
       "      <td>A38Z66H58RIJ64</td>\n",
       "      <td>1300</td>\n",
       "    </tr>\n",
       "    <tr>\n",
       "      <th>3</th>\n",
       "      <td>1.0</td>\n",
       "      <td>A77UMI1QYXJF9</td>\n",
       "      <td>1300</td>\n",
       "    </tr>\n",
       "    <tr>\n",
       "      <th>4</th>\n",
       "      <td>5.0</td>\n",
       "      <td>A3BVJTBO17JTZE</td>\n",
       "      <td>1300</td>\n",
       "    </tr>\n",
       "  </tbody>\n",
       "</table>\n",
       "</div>"
      ],
      "text/plain": [
       "   overall      reviewerID  amazon_id\n",
       "0      5.0  A2INGRA4M7D0QH       1300\n",
       "1      5.0   AC1MHHZVWJE1P       1300\n",
       "2      5.0  A38Z66H58RIJ64       1300\n",
       "3      1.0   A77UMI1QYXJF9       1300\n",
       "4      5.0  A3BVJTBO17JTZE       1300"
      ]
     },
     "execution_count": 88,
     "metadata": {},
     "output_type": "execute_result"
    }
   ],
   "source": [
    "all_reviews.head()"
   ]
  },
  {
   "cell_type": "code",
   "execution_count": 94,
   "metadata": {},
   "outputs": [],
   "source": [
    "new_id_column(all_reviews, 'reviewerID', suffix_val='88', new_name='amazon_user_id')"
   ]
  },
  {
   "cell_type": "code",
   "execution_count": 96,
   "metadata": {},
   "outputs": [],
   "source": [
    "all_reviews.drop('reviewerID', axis=1, inplace=True)"
   ]
  },
  {
   "cell_type": "code",
   "execution_count": 169,
   "metadata": {},
   "outputs": [
    {
     "data": {
      "text/html": [
       "<div>\n",
       "<style scoped>\n",
       "    .dataframe tbody tr th:only-of-type {\n",
       "        vertical-align: middle;\n",
       "    }\n",
       "\n",
       "    .dataframe tbody tr th {\n",
       "        vertical-align: top;\n",
       "    }\n",
       "\n",
       "    .dataframe thead th {\n",
       "        text-align: right;\n",
       "    }\n",
       "</style>\n",
       "<table border=\"1\" class=\"dataframe\">\n",
       "  <thead>\n",
       "    <tr style=\"text-align: right;\">\n",
       "      <th></th>\n",
       "      <th>overall</th>\n",
       "      <th>amazon_id</th>\n",
       "      <th>amazon_user_id</th>\n",
       "    </tr>\n",
       "  </thead>\n",
       "  <tbody>\n",
       "    <tr>\n",
       "      <th>0</th>\n",
       "      <td>5.0</td>\n",
       "      <td>1300</td>\n",
       "      <td>73188</td>\n",
       "    </tr>\n",
       "    <tr>\n",
       "      <th>1</th>\n",
       "      <td>5.0</td>\n",
       "      <td>1300</td>\n",
       "      <td>57288</td>\n",
       "    </tr>\n",
       "    <tr>\n",
       "      <th>2</th>\n",
       "      <td>5.0</td>\n",
       "      <td>1300</td>\n",
       "      <td>53288</td>\n",
       "    </tr>\n",
       "    <tr>\n",
       "      <th>3</th>\n",
       "      <td>1.0</td>\n",
       "      <td>1300</td>\n",
       "      <td>22088</td>\n",
       "    </tr>\n",
       "    <tr>\n",
       "      <th>4</th>\n",
       "      <td>5.0</td>\n",
       "      <td>1300</td>\n",
       "      <td>33688</td>\n",
       "    </tr>\n",
       "  </tbody>\n",
       "</table>\n",
       "</div>"
      ],
      "text/plain": [
       "   overall  amazon_id  amazon_user_id\n",
       "0      5.0       1300           73188\n",
       "1      5.0       1300           57288\n",
       "2      5.0       1300           53288\n",
       "3      1.0       1300           22088\n",
       "4      5.0       1300           33688"
      ]
     },
     "execution_count": 169,
     "metadata": {},
     "output_type": "execute_result"
    }
   ],
   "source": [
    "all_reviews.head()"
   ]
  },
  {
   "cell_type": "code",
   "execution_count": 107,
   "metadata": {},
   "outputs": [],
   "source": [
    "all_reviews_spark = spark.createDataFrame(all_reviews)"
   ]
  },
  {
   "cell_type": "code",
   "execution_count": 108,
   "metadata": {},
   "outputs": [
    {
     "data": {
      "text/plain": [
       "DataFrame[overall: double, amazon_id: bigint, amazon_user_id: bigint]"
      ]
     },
     "execution_count": 108,
     "metadata": {},
     "output_type": "execute_result"
    }
   ],
   "source": [
    "all_reviews_spark.persist()"
   ]
  },
  {
   "cell_type": "code",
   "execution_count": 158,
   "metadata": {},
   "outputs": [],
   "source": [
    "(train, test) = all_reviews_spark.randomSplit([.8,.2])"
   ]
  },
  {
   "cell_type": "code",
   "execution_count": 190,
   "metadata": {},
   "outputs": [],
   "source": [
    "# Build the recommendation model using ALS\n",
    "als = ALS(userCol='amazon_user_id', itemCol='amazon_id', ratingCol='overall', nonnegative=True)\n",
    "\n",
    "als_model = als.fit(train)"
   ]
  },
  {
   "cell_type": "code",
   "execution_count": 191,
   "metadata": {},
   "outputs": [],
   "source": [
    "pred = als_model.transform(test)"
   ]
  },
  {
   "cell_type": "code",
   "execution_count": 192,
   "metadata": {},
   "outputs": [],
   "source": [
    "pred_df = pred.toPandas()"
   ]
  },
  {
   "cell_type": "code",
   "execution_count": 193,
   "metadata": {},
   "outputs": [],
   "source": [
    "pred_df = pred_df.dropna(axis=0)"
   ]
  },
  {
   "cell_type": "code",
   "execution_count": 194,
   "metadata": {},
   "outputs": [],
   "source": [
    "pred = spark.createDataFrame(pred_df)"
   ]
  },
  {
   "cell_type": "code",
   "execution_count": 195,
   "metadata": {},
   "outputs": [],
   "source": [
    "al = als_model.extractParamMap"
   ]
  },
  {
   "cell_type": "code",
   "execution_count": 196,
   "metadata": {},
   "outputs": [
    {
     "name": "stdout",
     "output_type": "stream",
     "text": [
      "<bound method Params.extractParamMap of ALS_c17a9a3dcb6b>\n"
     ]
    }
   ],
   "source": [
    "print(al)"
   ]
  },
  {
   "cell_type": "code",
   "execution_count": 197,
   "metadata": {},
   "outputs": [
    {
     "name": "stdout",
     "output_type": "stream",
     "text": [
      "Root-mean-square error = 1.3328492850220897\n"
     ]
    }
   ],
   "source": [
    "evaluator = RegressionEvaluator(metricName=\"rmse\", labelCol=\"overall\",\n",
    "                                predictionCol=\"prediction\")\n",
    "\n",
    "rmse = evaluator.evaluate(pred)\n",
    "print(\"Root-mean-square error = \" + str(rmse))"
   ]
  },
  {
   "cell_type": "code",
   "execution_count": null,
   "metadata": {},
   "outputs": [],
   "source": [
    "& (pred_df['amazon_id'].astype(str).str.endswith('00'))"
   ]
  },
  {
   "cell_type": "code",
   "execution_count": 231,
   "metadata": {},
   "outputs": [
    {
     "data": {
      "text/html": [
       "<div>\n",
       "<style scoped>\n",
       "    .dataframe tbody tr th:only-of-type {\n",
       "        vertical-align: middle;\n",
       "    }\n",
       "\n",
       "    .dataframe tbody tr th {\n",
       "        vertical-align: top;\n",
       "    }\n",
       "\n",
       "    .dataframe thead th {\n",
       "        text-align: right;\n",
       "    }\n",
       "</style>\n",
       "<table border=\"1\" class=\"dataframe\">\n",
       "  <thead>\n",
       "    <tr style=\"text-align: right;\">\n",
       "      <th></th>\n",
       "      <th>overall</th>\n",
       "      <th>amazon_id</th>\n",
       "      <th>amazon_user_id</th>\n",
       "      <th>prediction</th>\n",
       "    </tr>\n",
       "  </thead>\n",
       "  <tbody>\n",
       "    <tr>\n",
       "      <th>529</th>\n",
       "      <td>5.0</td>\n",
       "      <td>300</td>\n",
       "      <td>94688</td>\n",
       "      <td>2.584244</td>\n",
       "    </tr>\n",
       "  </tbody>\n",
       "</table>\n",
       "</div>"
      ],
      "text/plain": [
       "     overall  amazon_id  amazon_user_id  prediction\n",
       "529      5.0        300           94688    2.584244"
      ]
     },
     "execution_count": 231,
     "metadata": {},
     "output_type": "execute_result"
    }
   ],
   "source": [
    "pred_df.loc[pred_df['amazon_user_id'] == 94688]"
   ]
  },
  {
   "cell_type": "code",
   "execution_count": 122,
   "metadata": {},
   "outputs": [
    {
     "data": {
      "text/plain": [
       "50"
      ]
     },
     "execution_count": 122,
     "metadata": {},
     "output_type": "execute_result"
    }
   ],
   "source": [
    "from pyspark.ml.tuning import CrossValidator, ParamGridBuilder\n",
    "\n",
    "\n",
    "als_model =  ALS(userCol=\"amazon_user_id\", itemCol=\"amazon_id\", ratingCol=\"overall\")\n",
    "\n",
    "                 \n",
    "params = ParamGridBuilder().addGrid(als_model.regParam, [0.01,0.001,0.1]).addGrid(als_model.rank, [4,10,50]).build()\n",
    "\n",
    "\n",
    "## instantiating crossvalidator estimator\n",
    "cv = CrossValidator(estimator=als_model, estimatorParamMaps=params,evaluator=evaluator,parallelism=4)\n",
    "best_model = cv.fit(train)    \n",
    "\n",
    "# We see the best model has a rank of 50, so we will use that in our future models with this dataset\n",
    "best_model.bestModel.rank"
   ]
  },
  {
   "cell_type": "code",
   "execution_count": null,
   "metadata": {},
   "outputs": [],
   "source": [
    "query = \"\"\"\n",
    "SELECT \n",
    "    asin,\n",
    "    title\n",
    "FROM metadta\n",
    "\"\"\""
   ]
  },
  {
   "cell_type": "code",
   "execution_count": null,
   "metadata": {},
   "outputs": [],
   "source": [
    "metadta.createOrReplaceTempView('metadta')"
   ]
  },
  {
   "cell_type": "code",
   "execution_count": null,
   "metadata": {},
   "outputs": [],
   "source": [
    "met_df = spark.sql(query)"
   ]
  },
  {
   "cell_type": "code",
   "execution_count": null,
   "metadata": {},
   "outputs": [],
   "source": [
    "books = met_df.select(\"asin\", met_df.salesRank['Books']\n",
    "                     .alias('book_ranks'), \"title\").filter('book_ranks is not null').collect()"
   ]
  },
  {
   "cell_type": "code",
   "execution_count": null,
   "metadata": {},
   "outputs": [],
   "source": [
    "print(image_comics)"
   ]
  },
  {
   "cell_type": "code",
   "execution_count": null,
   "metadata": {},
   "outputs": [],
   "source": [
    "image_comics = []\n",
    "for i in range(len(books)):\n",
    "    if books[i]['book_ranks'] == 4395:\n",
    "        image_comics.append(books[i])"
   ]
  },
  {
   "cell_type": "markdown",
   "metadata": {},
   "source": [
    "* non-negative = TRUE\n",
    "* search latent features\n",
    "* See the cluster\n",
    "* Clusters that containt both \n",
    "* Combine clusters \n",
    "* Reduce ranks for increased "
   ]
  },
  {
   "cell_type": "code",
   "execution_count": null,
   "metadata": {},
   "outputs": [],
   "source": []
  }
 ],
 "metadata": {
  "kernelspec": {
   "display_name": "Python 3",
   "language": "python",
   "name": "python3"
  },
  "language_info": {
   "codemirror_mode": {
    "name": "ipython",
    "version": 3
   },
   "file_extension": ".py",
   "mimetype": "text/x-python",
   "name": "python",
   "nbconvert_exporter": "python",
   "pygments_lexer": "ipython3",
   "version": "3.7.1"
  }
 },
 "nbformat": 4,
 "nbformat_minor": 2
}
