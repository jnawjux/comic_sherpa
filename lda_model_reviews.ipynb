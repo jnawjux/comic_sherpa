{
 "cells": [
  {
   "cell_type": "code",
   "execution_count": 2,
   "metadata": {},
   "outputs": [],
   "source": [
    "import pandas as pd\n",
    "import numpy as np\n",
    "\n",
    "import pyspark\n",
    "from pyspark.sql.functions import col\n",
    "from pyspark.sql import SQLContext\n",
    "\n",
    "import nltk\n",
    "from nltk.corpus import stopwords\n",
    "from nltk.tokenize import PunktSentenceTokenizer\n",
    "from nltk.corpus import stopwords\n",
    "\n",
    "import gensim\n",
    "from gensim.models import LdaModel\n",
    "from gensim import models, corpora, similarities\n",
    "\n",
    "from scipy.stats import entropy\n",
    "\n",
    "import time\n",
    "import re"
   ]
  },
  {
   "cell_type": "code",
   "execution_count": 3,
   "metadata": {},
   "outputs": [],
   "source": [
    "spark = (pyspark.sql.SparkSession.builder\n",
    "    .master(\"local\")\n",
    "    .getOrCreate())"
   ]
  },
  {
   "cell_type": "code",
   "execution_count": 4,
   "metadata": {},
   "outputs": [],
   "source": [
    "book_review_df = spark.read.json('data/reviews_Books.json')\n",
    "comics_df = spark.read.json('data/comic_reviews_wtitle.json')"
   ]
  },
  {
   "cell_type": "code",
   "execution_count": 12,
   "metadata": {},
   "outputs": [],
   "source": [
    "comics_asins = [asin[0] for asin in comics_df.select('asin').dropDuplicates().collect()]"
   ]
  },
  {
   "cell_type": "code",
   "execution_count": 15,
   "metadata": {},
   "outputs": [
    {
     "name": "stdout",
     "output_type": "stream",
     "text": [
      "root\n",
      " |-- asin: string (nullable = true)\n",
      " |-- helpful: array (nullable = true)\n",
      " |    |-- element: long (containsNull = true)\n",
      " |-- overall: double (nullable = true)\n",
      " |-- reviewText: string (nullable = true)\n",
      " |-- reviewTime: string (nullable = true)\n",
      " |-- reviewerID: string (nullable = true)\n",
      " |-- reviewerName: string (nullable = true)\n",
      " |-- summary: string (nullable = true)\n",
      " |-- unixReviewTime: long (nullable = true)\n",
      "\n"
     ]
    }
   ],
   "source": [
    "book_review_df.printSchema()"
   ]
  },
  {
   "cell_type": "code",
   "execution_count": 18,
   "metadata": {},
   "outputs": [],
   "source": [
    "# Filtering review text for comic books used from all book reviews\n",
    "comic_review_text  = book_review_df.select(['asin',\n",
    "                                            'reviewText',\n",
    "                                            'summary'\n",
    "                                           ]).filter(col(\"asin\").isin(comics_asins)).collect()"
   ]
  },
  {
   "cell_type": "code",
   "execution_count": 23,
   "metadata": {},
   "outputs": [],
   "source": [
    "# Converting individual reviews to dictionary of ASIN with all review text.\n",
    "review_text = {}\n",
    "for review in comic_review_text:\n",
    "    if review[0] not in review_text.keys():\n",
    "        review_text[review[0]] = review[1] + review[2]\n",
    "    else:\n",
    "        review_text[review[0]] += review[1] + review[2]"
   ]
  },
  {
   "cell_type": "code",
   "execution_count": 36,
   "metadata": {},
   "outputs": [],
   "source": [
    "# Temporarily saving to CSV\n",
    "pd.DataFrame(list(review_text.items()), columns=['asin', 'text']).to_csv('data/review_text.csv')"
   ]
  },
  {
   "cell_type": "code",
   "execution_count": 76,
   "metadata": {},
   "outputs": [],
   "source": [
    "import spacy\n",
    "from spacy import displacy\n",
    "from collections import Counter\n",
    "from pprint import pprint\n",
    "import en_core_web_sm\n",
    "nlp = en_core_web_sm.load()"
   ]
  },
  {
   "cell_type": "code",
   "execution_count": 82,
   "metadata": {},
   "outputs": [
    {
     "name": "stdout",
     "output_type": "stream",
     "text": [
      "[(\"Ronald Reagan's\", 'PERSON'),\n",
      " ('Calvin', 'PERSON'),\n",
      " ('Hobbs', 'PERSON'),\n",
      " ('Bill Watterson', 'PERSON'),\n",
      " ('Gary Larson', 'PERSON'),\n",
      " (\"Scott Adams'\", 'PERSON'),\n",
      " ('Dilbert', 'PERSON'),\n",
      " ('Get Fuzzy', 'PERSON'),\n",
      " ('Darby Conley', 'PERSON'),\n",
      " ('Tatsuya Ishid', 'PERSON'),\n",
      " ('Opus', 'PERSON'),\n",
      " (\"Gary Trudeau's Doonesbury\", 'PERSON'),\n",
      " ('Breathed', 'PERSON'),\n",
      " ('Doonesbury', 'PERSON'),\n",
      " ('Trudeau', 'PERSON'),\n",
      " ('Hunter S. Thompson', 'PERSON'),\n",
      " ('Oliver Wendell Holmes', 'PERSON'),\n",
      " ('Douglas Adams', 'PERSON'),\n",
      " ('Berke Breathed', 'PERSON'),\n",
      " ('Ronald Reagan', 'PERSON'),\n",
      " ('Walter Mondale', 'PERSON'),\n",
      " ('Michael Jackson', 'PERSON'),\n",
      " ('Steve Dallas', 'PERSON'),\n",
      " ('Steve Dallas', 'PERSON'),\n",
      " ('Steve Dallas', 'PERSON'),\n",
      " ('Opus', 'PERSON'),\n",
      " ('Bill the Cat', 'PERSON')]\n"
     ]
    }
   ],
   "source": [
    "doc = nlp(review_text['0316107255'])\n",
    "pprint([(X.text, X.label_) for X in doc.ents if X.label_ is 'PERSON'])"
   ]
  },
  {
   "cell_type": "code",
   "execution_count": null,
   "metadata": {},
   "outputs": [],
   "source": []
  }
 ],
 "metadata": {
  "kernelspec": {
   "display_name": "Python 3",
   "language": "python",
   "name": "python3"
  },
  "language_info": {
   "codemirror_mode": {
    "name": "ipython",
    "version": 3
   },
   "file_extension": ".py",
   "mimetype": "text/x-python",
   "name": "python",
   "nbconvert_exporter": "python",
   "pygments_lexer": "ipython3",
   "version": "3.6.6"
  }
 },
 "nbformat": 4,
 "nbformat_minor": 2
}
