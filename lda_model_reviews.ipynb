{
 "cells": [
  {
   "cell_type": "code",
   "execution_count": 1,
   "metadata": {},
   "outputs": [],
   "source": [
    "import pandas as pd\n",
    "import numpy as np\n",
    "\n",
    "import pyspark\n",
    "from pyspark.sql.functions import col\n",
    "from pyspark.sql import SQLContext\n",
    "\n",
    "import spacy\n",
    "import string\n",
    "\n",
    "import re\n",
    "import gensim\n",
    "from gensim import corpora\n",
    "\n",
    "import en_core_web_sm\n",
    "nlp = en_core_web_sm.load()"
   ]
  },
  {
   "cell_type": "code",
   "execution_count": 3,
   "metadata": {},
   "outputs": [],
   "source": [
    "spark = (pyspark.sql.SparkSession.builder\n",
    "    .master(\"local\")\n",
    "    .getOrCreate())"
   ]
  },
  {
   "cell_type": "code",
   "execution_count": 4,
   "metadata": {},
   "outputs": [],
   "source": [
    "book_review_df = spark.read.json('data/reviews_Books.json')\n",
    "comics_df = spark.read.json('data/comic_reviews_wtitle.json')"
   ]
  },
  {
   "cell_type": "code",
   "execution_count": 12,
   "metadata": {},
   "outputs": [],
   "source": [
    "comics_asins = [asin[0] for asin in comics_df.select('asin').dropDuplicates().collect()]"
   ]
  },
  {
   "cell_type": "code",
   "execution_count": 15,
   "metadata": {},
   "outputs": [
    {
     "name": "stdout",
     "output_type": "stream",
     "text": [
      "root\n",
      " |-- asin: string (nullable = true)\n",
      " |-- helpful: array (nullable = true)\n",
      " |    |-- element: long (containsNull = true)\n",
      " |-- overall: double (nullable = true)\n",
      " |-- reviewText: string (nullable = true)\n",
      " |-- reviewTime: string (nullable = true)\n",
      " |-- reviewerID: string (nullable = true)\n",
      " |-- reviewerName: string (nullable = true)\n",
      " |-- summary: string (nullable = true)\n",
      " |-- unixReviewTime: long (nullable = true)\n",
      "\n"
     ]
    }
   ],
   "source": [
    "book_review_df.printSchema()"
   ]
  },
  {
   "cell_type": "code",
   "execution_count": 18,
   "metadata": {},
   "outputs": [],
   "source": [
    "# Filtering review text for comic books used from all book reviews\n",
    "comic_review_text  = book_review_df.select(['asin',\n",
    "                                            'reviewText',\n",
    "                                            'summary'\n",
    "                                           ]).filter(col(\"asin\").isin(comics_asins)).collect()"
   ]
  },
  {
   "cell_type": "code",
   "execution_count": 23,
   "metadata": {},
   "outputs": [],
   "source": [
    "# Converting individual reviews to dictionary of ASIN with all review text.\n",
    "review_text = {}\n",
    "for review in comic_review_text:\n",
    "    if review[0] not in review_text.keys():\n",
    "        review_text[review[0]] = review[1] + review[2]\n",
    "    else:\n",
    "        review_text[review[0]] += review[1] + review[2]"
   ]
  },
  {
   "cell_type": "code",
   "execution_count": 2,
   "metadata": {},
   "outputs": [],
   "source": [
    "# Temporarily saving to CSV\n",
    "reviews_df = pd.read_csv('data/review_text.csv', index_col=0)"
   ]
  },
  {
   "cell_type": "code",
   "execution_count": 3,
   "metadata": {},
   "outputs": [
    {
     "data": {
      "text/html": [
       "<div>\n",
       "<style scoped>\n",
       "    .dataframe tbody tr th:only-of-type {\n",
       "        vertical-align: middle;\n",
       "    }\n",
       "\n",
       "    .dataframe tbody tr th {\n",
       "        vertical-align: top;\n",
       "    }\n",
       "\n",
       "    .dataframe thead th {\n",
       "        text-align: right;\n",
       "    }\n",
       "</style>\n",
       "<table border=\"1\" class=\"dataframe\">\n",
       "  <thead>\n",
       "    <tr style=\"text-align: right;\">\n",
       "      <th></th>\n",
       "      <th>asin</th>\n",
       "      <th>text</th>\n",
       "    </tr>\n",
       "  </thead>\n",
       "  <tbody>\n",
       "    <tr>\n",
       "      <th>0</th>\n",
       "      <td>0316107255</td>\n",
       "      <td>PENGUIN DREAMS AND STRANGER THINGS is an engag...</td>\n",
       "    </tr>\n",
       "    <tr>\n",
       "      <th>1</th>\n",
       "      <td>0345507460</td>\n",
       "      <td>Well, I'm sorry there's people who didn't enjo...</td>\n",
       "    </tr>\n",
       "    <tr>\n",
       "      <th>2</th>\n",
       "      <td>0345529375</td>\n",
       "      <td>beautiful story with bryan's wonderful and awk...</td>\n",
       "    </tr>\n",
       "    <tr>\n",
       "      <th>3</th>\n",
       "      <td>0375424148</td>\n",
       "      <td>The drawings are somtimes almost psychedelic, ...</td>\n",
       "    </tr>\n",
       "    <tr>\n",
       "      <th>4</th>\n",
       "      <td>0375424334</td>\n",
       "      <td>If you like Chris Ware this is a must, the usu...</td>\n",
       "    </tr>\n",
       "  </tbody>\n",
       "</table>\n",
       "</div>"
      ],
      "text/plain": [
       "         asin                                               text\n",
       "0  0316107255  PENGUIN DREAMS AND STRANGER THINGS is an engag...\n",
       "1  0345507460  Well, I'm sorry there's people who didn't enjo...\n",
       "2  0345529375  beautiful story with bryan's wonderful and awk...\n",
       "3  0375424148  The drawings are somtimes almost psychedelic, ...\n",
       "4  0375424334  If you like Chris Ware this is a must, the usu..."
      ]
     },
     "execution_count": 3,
     "metadata": {},
     "output_type": "execute_result"
    }
   ],
   "source": [
    "reviews_df.head()"
   ]
  },
  {
   "cell_type": "code",
   "execution_count": 57,
   "metadata": {},
   "outputs": [],
   "source": [
    "# Functions to clean and tokenize text\n",
    "def replace_punct_and_numbers(text):\n",
    "    \"\"\"Remove punctuation from document\"\"\"\n",
    "    punct = [punc for punc in string.punctuation]\n",
    "    num = list(range(10))\n",
    "    clean_text = \"\".join([letter for letter in text if (letter not in punct) and (letter not in num)])\n",
    "    return clean_text\n",
    "\n",
    "def remove_ner(text):\n",
    "    \"\"\"Remove NER words from text\"\"\"\n",
    "    doc_nlp = nlp(text)\n",
    "    ner_words = [word.text for word in doc_nlp.ents]\n",
    "    ner_regex = re.compile(\"|\".join(ner_words))\n",
    "    doc_ner_clean = ner_regex.sub('', text)\n",
    "    return doc_ner_clean\n",
    "\n",
    "def clean(doc):\n",
    "    \"\"\"Process text and return tokenized\"\"\"\n",
    "    punct_free = replace_punct_and_numbers(doc)\n",
    "    doc_ready = nlp(remove_ner(punct_free))\n",
    "    tokens = [token.lemma_.lower() for token in doc_ready \n",
    "                  if (not token.is_stop) and (token.text.strip() != \"\")]\n",
    "    return tokens"
   ]
  },
  {
   "cell_type": "code",
   "execution_count": 31,
   "metadata": {},
   "outputs": [],
   "source": [
    "texts = [clean(doc) for doc in reviews_df['text'].tolist()]"
   ]
  },
  {
   "cell_type": "code",
   "execution_count": 33,
   "metadata": {},
   "outputs": [],
   "source": [
    "dictionary = corpora.Dictionary(texts)\n",
    "doc_term_matrix = [dictionary.doc2bow(doc) for doc in texts]"
   ]
  },
  {
   "cell_type": "code",
   "execution_count": 33,
   "metadata": {},
   "outputs": [],
   "source": [
    "Lda = gensim.models.ldamodel.LdaModel\n",
    "ldamodel = Lda(doc_term_matrix, num_topics = 3, id2word = dictionary, passes=50)"
   ]
  },
  {
   "cell_type": "code",
   "execution_count": 63,
   "metadata": {},
   "outputs": [
    {
     "name": "stdout",
     "output_type": "stream",
     "text": [
      "[(0, '0.001*\"odst\" + 0.000*\"calender\" + 0.000*\"greenyellow\" + 0.000*\"index\" + 0.000*\"handbook\" + 0.000*\"ilver\" + 0.000*\"kindergartner\" + 0.000*\"adventures34\" + 0.000*\"ballet\" + 0.000*\"dorrie\"'), (1, '0.024*\"story\" + 0.024*\"book\" + 0.014*\"read\" + 0.014*\"not\" + 0.012*\"s\" + 0.010*\"like\" + 0.010*\"comic\" + 0.009*\"good\" + 0.009*\"great\" + 0.008*\"character\"'), (2, '0.020*\"story\" + 0.017*\"s\" + 0.014*\"not\" + 0.012*\"character\" + 0.011*\"book\" + 0.011*\"good\" + 0.010*\"like\" + 0.008*\"issue\" + 0.008*\"read\" + 0.008*\"series\"'), (3, '0.003*\"dale\" + 0.003*\"album\" + 0.002*\"lion\" + 0.002*\"immigrant\" + 0.002*\"que\" + 0.001*\"de\" + 0.001*\"ic\" + 0.001*\"gunslinger\" + 0.001*\"katet\" + 0.001*\"la\"'), (4, '0.002*\"di\" + 0.001*\"e\" + 0.001*\"che\" + 0.001*\"il\" + 0.001*\"nd\" + 0.001*\"tht\" + 0.001*\"una\" + 0.001*\"un\" + 0.001*\"del\" + 0.000*\"tp\"')]\n"
     ]
    }
   ],
   "source": [
    "print(ldamodel.print_topics(num_topics=5, num_words=10))"
   ]
  },
  {
   "cell_type": "code",
   "execution_count": 45,
   "metadata": {},
   "outputs": [],
   "source": [
    "ldamodel.save('data/lda.model')"
   ]
  },
  {
   "cell_type": "code",
   "execution_count": 52,
   "metadata": {},
   "outputs": [
    {
     "data": {
      "text/plain": [
       "[(1, 0.8621955), (2, 0.13542761)]"
      ]
     },
     "execution_count": 52,
     "metadata": {},
     "output_type": "execute_result"
    }
   ],
   "source": [
    "ldamodel.get_document_topics(doc_term_matrix[1])"
   ]
  },
  {
   "cell_type": "code",
   "execution_count": 49,
   "metadata": {},
   "outputs": [],
   "source": [
    "Lda = gensim.models.ldamodel.LdaModel\n",
    "ldamodel_3topics = Lda(doc_term_matrix, num_topics = 3, id2word = dictionary, passes=50)"
   ]
  },
  {
   "cell_type": "code",
   "execution_count": 64,
   "metadata": {},
   "outputs": [
    {
     "name": "stdout",
     "output_type": "stream",
     "text": [
      "[(0, '0.022*\"story\" + 0.018*\"book\" + 0.014*\"not\" + 0.014*\"s\" + 0.011*\"read\" + 0.010*\"good\" + 0.010*\"like\" + 0.010*\"character\" + 0.008*\"great\" + 0.007*\"series\"'), (1, '0.010*\"vampire\" + 0.002*\"dale\" + 0.002*\"chef\" + 0.002*\"food\" + 0.002*\"album\" + 0.001*\"sushi\" + 0.001*\"rman\" + 0.001*\"di\" + 0.001*\"rgirl\" + 0.001*\"mandias\"'), (2, '0.001*\"immigrant\" + 0.001*\"de\" + 0.001*\"que\" + 0.001*\"la\" + 0.001*\"nd\" + 0.001*\"en\" + 0.001*\"los\" + 0.000*\"el\" + 0.000*\"threeboote\" + 0.000*\"es\"')]\n"
     ]
    }
   ],
   "source": [
    "print(ldamodel_3topics.print_topics(num_topics=3, num_words=10))"
   ]
  },
  {
   "cell_type": "code",
   "execution_count": 59,
   "metadata": {},
   "outputs": [
    {
     "data": {
      "text/plain": [
       "[(0, 0.9998981)]"
      ]
     },
     "execution_count": 59,
     "metadata": {},
     "output_type": "execute_result"
    }
   ],
   "source": [
    "ldamodel_3topics.get_document_topics(doc_term_matrix[1])"
   ]
  },
  {
   "cell_type": "code",
   "execution_count": 61,
   "metadata": {},
   "outputs": [],
   "source": [
    "lsi_model = gensim.models.LsiModel(doc_term_matrix, num_topics=3, id2word=dictionary)"
   ]
  },
  {
   "cell_type": "markdown",
   "metadata": {},
   "source": [
    "Since the model didn't give me a useful enough combination of words, I am going to try a couple other ways of using the text:\n",
    "* Leaving in the NER items\n",
    "* Using just the NER items"
   ]
  },
  {
   "cell_type": "code",
   "execution_count": 4,
   "metadata": {},
   "outputs": [],
   "source": [
    "doc = nlp(reviews_df.iloc[0]['text'])"
   ]
  },
  {
   "cell_type": "code",
   "execution_count": 26,
   "metadata": {},
   "outputs": [],
   "source": [
    "def get_adjectives(text):\n",
    "    doc = nlp(text)\n",
    "    adj = [token.text for token in doc if token.tag_ == \"JJ\"]\n",
    "    return adj\n",
    "\n",
    "def get_ner(text):\n",
    "    doc = nlp(text)\n",
    "    ents = [token.text for token in doc.ents]\n",
    "    return ents"
   ]
  },
  {
   "cell_type": "code",
   "execution_count": 18,
   "metadata": {},
   "outputs": [],
   "source": [
    "text_adj = [get_adjectives(text) for text in reviews_df.text.tolist()]"
   ]
  },
  {
   "cell_type": "code",
   "execution_count": 27,
   "metadata": {},
   "outputs": [],
   "source": [
    "text_ents = [get_ner(text) for text in reviews_df.text.tolist()]"
   ]
  },
  {
   "cell_type": "code",
   "execution_count": 21,
   "metadata": {},
   "outputs": [],
   "source": [
    "dictionary_adj = corpora.Dictionary(text_adj)\n",
    "adj_term_matrix = [dictionary_adj.doc2bow(doc) for doc in text_adj]"
   ]
  },
  {
   "cell_type": "code",
   "execution_count": 23,
   "metadata": {},
   "outputs": [],
   "source": [
    "Lda_adj = gensim.models.ldamodel.LdaModel\n",
    "ldamodel_adj = Lda_adj(adj_term_matrix, num_topics = 3, id2word = dictionary_adj, passes=50)"
   ]
  },
  {
   "cell_type": "code",
   "execution_count": 25,
   "metadata": {},
   "outputs": [
    {
     "data": {
      "text/plain": [
       "[(0,\n",
       "  '0.042*\"comic\" + 0.042*\"great\" + 0.033*\"first\" + 0.022*\"original\" + 0.018*\"good\" + 0.017*\"early\" + 0.015*\"other\" + 0.012*\"white\" + 0.012*\"black\" + 0.011*\"classic\" + 0.011*\"many\" + 0.010*\"Great\" + 0.010*\"worth\" + 0.010*\"few\" + 0.009*\"old\" + 0.009*\"nice\" + 0.008*\"same\" + 0.007*\"Dead\" + 0.007*\"amazing\" + 0.007*\"different\"'),\n",
       " (1,\n",
       "  '0.037*\"good\" + 0.032*\"great\" + 0.032*\"new\" + 0.022*\"first\" + 0.022*\"other\" + 0.015*\"comic\" + 0.012*\"little\" + 0.012*\"interesting\" + 0.012*\"bad\" + 0.011*\"many\" + 0.010*\"much\" + 0.009*\"few\" + 0.009*\"old\" + 0.009*\"big\" + 0.009*\"own\" + 0.008*\"different\" + 0.008*\"last\" + 0.008*\"same\" + 0.007*\"main\" + 0.007*\"next\"'),\n",
       " (2,\n",
       "  '0.035*\"graphic\" + 0.026*\"comic\" + 0.017*\"great\" + 0.016*\"good\" + 0.015*\"first\" + 0.014*\"other\" + 0.012*\"many\" + 0.011*\"Superman\" + 0.011*\"little\" + 0.009*\"interesting\" + 0.008*\"real\" + 0.008*\"own\" + 0.008*\"different\" + 0.007*\"same\" + 0.007*\"much\" + 0.007*\"beautiful\" + 0.007*\"young\" + 0.007*\"few\" + 0.006*\"amazing\" + 0.006*\"dark\"')]"
      ]
     },
     "execution_count": 25,
     "metadata": {},
     "output_type": "execute_result"
    }
   ],
   "source": [
    "ldamodel_adj.print_topics(num_topics=3, num_words=20)"
   ]
  },
  {
   "cell_type": "code",
   "execution_count": 28,
   "metadata": {},
   "outputs": [],
   "source": [
    "dictionary_ent = corpora.Dictionary(text_ents)\n",
    "ent_term_matrix = [dictionary_ent.doc2bow(doc) for doc in text_ents]"
   ]
  },
  {
   "cell_type": "code",
   "execution_count": 33,
   "metadata": {},
   "outputs": [],
   "source": [
    "Lda_ent = gensim.models.ldamodel.LdaModel\n",
    "ldamodel_ent = Lda_ent(ent_term_matrix, num_topics = 2, id2word = dictionary_ent, passes=50)"
   ]
  },
  {
   "cell_type": "code",
   "execution_count": 34,
   "metadata": {},
   "outputs": [
    {
     "data": {
      "text/plain": [
       "[(0,\n",
       "  '0.048*\"Batman\" + 0.025*\"Superman\" + 0.023*\"first\" + 0.021*\"DC\" + 0.017*\"one\" + 0.012*\"two\" + 0.010*\"Joker\" + 0.006*\"Morrison\" + 0.006*\"second\" + 0.006*\"1\" + 0.005*\"2\" + 0.005*\"Robin\" + 0.005*\"Fables\" + 0.005*\"Wonder Woman\" + 0.004*\"three\" + 0.004*\"Earth\" + 0.004*\"Green Lantern\" + 0.003*\"Gotham\" + 0.003*\"One\" + 0.003*\"JLA\" + 0.003*\"Aquaman\" + 0.003*\"3\" + 0.003*\"Flash\" + 0.003*\"Geoff Johns\" + 0.003*\"Bruce\"'),\n",
       " (1,\n",
       "  '0.029*\"first\" + 0.020*\"one\" + 0.019*\"Marvel\" + 0.014*\"two\" + 0.007*\"Thor\" + 0.007*\"Wolverine\" + 0.007*\"Spider-Man\" + 0.007*\"second\" + 0.006*\"1\" + 0.006*\"2\" + 0.006*\"Avengers\" + 0.005*\"three\" + 0.004*\"Peter\" + 0.004*\"Captain America\" + 0.004*\"One\" + 0.004*\"Iron Man\" + 0.004*\"Spidey\" + 0.004*\"3\" + 0.004*\"Bendis\" + 0.004*\"Daredevil\" + 0.003*\"Cap\" + 0.003*\"5\" + 0.003*\"Earth\" + 0.003*\"four\" + 0.003*\"Spider\"')]"
      ]
     },
     "execution_count": 34,
     "metadata": {},
     "output_type": "execute_result"
    }
   ],
   "source": [
    "ldamodel_ent.print_topics(num_topics=2, num_words=25)"
   ]
  },
  {
   "cell_type": "code",
   "execution_count": 39,
   "metadata": {},
   "outputs": [
    {
     "data": {
      "text/plain": [
       "[(0, 0.990969)]"
      ]
     },
     "execution_count": 39,
     "metadata": {},
     "output_type": "execute_result"
    }
   ],
   "source": [
    "ldamodel_ent.get_document_topics(ent_term_matrix[0])"
   ]
  },
  {
   "cell_type": "code",
   "execution_count": null,
   "metadata": {},
   "outputs": [],
   "source": []
  }
 ],
 "metadata": {
  "kernelspec": {
   "display_name": "Python 3",
   "language": "python",
   "name": "python3"
  },
  "language_info": {
   "codemirror_mode": {
    "name": "ipython",
    "version": 3
   },
   "file_extension": ".py",
   "mimetype": "text/x-python",
   "name": "python",
   "nbconvert_exporter": "python",
   "pygments_lexer": "ipython3",
   "version": "3.6.6"
  }
 },
 "nbformat": 4,
 "nbformat_minor": 2
}
