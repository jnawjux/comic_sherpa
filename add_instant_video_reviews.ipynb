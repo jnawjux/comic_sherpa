{
 "cells": [
  {
   "cell_type": "code",
   "execution_count": 1,
   "metadata": {},
   "outputs": [],
   "source": [
    "import pandas as pd\n",
    "import pyspark \n",
    "from pyspark.sql.functions import col\n",
    "from pyspark.sql import SQLContext"
   ]
  },
  {
   "cell_type": "code",
   "execution_count": 2,
   "metadata": {},
   "outputs": [],
   "source": [
    "spark = (pyspark.sql.SparkSession.builder\n",
    "    .master(\"local\")\n",
    "    .getOrCreate())"
   ]
  },
  {
   "cell_type": "markdown",
   "metadata": {},
   "source": [
    "Loading in Instant video reviews and already cleaned comic reviews."
   ]
  },
  {
   "cell_type": "code",
   "execution_count": 3,
   "metadata": {},
   "outputs": [],
   "source": [
    "video_reviews_df = spark.read.json('data/reviews_Amazon_Instant_Video.json')\n",
    "meta_video_reviews = spark.read.json('data/meta_Amazon_Instant_Video.json')\n",
    "comic_reviews_df = spark.read.json('data/comic_reviews_wtitle.json')"
   ]
  },
  {
   "cell_type": "code",
   "execution_count": 4,
   "metadata": {},
   "outputs": [
    {
     "name": "stdout",
     "output_type": "stream",
     "text": [
      "+----------+--------------------+-------+-------------+--------------------+\n",
      "|      asin|               imUrl|overall|   reviewerID|               title|\n",
      "+----------+--------------------+-------+-------------+--------------------+\n",
      "|0345507460|http://ecx.images...|    5.0|ACO26JQ366659|The Dresden Files...|\n",
      "+----------+--------------------+-------+-------------+--------------------+\n",
      "only showing top 1 row\n",
      "\n"
     ]
    }
   ],
   "source": [
    "comic_reviews_df.show(1)"
   ]
  },
  {
   "cell_type": "markdown",
   "metadata": {},
   "source": [
    "Filtering out the comic reviewers ids and then getting reviews that match."
   ]
  },
  {
   "cell_type": "code",
   "execution_count": 5,
   "metadata": {},
   "outputs": [],
   "source": [
    "comic_reviewers = comic_reviews_df.select('reviewerID').distinct().collect()"
   ]
  },
  {
   "cell_type": "code",
   "execution_count": 6,
   "metadata": {},
   "outputs": [],
   "source": [
    "comic_reviewers = [r[0] for r in comic_reviewers]"
   ]
  },
  {
   "cell_type": "code",
   "execution_count": 7,
   "metadata": {},
   "outputs": [],
   "source": [
    "video_reviews = video_reviews_df.filter(col('reviewerID').isin(comic_reviewers))"
   ]
  },
  {
   "cell_type": "code",
   "execution_count": 8,
   "metadata": {},
   "outputs": [
    {
     "data": {
      "text/plain": [
       "5986"
      ]
     },
     "execution_count": 8,
     "metadata": {},
     "output_type": "execute_result"
    }
   ],
   "source": [
    "video_reviews.count()"
   ]
  },
  {
   "cell_type": "code",
   "execution_count": 9,
   "metadata": {},
   "outputs": [],
   "source": [
    "all_video_reviews = video_reviews.select(['asin', 'overall','reviewerID']).toPandas()"
   ]
  },
  {
   "cell_type": "markdown",
   "metadata": {},
   "source": [
    "Neither title or image information is avaiable in the Instant Video meta, so will just have to mark blank for now."
   ]
  },
  {
   "cell_type": "code",
   "execution_count": 10,
   "metadata": {},
   "outputs": [],
   "source": [
    "all_video_reviews['title'] = ''\n",
    "all_video_reviews['imUrl'] = 'N/A - Amazon Instant Video'"
   ]
  },
  {
   "cell_type": "code",
   "execution_count": 11,
   "metadata": {},
   "outputs": [
    {
     "data": {
      "text/plain": [
       "(5986, 5)"
      ]
     },
     "execution_count": 11,
     "metadata": {},
     "output_type": "execute_result"
    }
   ],
   "source": [
    "all_video_reviews.shape"
   ]
  },
  {
   "cell_type": "code",
   "execution_count": 12,
   "metadata": {},
   "outputs": [
    {
     "data": {
      "text/html": [
       "<div>\n",
       "<style scoped>\n",
       "    .dataframe tbody tr th:only-of-type {\n",
       "        vertical-align: middle;\n",
       "    }\n",
       "\n",
       "    .dataframe tbody tr th {\n",
       "        vertical-align: top;\n",
       "    }\n",
       "\n",
       "    .dataframe thead th {\n",
       "        text-align: right;\n",
       "    }\n",
       "</style>\n",
       "<table border=\"1\" class=\"dataframe\">\n",
       "  <thead>\n",
       "    <tr style=\"text-align: right;\">\n",
       "      <th></th>\n",
       "      <th>asin</th>\n",
       "      <th>overall</th>\n",
       "      <th>reviewerID</th>\n",
       "      <th>title</th>\n",
       "      <th>imUrl</th>\n",
       "    </tr>\n",
       "  </thead>\n",
       "  <tbody>\n",
       "    <tr>\n",
       "      <th>0</th>\n",
       "      <td>B000GIOPK2</td>\n",
       "      <td>5.0</td>\n",
       "      <td>A2XNOB1T796Y6B</td>\n",
       "      <td></td>\n",
       "      <td>N/A - Amazon Instant Video</td>\n",
       "    </tr>\n",
       "    <tr>\n",
       "      <th>1</th>\n",
       "      <td>B000GIOPK2</td>\n",
       "      <td>5.0</td>\n",
       "      <td>A3T0DNK02KT55Q</td>\n",
       "      <td></td>\n",
       "      <td>N/A - Amazon Instant Video</td>\n",
       "    </tr>\n",
       "    <tr>\n",
       "      <th>2</th>\n",
       "      <td>B000GIOPK2</td>\n",
       "      <td>3.0</td>\n",
       "      <td>AJKWF4W7QD4NS</td>\n",
       "      <td></td>\n",
       "      <td>N/A - Amazon Instant Video</td>\n",
       "    </tr>\n",
       "    <tr>\n",
       "      <th>3</th>\n",
       "      <td>B000H00VBQ</td>\n",
       "      <td>5.0</td>\n",
       "      <td>A16XRPF40679KG</td>\n",
       "      <td></td>\n",
       "      <td>N/A - Amazon Instant Video</td>\n",
       "    </tr>\n",
       "    <tr>\n",
       "      <th>4</th>\n",
       "      <td>B000H0X79O</td>\n",
       "      <td>5.0</td>\n",
       "      <td>A1ZY828BYZGA98</td>\n",
       "      <td></td>\n",
       "      <td>N/A - Amazon Instant Video</td>\n",
       "    </tr>\n",
       "  </tbody>\n",
       "</table>\n",
       "</div>"
      ],
      "text/plain": [
       "         asin  overall      reviewerID title                       imUrl\n",
       "0  B000GIOPK2      5.0  A2XNOB1T796Y6B        N/A - Amazon Instant Video\n",
       "1  B000GIOPK2      5.0  A3T0DNK02KT55Q        N/A - Amazon Instant Video\n",
       "2  B000GIOPK2      3.0   AJKWF4W7QD4NS        N/A - Amazon Instant Video\n",
       "3  B000H00VBQ      5.0  A16XRPF40679KG        N/A - Amazon Instant Video\n",
       "4  B000H0X79O      5.0  A1ZY828BYZGA98        N/A - Amazon Instant Video"
      ]
     },
     "execution_count": 12,
     "metadata": {},
     "output_type": "execute_result"
    }
   ],
   "source": [
    "all_video_reviews.head()"
   ]
  },
  {
   "cell_type": "markdown",
   "metadata": {},
   "source": [
    "Loading in the already cleaned movie reviews and adding these new reviews to it."
   ]
  },
  {
   "cell_type": "code",
   "execution_count": 13,
   "metadata": {},
   "outputs": [],
   "source": [
    "movie_reviews_df = spark.read.json('data/movie_reviews_wtitle.json').toPandas()"
   ]
  },
  {
   "cell_type": "code",
   "execution_count": 14,
   "metadata": {},
   "outputs": [
    {
     "data": {
      "text/plain": [
       "(103757, 5)"
      ]
     },
     "execution_count": 14,
     "metadata": {},
     "output_type": "execute_result"
    }
   ],
   "source": [
    "movie_reviews_df.shape"
   ]
  },
  {
   "cell_type": "code",
   "execution_count": 15,
   "metadata": {},
   "outputs": [],
   "source": [
    "all_movies_df = pd.concat([movie_reviews_df, all_video_reviews], \n",
    "                           axis=0, sort=True).reset_index(drop=True)"
   ]
  },
  {
   "cell_type": "code",
   "execution_count": 16,
   "metadata": {},
   "outputs": [
    {
     "data": {
      "text/html": [
       "<div>\n",
       "<style scoped>\n",
       "    .dataframe tbody tr th:only-of-type {\n",
       "        vertical-align: middle;\n",
       "    }\n",
       "\n",
       "    .dataframe tbody tr th {\n",
       "        vertical-align: top;\n",
       "    }\n",
       "\n",
       "    .dataframe thead th {\n",
       "        text-align: right;\n",
       "    }\n",
       "</style>\n",
       "<table border=\"1\" class=\"dataframe\">\n",
       "  <thead>\n",
       "    <tr style=\"text-align: right;\">\n",
       "      <th></th>\n",
       "      <th>asin</th>\n",
       "      <th>imUrl</th>\n",
       "      <th>overall</th>\n",
       "      <th>reviewerID</th>\n",
       "      <th>title</th>\n",
       "    </tr>\n",
       "  </thead>\n",
       "  <tbody>\n",
       "    <tr>\n",
       "      <th>109738</th>\n",
       "      <td>B00LM493J2</td>\n",
       "      <td>N/A - Amazon Instant Video</td>\n",
       "      <td>4.0</td>\n",
       "      <td>A1S1BJFTA644TU</td>\n",
       "      <td></td>\n",
       "    </tr>\n",
       "    <tr>\n",
       "      <th>109739</th>\n",
       "      <td>B00LPWPMCS</td>\n",
       "      <td>N/A - Amazon Instant Video</td>\n",
       "      <td>4.0</td>\n",
       "      <td>AW3VZ5O895LRK</td>\n",
       "      <td></td>\n",
       "    </tr>\n",
       "    <tr>\n",
       "      <th>109740</th>\n",
       "      <td>B00LPWPMCS</td>\n",
       "      <td>N/A - Amazon Instant Video</td>\n",
       "      <td>4.0</td>\n",
       "      <td>A3DN9249F3X716</td>\n",
       "      <td></td>\n",
       "    </tr>\n",
       "    <tr>\n",
       "      <th>109741</th>\n",
       "      <td>B00LPWPMCS</td>\n",
       "      <td>N/A - Amazon Instant Video</td>\n",
       "      <td>4.0</td>\n",
       "      <td>A2HVL790PBWYTU</td>\n",
       "      <td></td>\n",
       "    </tr>\n",
       "    <tr>\n",
       "      <th>109742</th>\n",
       "      <td>B00LPWPMCS</td>\n",
       "      <td>N/A - Amazon Instant Video</td>\n",
       "      <td>3.0</td>\n",
       "      <td>A2EKSOLTKBGWTK</td>\n",
       "      <td></td>\n",
       "    </tr>\n",
       "  </tbody>\n",
       "</table>\n",
       "</div>"
      ],
      "text/plain": [
       "              asin                       imUrl  overall      reviewerID title\n",
       "109738  B00LM493J2  N/A - Amazon Instant Video      4.0  A1S1BJFTA644TU      \n",
       "109739  B00LPWPMCS  N/A - Amazon Instant Video      4.0   AW3VZ5O895LRK      \n",
       "109740  B00LPWPMCS  N/A - Amazon Instant Video      4.0  A3DN9249F3X716      \n",
       "109741  B00LPWPMCS  N/A - Amazon Instant Video      4.0  A2HVL790PBWYTU      \n",
       "109742  B00LPWPMCS  N/A - Amazon Instant Video      3.0  A2EKSOLTKBGWTK      "
      ]
     },
     "execution_count": 16,
     "metadata": {},
     "output_type": "execute_result"
    }
   ],
   "source": [
    "all_movies_df.tail()"
   ]
  },
  {
   "cell_type": "markdown",
   "metadata": {},
   "source": [
    "Export to preserve"
   ]
  },
  {
   "cell_type": "code",
   "execution_count": 17,
   "metadata": {},
   "outputs": [],
   "source": [
    "all_movies = spark.createDataFrame(all_movies_df)\n",
    "all_movies.repartition(1).write.json(\"data/all_movie_reviews\")"
   ]
  },
  {
   "cell_type": "code",
   "execution_count": null,
   "metadata": {},
   "outputs": [],
   "source": []
  }
 ],
 "metadata": {
  "kernelspec": {
   "display_name": "Python 3",
   "language": "python",
   "name": "python3"
  },
  "language_info": {
   "codemirror_mode": {
    "name": "ipython",
    "version": 3
   },
   "file_extension": ".py",
   "mimetype": "text/x-python",
   "name": "python",
   "nbconvert_exporter": "python",
   "pygments_lexer": "ipython3",
   "version": "3.6.6"
  }
 },
 "nbformat": 4,
 "nbformat_minor": 2
}
