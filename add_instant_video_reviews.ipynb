{
 "cells": [
  {
   "cell_type": "code",
   "execution_count": 6,
   "metadata": {},
   "outputs": [],
   "source": [
    "import pandas as pd\n",
    "import numpy as np\n",
    "import pyspark \n",
    "from pyspark.sql.functions import col\n",
    "from pyspark.sql import SQLContext"
   ]
  },
  {
   "cell_type": "code",
   "execution_count": 7,
   "metadata": {},
   "outputs": [],
   "source": [
    "spark = (pyspark.sql.SparkSession.builder\n",
    "    .master(\"local\")\n",
    "    .getOrCreate())"
   ]
  },
  {
   "cell_type": "markdown",
   "metadata": {},
   "source": [
    "Loading in Instant video reviews and already cleaned comic reviews."
   ]
  },
  {
   "cell_type": "code",
   "execution_count": 3,
   "metadata": {},
   "outputs": [],
   "source": [
    "video_reviews_df = spark.read.json('data/reviews_Amazon_Instant_Video.json')\n",
    "meta_video_reviews = spark.read.json('data/meta_Amazon_Instant_Video.json')\n",
    "comic_reviews_df = spark.read.json('data/comic_reviews_wtitle.json')"
   ]
  },
  {
   "cell_type": "markdown",
   "metadata": {},
   "source": [
    "Filtering out the comic reviewers ids and then getting reviews that match."
   ]
  },
  {
   "cell_type": "code",
   "execution_count": 4,
   "metadata": {},
   "outputs": [],
   "source": [
    "comic_reviewers = comic_reviews_df.select('reviewerID').distinct().collect()\n",
    "comic_reviewers = [r[0] for r in comic_reviewers]\n",
    "video_reviews = video_reviews_df.filter(col('reviewerID').isin(comic_reviewers))\n",
    "all_video_reviews = video_reviews.select(['asin', 'overall','reviewerID']).toPandas()"
   ]
  },
  {
   "cell_type": "markdown",
   "metadata": {},
   "source": [
    "Neither title or image information is avaiable in the Instant Video meta, so will just have to mark blank for now. Filling in the counts from dictionary created."
   ]
  },
  {
   "cell_type": "code",
   "execution_count": 12,
   "metadata": {},
   "outputs": [],
   "source": [
    "all_video_reviews['title'] = None\n",
    "all_video_reviews['imUrl'] = 'N/A - Amazon Instant Video'"
   ]
  },
  {
   "cell_type": "markdown",
   "metadata": {},
   "source": [
    "Adding these to the movie reviews:"
   ]
  },
  {
   "cell_type": "code",
   "execution_count": 13,
   "metadata": {},
   "outputs": [],
   "source": [
    "movies_df = spark.read.json('data/movie_reviews_wtitle.json').toPandas()\n",
    "movies_and_video_df = pd.concat([movies_df, all_video_reviews], ignore_index=True, sort=True)"
   ]
  },
  {
   "cell_type": "code",
   "execution_count": 14,
   "metadata": {},
   "outputs": [],
   "source": [
    "movies_and_video_spark = spark.createDataFrame(\n",
    "                                movies_and_video_df\n",
    "                            ).repartition(1).write.json('data/movies_and_video')"
   ]
  },
  {
   "cell_type": "markdown",
   "metadata": {},
   "source": [
    "_____"
   ]
  }
 ],
 "metadata": {
  "kernelspec": {
   "display_name": "Python 3",
   "language": "python",
   "name": "python3"
  },
  "language_info": {
   "codemirror_mode": {
    "name": "ipython",
    "version": 3
   },
   "file_extension": ".py",
   "mimetype": "text/x-python",
   "name": "python",
   "nbconvert_exporter": "python",
   "pygments_lexer": "ipython3",
   "version": "3.7.1"
  }
 },
 "nbformat": 4,
 "nbformat_minor": 2
}
