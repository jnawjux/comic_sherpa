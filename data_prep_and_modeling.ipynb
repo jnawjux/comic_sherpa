{
 "cells": [
  {
   "cell_type": "code",
   "execution_count": 292,
   "metadata": {},
   "outputs": [],
   "source": [
    "import pandas as pd\n",
    "\n",
    "import pyspark\n",
    "from pyspark.ml.evaluation import RegressionEvaluator\n",
    "import pyspark.sql.functions as F\n",
    "from pyspark.ml.recommendation import ALS\n",
    "from pyspark.sql import SQLContext\n",
    "\n",
    "from pyspark.sql.types import StringType, IntegerType"
   ]
  },
  {
   "cell_type": "code",
   "execution_count": 4,
   "metadata": {},
   "outputs": [],
   "source": [
    "spark = (pyspark.sql.SparkSession.builder\n",
    "    .master(\"local\")\n",
    "    .getOrCreate())"
   ]
  },
  {
   "cell_type": "markdown",
   "metadata": {},
   "source": [
    "### Loading comic and movie reviews"
   ]
  },
  {
   "cell_type": "code",
   "execution_count": 5,
   "metadata": {},
   "outputs": [],
   "source": [
    "comic_reviews = spark.read.json('data/all_comic_reviews_in_mtv.json')"
   ]
  },
  {
   "cell_type": "code",
   "execution_count": 6,
   "metadata": {},
   "outputs": [],
   "source": [
    "movie_reviews = spark.read.json('data/all_movietv_jsons/*.json')"
   ]
  },
  {
   "cell_type": "code",
   "execution_count": 8,
   "metadata": {},
   "outputs": [
    {
     "name": "stdout",
     "output_type": "stream",
     "text": [
      "+----------+-------+--------------------+--------------+\n",
      "|      asin|overall|          reviewText|    reviewerID|\n",
      "+----------+-------+--------------------+--------------+\n",
      "|0316107255|    4.0|PENGUIN DREAMS AN...|A3NQU1649SH0Q4|\n",
      "+----------+-------+--------------------+--------------+\n",
      "only showing top 1 row\n",
      "\n"
     ]
    }
   ],
   "source": [
    "comic_reviews.show(1)"
   ]
  },
  {
   "cell_type": "markdown",
   "metadata": {},
   "source": [
    "### Creating new ids\n",
    "Since the Amazon user and item ids contain both letters and numbers, I needed to give them new values for a couple reasons:\n",
    "* The Spark ALS model will only take labels that are numeric and will cause an error otherwise.\n",
    "* I can create ids for the comic books and movies/tv that are easily identifiable and easy to filter on."
   ]
  },
  {
   "cell_type": "code",
   "execution_count": 46,
   "metadata": {},
   "outputs": [],
   "source": [
    "def new_id_dictionary(df, column, suffix_val):\n",
    "    \"\"\"Take in column with unique indexes, return dictionary with new index values. This is done to\n",
    "     remove the default ASIN and user ID from Amazon reviews and create better unique ids.\n",
    "    Args:\n",
    "        df: source dataframe\n",
    "        column: name of column with ids to replace\n",
    "        suffix_val: new suffix value for unique codes. Example: all new user_ids could end\n",
    "        with '00000'\n",
    "    Returns:\n",
    "        new_id_dict: New Spark dataframe with column of new unique ids\n",
    "    \n",
    "    \"\"\"\n",
    "    unique_vals = list(set([old_id[0] for old_id in df.select(column).collect()]))\n",
    "    new_ids = [(str(i) + suffix_val) for i in range(1,len(unique_vals)+1)]\n",
    "    new_id_dict = {k:v for k,v in zip(unique_vals, new_ids)}\n",
    "    return new_id_dict"
   ]
  },
  {
   "cell_type": "code",
   "execution_count": 82,
   "metadata": {},
   "outputs": [],
   "source": [
    "new_user_ids = new_id_dictionary(comic_reviews, 'reviewerID', '0000')\n",
    "new_comic_asins = new_id_dictionary(comic_reviews, 'asin', '2222')\n",
    "new_mtv_asins = new_id_dictionary(movie_reviews, 'asin', '4444')"
   ]
  },
  {
   "cell_type": "code",
   "execution_count": 231,
   "metadata": {},
   "outputs": [],
   "source": [
    "all_items_asins = new_comic_asins\n",
    "all_items_asins = all_items_asins.update(new_mtv_asins)"
   ]
  },
  {
   "cell_type": "code",
   "execution_count": 36,
   "metadata": {},
   "outputs": [],
   "source": [
    "def add_new_id(old_id, new_id_dict):\n",
    "    new_id = id_dict[old_id]\n",
    "    return new_id"
   ]
  },
  {
   "cell_type": "code",
   "execution_count": 96,
   "metadata": {},
   "outputs": [],
   "source": [
    "udfUserId = F.udf(lambda x: new_user_ids[x], StringType())\n",
    "\n",
    "udfComicId = F.udf(lambda x: new_comic_asins[x], StringType())\n",
    "udfMovieId = F.udf(lambda x: new_mtv_asins[x], StringType())"
   ]
  },
  {
   "cell_type": "code",
   "execution_count": 97,
   "metadata": {},
   "outputs": [],
   "source": [
    "comic_reviews_updated = comic_reviews.withColumn(\"item_id\", udfComicId(\"asin\"))\n",
    "comic_reviews_updated = comic_reviews_updated.withColumn(\"user_id\", udfUserId(\"reviewerID\"))"
   ]
  },
  {
   "cell_type": "code",
   "execution_count": 98,
   "metadata": {},
   "outputs": [],
   "source": [
    "comic_r_final = comic_reviews_updated.select(['user_id','item_id', 'overall'])"
   ]
  },
  {
   "cell_type": "code",
   "execution_count": 99,
   "metadata": {},
   "outputs": [
    {
     "name": "stdout",
     "output_type": "stream",
     "text": [
      "+--------+--------+-------+\n",
      "| user_id| item_id|overall|\n",
      "+--------+--------+-------+\n",
      "|34510000|40102222|    4.0|\n",
      "+--------+--------+-------+\n",
      "only showing top 1 row\n",
      "\n"
     ]
    }
   ],
   "source": [
    "comic_r_final.show(1)"
   ]
  },
  {
   "cell_type": "code",
   "execution_count": 106,
   "metadata": {},
   "outputs": [],
   "source": [
    "movie_reviews_updated = movie_reviews.withColumn(\"user_id\", udfUserId(\"reviewerID\"))\n",
    "movie_reviews_updated_2 = movie_reviews_updated.withColumn(\"item_id\", udfMovieId(\"asin\"))"
   ]
  },
  {
   "cell_type": "code",
   "execution_count": 107,
   "metadata": {},
   "outputs": [],
   "source": [
    "movies_r_final = movie_reviews_updated_2.select(['user_id', 'item_id', 'overall'])"
   ]
  },
  {
   "cell_type": "code",
   "execution_count": 108,
   "metadata": {},
   "outputs": [
    {
     "name": "stdout",
     "output_type": "stream",
     "text": [
      "+--------+---------+-------+\n",
      "| user_id|  item_id|overall|\n",
      "+--------+---------+-------+\n",
      "|79890000|392924444|    4.0|\n",
      "+--------+---------+-------+\n",
      "only showing top 1 row\n",
      "\n"
     ]
    }
   ],
   "source": [
    "movies_r_final.show(1)"
   ]
  },
  {
   "cell_type": "markdown",
   "metadata": {},
   "source": [
    "### Narrowing my dataset\n",
    "To help improve the accuracy of my model, I wanted to look through removing some of the items and users that may not offer much insight because of their sparsity. Here I explored some of these features to help me decide on what to do."
   ]
  },
  {
   "cell_type": "code",
   "execution_count": 197,
   "metadata": {},
   "outputs": [],
   "source": [
    "query = \"\"\"\n",
    "SELECT \n",
    "    user_id, \n",
    "    COUNT(*) as count \n",
    "FROM \n",
    "    table \n",
    "GROUP BY user_id\n",
    "ORDER BY count desc\"\"\""
   ]
  },
  {
   "cell_type": "code",
   "execution_count": 198,
   "metadata": {},
   "outputs": [],
   "source": [
    "comic_r_final.createOrReplaceTempView('table')\n",
    "temp_user_view = spark.sql(query).toPandas()"
   ]
  },
  {
   "cell_type": "code",
   "execution_count": 202,
   "metadata": {},
   "outputs": [
    {
     "data": {
      "text/plain": [
       "(10366, 2)"
      ]
     },
     "execution_count": 202,
     "metadata": {},
     "output_type": "execute_result"
    }
   ],
   "source": [
    "temp_user_view.shape"
   ]
  },
  {
   "cell_type": "code",
   "execution_count": 201,
   "metadata": {},
   "outputs": [
    {
     "data": {
      "text/plain": [
       "(8283, 2)"
      ]
     },
     "execution_count": 201,
     "metadata": {},
     "output_type": "execute_result"
    }
   ],
   "source": [
    "temp_user_view[temp_user_view['count'] < temp_user_view['count'].mean()].shape"
   ]
  },
  {
   "cell_type": "code",
   "execution_count": 109,
   "metadata": {},
   "outputs": [],
   "source": [
    "all_reviews = comic_r_final.union(movies_r_final)"
   ]
  },
  {
   "cell_type": "code",
   "execution_count": 117,
   "metadata": {},
   "outputs": [],
   "source": [
    "all_reviews_als = all_reviews.select([col(\"user_id\").cast(IntegerType()), col(\"item_id\").cast(IntegerType()), col(\"overall\")])"
   ]
  },
  {
   "cell_type": "code",
   "execution_count": 118,
   "metadata": {},
   "outputs": [
    {
     "data": {
      "text/plain": [
       "DataFrame[user_id: int, item_id: int, overall: double]"
      ]
     },
     "execution_count": 118,
     "metadata": {},
     "output_type": "execute_result"
    }
   ],
   "source": [
    "all_reviews_als.persist()"
   ]
  },
  {
   "cell_type": "code",
   "execution_count": 119,
   "metadata": {},
   "outputs": [],
   "source": [
    "(train, test) = all_reviews_als.randomSplit([.8,.2])"
   ]
  },
  {
   "cell_type": "code",
   "execution_count": 206,
   "metadata": {},
   "outputs": [],
   "source": [
    "# Build the recommendation model using ALS\n",
    "als = ALS(userCol='user_id', itemCol='item_id', ratingCol='overall', nonnegative=True)\n",
    "\n",
    "als_model = als.fit(train)"
   ]
  },
  {
   "cell_type": "code",
   "execution_count": 211,
   "metadata": {},
   "outputs": [],
   "source": [
    "train_pred = als_model.transform(train)\n",
    "test_pred = als_model.transform(test)\n",
    "train_pred_dropna = train_pred.dropna()\n",
    "test_pred_dropna = test_pred.dropna()"
   ]
  },
  {
   "cell_type": "code",
   "execution_count": 212,
   "metadata": {},
   "outputs": [
    {
     "name": "stdout",
     "output_type": "stream",
     "text": [
      "Train RMSE: 0.34925654622891644\n",
      "Test RMSE: 1.2748690218854049\n",
      "Train MAE: 0.23288830390420345\n",
      "Test MAE: 0.9887515321072159\n"
     ]
    }
   ],
   "source": [
    "evaluator = RegressionEvaluator(metricName=\"rmse\", labelCol=\"overall\",\n",
    "                                predictionCol=\"prediction\")\n",
    "\n",
    "evaluator_2 = RegressionEvaluator(metricName=\"mae\", labelCol=\"overall\",\n",
    "                                predictionCol=\"prediction\")\n",
    "\n",
    "rmse_train = evaluator.evaluate(train_pred_dropna)\n",
    "rmse_test = evaluator.evaluate(test_pred_dropna)\n",
    "mae_train = evaluator_2.evaluate(train_pred_dropna)\n",
    "mae_test = evaluator_2.evaluate(test_pred_dropna)\n",
    "print(f\"Train RMSE: {rmse_train}\")\n",
    "print(f\"Test RMSE: {rmse_test}\")\n",
    "print(f\"Train MAE: {mae_train}\")\n",
    "print(f\"Test MAE: {mae_test}\")"
   ]
  },
  {
   "cell_type": "code",
   "execution_count": 209,
   "metadata": {},
   "outputs": [
    {
     "name": "stdout",
     "output_type": "stream",
     "text": [
      "+---------+--------+-------+----------+\n",
      "|  user_id| item_id|overall|prediction|\n",
      "+---------+--------+-------+----------+\n",
      "| 71860000| 2732222|    4.0| 1.4231931|\n",
      "|  6190000| 2732222|    5.0|  3.699666|\n",
      "| 98160000| 2732222|    5.0| 3.7960944|\n",
      "|101490000| 2732222|    4.0|  4.645656|\n",
      "| 21300000| 2922222|    5.0|  4.544185|\n",
      "| 48820000| 2922222|    4.0|  3.974867|\n",
      "| 88340000| 2922222|    5.0|  4.616192|\n",
      "|100430000| 3202222|    5.0| 3.2581654|\n",
      "| 67620000| 7324444|    4.0|       NaN|\n",
      "| 36350000|10144444|    3.0|       NaN|\n",
      "+---------+--------+-------+----------+\n",
      "only showing top 10 rows\n",
      "\n"
     ]
    }
   ],
   "source": [
    "pred.show(10)"
   ]
  },
  {
   "cell_type": "code",
   "execution_count": 316,
   "metadata": {},
   "outputs": [],
   "source": [
    "users = all_reviews_als.select(als.getUserCol()).distinct().limit(30)\n",
    "userSubsetRecs = als_model.recommendForUserSubset(users, 50).toPandas()"
   ]
  },
  {
   "cell_type": "code",
   "execution_count": 317,
   "metadata": {},
   "outputs": [
    {
     "data": {
      "text/html": [
       "<div>\n",
       "<style scoped>\n",
       "    .dataframe tbody tr th:only-of-type {\n",
       "        vertical-align: middle;\n",
       "    }\n",
       "\n",
       "    .dataframe tbody tr th {\n",
       "        vertical-align: top;\n",
       "    }\n",
       "\n",
       "    .dataframe thead th {\n",
       "        text-align: right;\n",
       "    }\n",
       "</style>\n",
       "<table border=\"1\" class=\"dataframe\">\n",
       "  <thead>\n",
       "    <tr style=\"text-align: right;\">\n",
       "      <th></th>\n",
       "      <th>user_id</th>\n",
       "      <th>recommendations</th>\n",
       "    </tr>\n",
       "  </thead>\n",
       "  <tbody>\n",
       "    <tr>\n",
       "      <th>0</th>\n",
       "      <td>8960000</td>\n",
       "      <td>[(1264444, 7.6324334144592285), (226814444, 6....</td>\n",
       "    </tr>\n",
       "    <tr>\n",
       "      <th>1</th>\n",
       "      <td>9240000</td>\n",
       "      <td>[(35644444, 5.674941062927246), (146214444, 5....</td>\n",
       "    </tr>\n",
       "    <tr>\n",
       "      <th>2</th>\n",
       "      <td>15530000</td>\n",
       "      <td>[(242514444, 7.326582908630371), (120494444, 7...</td>\n",
       "    </tr>\n",
       "    <tr>\n",
       "      <th>3</th>\n",
       "      <td>18270000</td>\n",
       "      <td>[(130964444, 6.113489151000977), (388304444, 6...</td>\n",
       "    </tr>\n",
       "    <tr>\n",
       "      <th>4</th>\n",
       "      <td>19790000</td>\n",
       "      <td>[(109504444, 6.8123064041137695), (169934444, ...</td>\n",
       "    </tr>\n",
       "  </tbody>\n",
       "</table>\n",
       "</div>"
      ],
      "text/plain": [
       "    user_id                                    recommendations\n",
       "0   8960000  [(1264444, 7.6324334144592285), (226814444, 6....\n",
       "1   9240000  [(35644444, 5.674941062927246), (146214444, 5....\n",
       "2  15530000  [(242514444, 7.326582908630371), (120494444, 7...\n",
       "3  18270000  [(130964444, 6.113489151000977), (388304444, 6...\n",
       "4  19790000  [(109504444, 6.8123064041137695), (169934444, ..."
      ]
     },
     "execution_count": 317,
     "metadata": {},
     "output_type": "execute_result"
    }
   ],
   "source": [
    "userSubsetRecs.head()"
   ]
  },
  {
   "cell_type": "code",
   "execution_count": 318,
   "metadata": {},
   "outputs": [
    {
     "data": {
      "text/plain": [
       "[6122222,\n",
       " 35962222,\n",
       " 6542222,\n",
       " 22302222,\n",
       " 26002222,\n",
       " 49082222,\n",
       " 50172222,\n",
       " 6252222,\n",
       " 44212222,\n",
       " 20342222]"
      ]
     },
     "execution_count": 318,
     "metadata": {},
     "output_type": "execute_result"
    }
   ],
   "source": [
    "comic_user_test = [i[0] for i in userSubsetRecs.loc[1][1]]\n",
    "comic_user_test = [i for i in comic_user_test if str(i).endswith('22') == True]\n",
    "comic_user_test"
   ]
  },
  {
   "cell_type": "code",
   "execution_count": 319,
   "metadata": {},
   "outputs": [],
   "source": [
    "query_reviews = \"\"\"\n",
    "SELECT\n",
    "    user_id,\n",
    "    item_id,\n",
    "    overall\n",
    "FROM \n",
    "    table\n",
    "WHERE user_id == 9240000\"\"\""
   ]
  },
  {
   "cell_type": "code",
   "execution_count": 320,
   "metadata": {},
   "outputs": [],
   "source": [
    "all_reviews_als.createOrReplaceTempView('table')\n",
    "temp_user_view = spark.sql(query_reviews).toPandas()"
   ]
  },
  {
   "cell_type": "code",
   "execution_count": 321,
   "metadata": {},
   "outputs": [
    {
     "data": {
      "text/html": [
       "<div>\n",
       "<style scoped>\n",
       "    .dataframe tbody tr th:only-of-type {\n",
       "        vertical-align: middle;\n",
       "    }\n",
       "\n",
       "    .dataframe tbody tr th {\n",
       "        vertical-align: top;\n",
       "    }\n",
       "\n",
       "    .dataframe thead th {\n",
       "        text-align: right;\n",
       "    }\n",
       "</style>\n",
       "<table border=\"1\" class=\"dataframe\">\n",
       "  <thead>\n",
       "    <tr style=\"text-align: right;\">\n",
       "      <th></th>\n",
       "      <th>user_id</th>\n",
       "      <th>item_id</th>\n",
       "      <th>overall</th>\n",
       "    </tr>\n",
       "  </thead>\n",
       "  <tbody>\n",
       "    <tr>\n",
       "      <th>0</th>\n",
       "      <td>9240000</td>\n",
       "      <td>35952222</td>\n",
       "      <td>5.0</td>\n",
       "    </tr>\n",
       "    <tr>\n",
       "      <th>1</th>\n",
       "      <td>9240000</td>\n",
       "      <td>345724444</td>\n",
       "      <td>4.0</td>\n",
       "    </tr>\n",
       "  </tbody>\n",
       "</table>\n",
       "</div>"
      ],
      "text/plain": [
       "   user_id    item_id  overall\n",
       "0  9240000   35952222      5.0\n",
       "1  9240000  345724444      4.0"
      ]
     },
     "execution_count": 321,
     "metadata": {},
     "output_type": "execute_result"
    }
   ],
   "source": [
    "temp_user_view"
   ]
  },
  {
   "cell_type": "code",
   "execution_count": 322,
   "metadata": {},
   "outputs": [],
   "source": [
    "reviewed = temp_user_view.item_id.tolist()"
   ]
  },
  {
   "cell_type": "code",
   "execution_count": 323,
   "metadata": {},
   "outputs": [],
   "source": [
    "# Reviewed & recomended\n",
    "recommended_asin = [key for key, val in new_comic_asins.items() if int(val) in comic_user_test]\n",
    "reviewed_asin = [key for key, val in new_comic_asins.items() if int(val) in reviewed]"
   ]
  },
  {
   "cell_type": "code",
   "execution_count": 326,
   "metadata": {},
   "outputs": [
    {
     "data": {
      "text/plain": [
       "292                                   Fables Encyclopedia\n",
       "279     Thor Visionaries - Walt Simonson, Vol. 2 (Marv...\n",
       "553     Essential Tomb of Dracula, Vol. 3 (Marvel Esse...\n",
       "1247                      Ultimate Fantastic Four, Vol. 3\n",
       "2975                   Black Widow: The Itsy-Bitsy Spider\n",
       "3064                          Deadpool Classic - Volume 6\n",
       "3567    S.H.I.E.L.D. by Jim Steranko: The Complete Col...\n",
       "78                                                 Empire\n",
       "516                            Penguin Revolution: VOL 02\n",
       "669                          Penguin Revolution: Volume 3\n",
       "Name: title, dtype: object"
      ]
     },
     "execution_count": 326,
     "metadata": {},
     "output_type": "execute_result"
    }
   ],
   "source": [
    "comic_names = pd.read_csv('data/all_comic_asin.csv', index_col=0)\n",
    "comic_names.loc[comic_names['asin'].isin(recommended_asin), 'title']"
   ]
  },
  {
   "cell_type": "code",
   "execution_count": 327,
   "metadata": {},
   "outputs": [
    {
     "data": {
      "text/plain": [
       "1147    Amazing Spider-Man Omnibus, Vol. 1 (v. 1)\n",
       "Name: title, dtype: object"
      ]
     },
     "execution_count": 327,
     "metadata": {},
     "output_type": "execute_result"
    }
   ],
   "source": [
    "comic_names.loc[comic_names['asin'].isin(reviewed_asin), 'title']"
   ]
  },
  {
   "cell_type": "code",
   "execution_count": null,
   "metadata": {},
   "outputs": [],
   "source": []
  }
 ],
 "metadata": {
  "kernelspec": {
   "display_name": "Python 3",
   "language": "python",
   "name": "python3"
  },
  "language_info": {
   "codemirror_mode": {
    "name": "ipython",
    "version": 3
   },
   "file_extension": ".py",
   "mimetype": "text/x-python",
   "name": "python",
   "nbconvert_exporter": "python",
   "pygments_lexer": "ipython3",
   "version": "3.6.6"
  }
 },
 "nbformat": 4,
 "nbformat_minor": 2
}
