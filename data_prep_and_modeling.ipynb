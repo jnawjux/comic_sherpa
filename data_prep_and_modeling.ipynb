{
 "cells": [
  {
   "cell_type": "code",
   "execution_count": 1,
   "metadata": {},
   "outputs": [],
   "source": [
    "import numpy as np\n",
    "import pandas as pd\n",
    "import re\n",
    "\n",
    "import pyspark\n",
    "from pyspark.ml.evaluation import RegressionEvaluator\n",
    "import pyspark.sql.functions as F\n",
    "from pyspark.ml.recommendation import ALS\n",
    "from pyspark.sql.types import StringType, IntegerType\n",
    "from pyspark.ml.tuning import CrossValidator, ParamGridBuilder\n",
    "\n",
    "from batcave.scrape_and_clean import new_id_dictionary, get_missing_titles\n",
    "from batcave.recommend import get_recommendations, get_user_reviews_testing"
   ]
  },
  {
   "cell_type": "code",
   "execution_count": 2,
   "metadata": {},
   "outputs": [],
   "source": [
    "spark = (pyspark.sql.SparkSession.builder\n",
    "    .master(\"local\")\n",
    "    .getOrCreate())"
   ]
  },
  {
   "cell_type": "markdown",
   "metadata": {},
   "source": [
    "### Loading comic and movie reviews"
   ]
  },
  {
   "cell_type": "code",
   "execution_count": 3,
   "metadata": {},
   "outputs": [],
   "source": [
    "comic_reviews = spark.read.json('data/comic_reviews_wtitle.json')"
   ]
  },
  {
   "cell_type": "code",
   "execution_count": 4,
   "metadata": {},
   "outputs": [],
   "source": [
    "movie_reviews = spark.read.json('data/movie_and_video_wtitles.json')"
   ]
  },
  {
   "cell_type": "code",
   "execution_count": 5,
   "metadata": {},
   "outputs": [
    {
     "name": "stdout",
     "output_type": "stream",
     "text": [
      "+----------+--------------------+-------+--------------+--------------------+\n",
      "|      asin|               imUrl|overall|    reviewerID|               title|\n",
      "+----------+--------------------+-------+--------------+--------------------+\n",
      "|0345507460|http://ecx.images...|    5.0| ACO26JQ366659|The Dresden Files...|\n",
      "|0345507460|http://ecx.images...|    5.0|A34C35QFA4DC5J|The Dresden Files...|\n",
      "|0345507460|http://ecx.images...|    5.0|A3TII4RKU0ZVT4|The Dresden Files...|\n",
      "|0345507460|http://ecx.images...|    5.0|A1LR4Z5Z0MPYIF|The Dresden Files...|\n",
      "|0345507460|http://ecx.images...|    5.0|A16L43DIFSHGMQ|The Dresden Files...|\n",
      "+----------+--------------------+-------+--------------+--------------------+\n",
      "only showing top 5 rows\n",
      "\n"
     ]
    }
   ],
   "source": [
    "comic_reviews.show(5)"
   ]
  },
  {
   "cell_type": "markdown",
   "metadata": {},
   "source": [
    "### Creating new ids\n",
    "Since the Amazon user and item ids contain both letters and numbers, I needed to give them new values for a couple reasons:\n",
    "* The Spark ALS model will only take labels that are numeric and will cause an error otherwise.\n",
    "* I can create ids for the comic books and movies/tv that are easily identifiable and easy to filter on."
   ]
  },
  {
   "cell_type": "code",
   "execution_count": 6,
   "metadata": {},
   "outputs": [],
   "source": [
    "new_user_ids = new_id_dictionary(comic_reviews, 'reviewerID', '00')\n",
    "new_comic_asins = new_id_dictionary(comic_reviews, 'asin', '22')\n",
    "new_mtv_asins = new_id_dictionary(movie_reviews, 'asin', '44')"
   ]
  },
  {
   "cell_type": "code",
   "execution_count": 7,
   "metadata": {},
   "outputs": [],
   "source": [
    "all_items_asins = new_comic_asins\n",
    "all_items_asins.update(new_mtv_asins)"
   ]
  },
  {
   "cell_type": "code",
   "execution_count": 8,
   "metadata": {},
   "outputs": [],
   "source": [
    "udfUserId = F.udf(lambda x: new_user_ids[x], StringType())\n",
    "udfItemId = F.udf(lambda x: all_items_asins[x], StringType())"
   ]
  },
  {
   "cell_type": "code",
   "execution_count": 9,
   "metadata": {},
   "outputs": [],
   "source": [
    "comic_reviews_updated = comic_reviews.withColumn(\"item_id\", udfItemId(\"asin\"))\n",
    "comic_reviews_updated = comic_reviews_updated.withColumn(\"user_id\", udfUserId(\"reviewerID\"))"
   ]
  },
  {
   "cell_type": "code",
   "execution_count": 10,
   "metadata": {},
   "outputs": [
    {
     "name": "stdout",
     "output_type": "stream",
     "text": [
      "+----------+--------------------+-------+-------------+--------------------+-------+-------+\n",
      "|      asin|               imUrl|overall|   reviewerID|               title|item_id|user_id|\n",
      "+----------+--------------------+-------+-------------+--------------------+-------+-------+\n",
      "|0345507460|http://ecx.images...|    5.0|ACO26JQ366659|The Dresden Files...|   1022| 170700|\n",
      "+----------+--------------------+-------+-------------+--------------------+-------+-------+\n",
      "only showing top 1 row\n",
      "\n"
     ]
    }
   ],
   "source": [
    "comic_reviews_updated.show(1)"
   ]
  },
  {
   "cell_type": "code",
   "execution_count": 11,
   "metadata": {},
   "outputs": [],
   "source": [
    "movie_reviews_updated = movie_reviews.withColumn(\"item_id\", udfItemId(\"asin\"))\n",
    "movie_reviews_updated = movie_reviews_updated.withColumn(\"user_id\", udfUserId(\"reviewerID\"))"
   ]
  },
  {
   "cell_type": "code",
   "execution_count": 12,
   "metadata": {},
   "outputs": [
    {
     "name": "stdout",
     "output_type": "stream",
     "text": [
      "+----------+--------------------+-------+-------------+--------------------+-------+-------+\n",
      "|      asin|               imUrl|overall|   reviewerID|               title|item_id|user_id|\n",
      "+----------+--------------------+-------+-------------+--------------------+-------+-------+\n",
      "|0767807693|http://ecx.images...|    3.0|ADENUJJYKNHPO|Requiem for a Hea...|3308844| 857000|\n",
      "+----------+--------------------+-------+-------------+--------------------+-------+-------+\n",
      "only showing top 1 row\n",
      "\n"
     ]
    }
   ],
   "source": [
    "movie_reviews_updated.show(1)"
   ]
  },
  {
   "cell_type": "markdown",
   "metadata": {},
   "source": [
    "### Narrowing my dataset\n",
    "To help improve the accuracy of my model, I wanted to look through removing some of the items and users that may not offer much insight because of their sparsity. Here I explored some of these features to help me decide on what to do."
   ]
  },
  {
   "cell_type": "markdown",
   "metadata": {},
   "source": [
    "#### Removing users who have rated less than average in either comics or movies"
   ]
  },
  {
   "cell_type": "code",
   "execution_count": 13,
   "metadata": {},
   "outputs": [],
   "source": [
    "query = \"\"\"\n",
    "SELECT \n",
    "    item_id \n",
    ",   COUNT(*) as count \n",
    "FROM \n",
    "    table \n",
    "GROUP BY item_id\n",
    "ORDER BY count desc\"\"\""
   ]
  },
  {
   "cell_type": "code",
   "execution_count": 14,
   "metadata": {},
   "outputs": [],
   "source": [
    "comic_reviews_updated.createOrReplaceTempView('table')\n",
    "comic_low_reviewers = spark.sql(query).toPandas()"
   ]
  },
  {
   "cell_type": "code",
   "execution_count": 15,
   "metadata": {},
   "outputs": [
    {
     "name": "stdout",
     "output_type": "stream",
     "text": [
      "Amount of items with less than average amount of comic reviews: 4129\n"
     ]
    }
   ],
   "source": [
    "low_reviews = comic_low_reviewers[comic_low_reviewers['count'] \\\n",
    "                                  <= comic_low_reviewers['count'].mean()]\n",
    "print(f\"Amount of items with less than average amount of comic reviews: {low_reviews.shape[0]}\")"
   ]
  },
  {
   "cell_type": "code",
   "execution_count": 16,
   "metadata": {},
   "outputs": [],
   "source": [
    "movie_reviews_updated.createOrReplaceTempView('table')\n",
    "mtv_low_reviewers = spark.sql(query).toPandas()"
   ]
  },
  {
   "cell_type": "code",
   "execution_count": 17,
   "metadata": {},
   "outputs": [
    {
     "name": "stdout",
     "output_type": "stream",
     "text": [
      "Amount of items with less than average amount of movie reviews: 28082\n"
     ]
    }
   ],
   "source": [
    "low_mtv_reviews = mtv_low_reviewers[mtv_low_reviewers['count'] \\\n",
    "                                  <= mtv_low_reviewers['count'].mean()]\n",
    "print(f\"Amount of items with less than average amount of movie reviews: {low_mtv_reviews.shape[0]}\")"
   ]
  },
  {
   "cell_type": "code",
   "execution_count": 18,
   "metadata": {},
   "outputs": [
    {
     "data": {
      "text/html": [
       "<div>\n",
       "<style scoped>\n",
       "    .dataframe tbody tr th:only-of-type {\n",
       "        vertical-align: middle;\n",
       "    }\n",
       "\n",
       "    .dataframe tbody tr th {\n",
       "        vertical-align: top;\n",
       "    }\n",
       "\n",
       "    .dataframe thead th {\n",
       "        text-align: right;\n",
       "    }\n",
       "</style>\n",
       "<table border=\"1\" class=\"dataframe\">\n",
       "  <thead>\n",
       "    <tr style=\"text-align: right;\">\n",
       "      <th></th>\n",
       "      <th>item_id</th>\n",
       "      <th>count</th>\n",
       "    </tr>\n",
       "  </thead>\n",
       "  <tbody>\n",
       "    <tr>\n",
       "      <th>0</th>\n",
       "      <td>1384944</td>\n",
       "      <td>170</td>\n",
       "    </tr>\n",
       "    <tr>\n",
       "      <th>1</th>\n",
       "      <td>262544</td>\n",
       "      <td>163</td>\n",
       "    </tr>\n",
       "    <tr>\n",
       "      <th>2</th>\n",
       "      <td>1181344</td>\n",
       "      <td>141</td>\n",
       "    </tr>\n",
       "    <tr>\n",
       "      <th>3</th>\n",
       "      <td>2024944</td>\n",
       "      <td>140</td>\n",
       "    </tr>\n",
       "    <tr>\n",
       "      <th>4</th>\n",
       "      <td>3394544</td>\n",
       "      <td>133</td>\n",
       "    </tr>\n",
       "  </tbody>\n",
       "</table>\n",
       "</div>"
      ],
      "text/plain": [
       "   item_id  count\n",
       "0  1384944    170\n",
       "1   262544    163\n",
       "2  1181344    141\n",
       "3  2024944    140\n",
       "4  3394544    133"
      ]
     },
     "execution_count": 18,
     "metadata": {},
     "output_type": "execute_result"
    }
   ],
   "source": [
    "mtv_low_reviewers.head()"
   ]
  },
  {
   "cell_type": "code",
   "execution_count": 19,
   "metadata": {},
   "outputs": [
    {
     "data": {
      "text/plain": [
       "32211"
      ]
     },
     "execution_count": 19,
     "metadata": {},
     "output_type": "execute_result"
    }
   ],
   "source": [
    "low_item = list(set(low_reviews['item_id'].tolist() + low_mtv_reviews['item_id'].tolist()))\n",
    "len(low_item)"
   ]
  },
  {
   "cell_type": "code",
   "execution_count": 20,
   "metadata": {},
   "outputs": [],
   "source": [
    "# Joining and adding review counts\n",
    "all_review_counts_df = pd.concat([mtv_low_reviewers,comic_low_reviewers])\n",
    "all_review_counts = spark.createDataFrame(all_review_counts_df)\n",
    "\n",
    "# Joining comic & movie data\n",
    "all_reviews = comic_reviews_updated.union(movie_reviews_updated)\n",
    "\n",
    "# Adding the count column\n",
    "all_reviews = all_reviews.join(all_review_counts, on='item_id', how='left')"
   ]
  },
  {
   "cell_type": "code",
   "execution_count": 21,
   "metadata": {},
   "outputs": [
    {
     "name": "stdout",
     "output_type": "stream",
     "text": [
      "+-------+----------+--------------------+-------+--------------+--------------------+-------+-----+\n",
      "|item_id|      asin|               imUrl|overall|    reviewerID|               title|user_id|count|\n",
      "+-------+----------+--------------------+-------+--------------+--------------------+-------+-----+\n",
      "|1003644|6302241235|http://ecx.images...|    5.0|A11MJ9C49FAVE7|Watch the Birdie ...| 832700|    1|\n",
      "| 101122|0785102205|http://ecx.images...|    3.0|A29LH2W58UBG04| Best of Marvel 1996|  67900|    1|\n",
      "|1027644|6303215653|http://ecx.images...|    5.0|A2KWQ64TRHB3YH|Inspector Morse -...| 365200|    1|\n",
      "|1028644|6302593093|http://ecx.images...|    5.0|A31TVT9DSU5HL1|A Very Brady Chri...| 212100|    1|\n",
      "| 102944|B00AY7B7EM|http://ecx.images...|    5.0|A31TVT9DSU5HL1|                null| 212100|    2|\n",
      "+-------+----------+--------------------+-------+--------------+--------------------+-------+-----+\n",
      "only showing top 5 rows\n",
      "\n"
     ]
    }
   ],
   "source": [
    "all_reviews.show(5)"
   ]
  },
  {
   "cell_type": "code",
   "execution_count": 22,
   "metadata": {},
   "outputs": [],
   "source": [
    "all_reviews_ready = all_reviews.filter(F.col('item_id').isin(low_item) == False)"
   ]
  },
  {
   "cell_type": "code",
   "execution_count": 23,
   "metadata": {},
   "outputs": [
    {
     "name": "stdout",
     "output_type": "stream",
     "text": [
      "+-------+----+-----+-------+----------+-----+-------+-----+\n",
      "|item_id|asin|imUrl|overall|reviewerID|title|user_id|count|\n",
      "+-------+----+-----+-------+----------+-----+-------+-----+\n",
      "|   7872|7872| 7362|      5|      8565| 5294|   8565|  105|\n",
      "+-------+----+-----+-------+----------+-----+-------+-----+\n",
      "\n"
     ]
    }
   ],
   "source": [
    "# Seeing the unique count of users and items\n",
    "all_reviews_ready.agg(*(F.countDistinct(F.col(c)).alias(c) for c in all_reviews_ready.columns)).show()"
   ]
  },
  {
   "cell_type": "code",
   "execution_count": 24,
   "metadata": {},
   "outputs": [],
   "source": [
    "# Exporting to temporarily preserve\n",
    "all_reviews_ready.repartition(1).write.json(\"data/all_reviews\")"
   ]
  },
  {
   "cell_type": "markdown",
   "metadata": {},
   "source": [
    "### Case of the missing titles\n",
    "Even though I had limited my set to movies/tv that have metadata, I found that some of the metadata is missing the title for movies, which is a pretty important piece for my further development!  Since I do have the ASINs, I wrote a quick function to find those missing titles by querying Amazon and then returning the first only results title. My process was as follows:\n",
    "* Get the ASINs for data missing titles\n",
    "* Run function on those ASINs to return a title\n",
    "* Do some clean up of titles\n",
    "* Add titles back to original data and drop old listing\n",
    "* Export all_reviews again"
   ]
  },
  {
   "cell_type": "code",
   "execution_count": 25,
   "metadata": {},
   "outputs": [],
   "source": [
    "all_reviews = spark.read.json('data/all_reviews.json')"
   ]
  },
  {
   "cell_type": "code",
   "execution_count": 26,
   "metadata": {},
   "outputs": [],
   "source": [
    "# Getting the ASINS from products missing titles\n",
    "missing_titles = all_reviews.select(['asin','title']).toPandas()\n",
    "\n",
    "missing_asins = list(set(missing_titles.loc[missing_titles['title'].isna(), 'asin'].tolist()))"
   ]
  },
  {
   "cell_type": "code",
   "execution_count": 27,
   "metadata": {},
   "outputs": [
    {
     "name": "stdout",
     "output_type": "stream",
     "text": [
      " Records missing name: 2205\n"
     ]
    }
   ],
   "source": [
    "print(f\" Records missing name: {len(missing_asins)}\")"
   ]
  },
  {
   "cell_type": "code",
   "execution_count": 28,
   "metadata": {},
   "outputs": [],
   "source": [
    "# Using a function to scrape Amazon for the title - Takes a few hours to complete\n",
    "missing_title_info = get_missing_titles(missing_asins)"
   ]
  },
  {
   "cell_type": "code",
   "execution_count": 29,
   "metadata": {},
   "outputs": [],
   "source": [
    "# Drop these into a dataframe to inspect\n",
    "missing_df = pd.DataFrame(missing_title_info)"
   ]
  },
  {
   "cell_type": "code",
   "execution_count": 30,
   "metadata": {},
   "outputs": [
    {
     "data": {
      "text/html": [
       "<div>\n",
       "<style scoped>\n",
       "    .dataframe tbody tr th:only-of-type {\n",
       "        vertical-align: middle;\n",
       "    }\n",
       "\n",
       "    .dataframe tbody tr th {\n",
       "        vertical-align: top;\n",
       "    }\n",
       "\n",
       "    .dataframe thead th {\n",
       "        text-align: right;\n",
       "    }\n",
       "</style>\n",
       "<table border=\"1\" class=\"dataframe\">\n",
       "  <thead>\n",
       "    <tr style=\"text-align: right;\">\n",
       "      <th></th>\n",
       "      <th>asin</th>\n",
       "      <th>title</th>\n",
       "    </tr>\n",
       "  </thead>\n",
       "  <tbody>\n",
       "    <tr>\n",
       "      <th>0</th>\n",
       "      <td>B0055UA1KO</td>\n",
       "      <td>Beast Wars: Transformers - The Complete Series</td>\n",
       "    </tr>\n",
       "    <tr>\n",
       "      <th>1</th>\n",
       "      <td>B00G7QPXAI</td>\n",
       "      <td>Austenland</td>\n",
       "    </tr>\n",
       "    <tr>\n",
       "      <th>2</th>\n",
       "      <td>B006GHA9QQ</td>\n",
       "      <td>Andrew Lloyd Webber's Love Never Dies</td>\n",
       "    </tr>\n",
       "    <tr>\n",
       "      <th>3</th>\n",
       "      <td>B000UNYJVI</td>\n",
       "      <td>Welcome to the Jungle</td>\n",
       "    </tr>\n",
       "    <tr>\n",
       "      <th>4</th>\n",
       "      <td>B0034G4P94</td>\n",
       "      <td>Warrior</td>\n",
       "    </tr>\n",
       "  </tbody>\n",
       "</table>\n",
       "</div>"
      ],
      "text/plain": [
       "         asin                                           title\n",
       "0  B0055UA1KO  Beast Wars: Transformers - The Complete Series\n",
       "1  B00G7QPXAI                                      Austenland\n",
       "2  B006GHA9QQ           Andrew Lloyd Webber's Love Never Dies\n",
       "3  B000UNYJVI                           Welcome to the Jungle\n",
       "4  B0034G4P94                                         Warrior"
      ]
     },
     "execution_count": 30,
     "metadata": {},
     "output_type": "execute_result"
    }
   ],
   "source": [
    "missing_df.head()"
   ]
  },
  {
   "cell_type": "code",
   "execution_count": 31,
   "metadata": {},
   "outputs": [],
   "source": [
    "missing_df.to_csv('data/missing_titles.csv')"
   ]
  },
  {
   "cell_type": "code",
   "execution_count": 32,
   "metadata": {},
   "outputs": [],
   "source": [
    "missing_df = pd.read_csv('data/missing_titles.csv')"
   ]
  },
  {
   "cell_type": "code",
   "execution_count": 33,
   "metadata": {},
   "outputs": [],
   "source": [
    "# Still had some that returned no name, so ignoring for now and will drop from all reviews\n",
    "all_the_good = missing_df[missing_df['title'] != 'None found']"
   ]
  },
  {
   "cell_type": "code",
   "execution_count": 34,
   "metadata": {},
   "outputs": [
    {
     "data": {
      "text/html": [
       "<div>\n",
       "<style scoped>\n",
       "    .dataframe tbody tr th:only-of-type {\n",
       "        vertical-align: middle;\n",
       "    }\n",
       "\n",
       "    .dataframe tbody tr th {\n",
       "        vertical-align: top;\n",
       "    }\n",
       "\n",
       "    .dataframe thead th {\n",
       "        text-align: right;\n",
       "    }\n",
       "</style>\n",
       "<table border=\"1\" class=\"dataframe\">\n",
       "  <thead>\n",
       "    <tr style=\"text-align: right;\">\n",
       "      <th></th>\n",
       "      <th>Unnamed: 0</th>\n",
       "      <th>title</th>\n",
       "    </tr>\n",
       "    <tr>\n",
       "      <th>asin</th>\n",
       "      <th></th>\n",
       "      <th></th>\n",
       "    </tr>\n",
       "  </thead>\n",
       "  <tbody>\n",
       "    <tr>\n",
       "      <th>B0055UA1KO</th>\n",
       "      <td>0</td>\n",
       "      <td>Beast Wars: Transformers - The Complete Series</td>\n",
       "    </tr>\n",
       "    <tr>\n",
       "      <th>B00G7QPXAI</th>\n",
       "      <td>1</td>\n",
       "      <td>Austenland</td>\n",
       "    </tr>\n",
       "    <tr>\n",
       "      <th>B006GHA9QQ</th>\n",
       "      <td>2</td>\n",
       "      <td>Andrew Lloyd Webber's Love Never Dies</td>\n",
       "    </tr>\n",
       "    <tr>\n",
       "      <th>B000UNYJVI</th>\n",
       "      <td>3</td>\n",
       "      <td>Welcome to the Jungle</td>\n",
       "    </tr>\n",
       "    <tr>\n",
       "      <th>B0034G4P94</th>\n",
       "      <td>4</td>\n",
       "      <td>Warrior</td>\n",
       "    </tr>\n",
       "  </tbody>\n",
       "</table>\n",
       "</div>"
      ],
      "text/plain": [
       "            Unnamed: 0                                           title\n",
       "asin                                                                  \n",
       "B0055UA1KO           0  Beast Wars: Transformers - The Complete Series\n",
       "B00G7QPXAI           1                                      Austenland\n",
       "B006GHA9QQ           2           Andrew Lloyd Webber's Love Never Dies\n",
       "B000UNYJVI           3                           Welcome to the Jungle\n",
       "B0034G4P94           4                                         Warrior"
      ]
     },
     "execution_count": 34,
     "metadata": {},
     "output_type": "execute_result"
    }
   ],
   "source": [
    "#Setting ASIN as index to do replace with original set\n",
    "all_the_good.set_index('asin', inplace=True)\n",
    "missing_titles.set_index('asin', inplace=True)\n",
    "all_the_good.head()"
   ]
  },
  {
   "cell_type": "code",
   "execution_count": 35,
   "metadata": {},
   "outputs": [],
   "source": [
    "# Combining to replace missing titles\n",
    "missing_titles = missing_titles.combine_first(all_the_good)\n",
    "\n",
    "# Resetting the index and changing title column name \n",
    "missing_titles.reset_index(inplace=True)"
   ]
  },
  {
   "cell_type": "code",
   "execution_count": 36,
   "metadata": {},
   "outputs": [],
   "source": [
    "# Getting a list of all without a title still\n",
    "check_missing_asins = list(set(missing_df.loc[missing_titles['title'].isna(), 'asin'].tolist()))\n",
    "\n",
    "# Dropping rows with reviews that have no title from original dataframe\n",
    "all_reviews_less_missing_titles = all_reviews.filter(F.col('asin').isin(check_missing_asins)==False)\n",
    "\n",
    "# Dropping rows from my temporary dataframe with correct names\n",
    "fix_titles = missing_titles.drop(missing_titles[missing_titles['title'].isna()].index)"
   ]
  },
  {
   "cell_type": "code",
   "execution_count": 37,
   "metadata": {},
   "outputs": [],
   "source": [
    "# Some text cleanup on titles. There may be more later, but these are the initial examples I found:\n",
    "potential_regs = \"\"\"\\[VHS\\]|\\[DVD\\]|Collector\\'s Edition|\\: Season \\d+\n",
    "                    |\\: The Complete Series|\\: Complete Series|\\(.*\\)\"\"\"\n",
    "\n",
    "fix_titles['title'] = fix_titles['title']\\\n",
    "                         .apply(lambda x: re.sub(potential_regs, '', x))"
   ]
  },
  {
   "cell_type": "code",
   "execution_count": 38,
   "metadata": {},
   "outputs": [
    {
     "data": {
      "text/html": [
       "<div>\n",
       "<style scoped>\n",
       "    .dataframe tbody tr th:only-of-type {\n",
       "        vertical-align: middle;\n",
       "    }\n",
       "\n",
       "    .dataframe tbody tr th {\n",
       "        vertical-align: top;\n",
       "    }\n",
       "\n",
       "    .dataframe thead th {\n",
       "        text-align: right;\n",
       "    }\n",
       "</style>\n",
       "<table border=\"1\" class=\"dataframe\">\n",
       "  <thead>\n",
       "    <tr style=\"text-align: right;\">\n",
       "      <th></th>\n",
       "      <th>asin</th>\n",
       "      <th>title</th>\n",
       "    </tr>\n",
       "  </thead>\n",
       "  <tbody>\n",
       "    <tr>\n",
       "      <th>0</th>\n",
       "      <td>0005119367</td>\n",
       "      <td>Joseph</td>\n",
       "    </tr>\n",
       "    <tr>\n",
       "      <th>1</th>\n",
       "      <td>0005119367</td>\n",
       "      <td>Joseph</td>\n",
       "    </tr>\n",
       "    <tr>\n",
       "      <th>2</th>\n",
       "      <td>0005119367</td>\n",
       "      <td>Joseph</td>\n",
       "    </tr>\n",
       "    <tr>\n",
       "      <th>3</th>\n",
       "      <td>0005119367</td>\n",
       "      <td>Joseph</td>\n",
       "    </tr>\n",
       "    <tr>\n",
       "      <th>4</th>\n",
       "      <td>0307142469</td>\n",
       "      <td>Frosty the Snowman</td>\n",
       "    </tr>\n",
       "  </tbody>\n",
       "</table>\n",
       "</div>"
      ],
      "text/plain": [
       "         asin                title\n",
       "0  0005119367              Joseph \n",
       "1  0005119367              Joseph \n",
       "2  0005119367              Joseph \n",
       "3  0005119367              Joseph \n",
       "4  0307142469  Frosty the Snowman "
      ]
     },
     "execution_count": 38,
     "metadata": {},
     "output_type": "execute_result"
    }
   ],
   "source": [
    "fix_titles.drop('Unnamed: 0', axis=1, inplace=True)\n",
    "fix_titles.head()"
   ]
  },
  {
   "cell_type": "code",
   "execution_count": 39,
   "metadata": {},
   "outputs": [],
   "source": [
    "# Create Spark dataframe from dataframe with corrected titles\n",
    "fixed_titles_spark = spark.createDataFrame(fix_titles)"
   ]
  },
  {
   "cell_type": "code",
   "execution_count": 42,
   "metadata": {},
   "outputs": [],
   "source": [
    "# Combining & exporting\n",
    "all_reviews_no_title = all_reviews_less_missing_titles.select(['asin',\n",
    "                                                               'count',\n",
    "                                                               'imUrl',\n",
    "                                                               'item_id',\n",
    "                                                               'overall',\n",
    "                                                               'reviewerID',\n",
    "                                                               'user_id'])\n",
    "\n",
    "all_reviews_with_fixed_titles = all_reviews_no_title.join(fixed_titles_spark,\n",
    "                                                                     on='asin',\n",
    "                                                                     how='left').dropDuplicates()"
   ]
  },
  {
   "cell_type": "code",
   "execution_count": 43,
   "metadata": {},
   "outputs": [
    {
     "name": "stdout",
     "output_type": "stream",
     "text": [
      "+----------+-----+--------------------+-------+-------+--------------+-------+--------------------+\n",
      "|      asin|count|               imUrl|item_id|overall|    reviewerID|user_id|               title|\n",
      "+----------+-----+--------------------+-------+-------+--------------+-------+--------------------+\n",
      "|0345507460|   57|http://ecx.images...|   1022|    5.0| ACO26JQ366659| 170700|The Dresden Files...|\n",
      "|0345507460|   57|http://ecx.images...|   1022|    5.0|A34C35QFA4DC5J| 399200|The Dresden Files...|\n",
      "|0345507460|   57|http://ecx.images...|   1022|    5.0|A3TII4RKU0ZVT4| 440000|The Dresden Files...|\n",
      "|0345507460|   57|http://ecx.images...|   1022|    5.0|A1LR4Z5Z0MPYIF| 578400|The Dresden Files...|\n",
      "|0345507460|   57|http://ecx.images...|   1022|    5.0|A16L43DIFSHGMQ| 542700|The Dresden Files...|\n",
      "|0345507460|   57|http://ecx.images...|   1022|    5.0| ANRS196NKFVUU|  81300|The Dresden Files...|\n",
      "|0345507460|   57|http://ecx.images...|   1022|    1.0|A30BEBBQ3UYI7O| 446000|The Dresden Files...|\n",
      "|0345507460|   57|http://ecx.images...|   1022|    5.0|A1UI62FWXYH1T5| 590300|The Dresden Files...|\n",
      "|0345507460|   57|http://ecx.images...|   1022|    5.0|A20J9MBDENFXMU| 623800|The Dresden Files...|\n",
      "|0345507460|   57|http://ecx.images...|   1022|    4.0|A18XZ92NCH14QZ| 180300|The Dresden Files...|\n",
      "+----------+-----+--------------------+-------+-------+--------------+-------+--------------------+\n",
      "only showing top 10 rows\n",
      "\n"
     ]
    }
   ],
   "source": [
    "all_reviews_with_fixed_titles.show(10)"
   ]
  },
  {
   "cell_type": "code",
   "execution_count": 44,
   "metadata": {},
   "outputs": [],
   "source": [
    "all_reviews_with_fixed_titles.repartition(1).write.json('data/all_reviews_fixed_titles')"
   ]
  },
  {
   "cell_type": "markdown",
   "metadata": {},
   "source": [
    "### Modeling and testing"
   ]
  },
  {
   "cell_type": "code",
   "execution_count": 45,
   "metadata": {},
   "outputs": [],
   "source": [
    "all_reviews  = spark.read.json('data/all_reviews_fixed_titles.json')"
   ]
  },
  {
   "cell_type": "code",
   "execution_count": 49,
   "metadata": {},
   "outputs": [],
   "source": [
    "als_ready = all_reviews.select([F.col(\"user_id\").cast(IntegerType()),\n",
    "                                  F.col(\"item_id\").cast(IntegerType()),\n",
    "                                  F.col(\"overall\"), F.col(\"title\"), F.col(\"imUrl\")])"
   ]
  },
  {
   "cell_type": "code",
   "execution_count": 50,
   "metadata": {},
   "outputs": [],
   "source": [
    "(train, test) = als_ready.randomSplit([.8,.2])"
   ]
  },
  {
   "cell_type": "code",
   "execution_count": 51,
   "metadata": {},
   "outputs": [],
   "source": [
    "# Build the recommendation model using ALS\n",
    "als = ALS(rank=50, regParam=.1, maxIter=20,\n",
    "          userCol='user_id', itemCol='item_id', \n",
    "          ratingCol='overall', nonnegative=True)\n",
    "\n",
    "als_model = als.fit(train)"
   ]
  },
  {
   "cell_type": "code",
   "execution_count": 52,
   "metadata": {},
   "outputs": [
    {
     "name": "stdout",
     "output_type": "stream",
     "text": [
      "Test RMSE: 1.1770851592752343\n",
      "Test MAE: 0.9311017282244214\n"
     ]
    }
   ],
   "source": [
    "test_pred_df = als_model.transform(test).toPandas()\n",
    "\n",
    "# Filling in NaN values with average score for metric review\n",
    "test_pred_df['prediction'].fillna(4, inplace=True)\n",
    "test_pred = spark.createDataFrame(test_pred_df)\n",
    "\n",
    "# Get RMSE & MAE for model\n",
    "evaluator = RegressionEvaluator(metricName=\"rmse\", labelCol=\"overall\",\n",
    "                                predictionCol=\"prediction\")\n",
    "\n",
    "evaluator_2 = RegressionEvaluator(metricName=\"mae\", labelCol=\"overall\",\n",
    "                                predictionCol=\"prediction\")\n",
    "\n",
    "rmse_test = evaluator.evaluate(test_pred)\n",
    "mae_test = evaluator_2.evaluate(test_pred)\n",
    "print(f\"Test RMSE: {rmse_test}\")\n",
    "print(f\"Test MAE: {mae_test}\")"
   ]
  },
  {
   "cell_type": "markdown",
   "metadata": {},
   "source": [
    "### Parameter tuning for optimization\n",
    "I kept running into errors with my parameter grid to cross validate below, so ran several tests as well varying parameters and landed on my best model using the configuration found in the above model test.  Below is an example of the parameters this was based on."
   ]
  },
  {
   "cell_type": "code",
   "execution_count": null,
   "metadata": {},
   "outputs": [],
   "source": [
    "als = ALS(userCol='user_id', itemCol='item_id', ratingCol='overall', nonnegative=True)\n",
    "\n",
    "reg_test = RegressionEvaluator(predictionCol='prediction', labelCol='overall')\n",
    "\n",
    "# Parameter grid              \n",
    "params = ParamGridBuilder().addGrid(als.regParam, [0.01,0.001,0.1])\\\n",
    "                           .addGrid(als.rank, [4,10,50])\\\n",
    "                           .addGrid(als.maxIter, [5,10,15,20]).build()\n",
    "             \n",
    "## Calling and checking evaluator\n",
    "cv = CrossValidator(estimator=als, estimatorParamMaps=params,evaluator=reg_test,parallelism=4)\n",
    "best_model = cv.fit(train)"
   ]
  },
  {
   "cell_type": "markdown",
   "metadata": {},
   "source": [
    "### Returning recommendations\n",
    "To get recommendations for new users, I first need to get the item features from my ALS model, save them with titles, and then can use that file to create and build recommendations.\n",
    "Below is an example of the two functions created to perform the recommendation operation, just on the Notebook level:\n",
    "* ```get_user_reviews_testing```: gives an individual a selection of movies to choose from, once they have rated at least 10, it creates and returns a dataframe with their scores.\n",
    "* ```get_recommedations```: returns the top 10 comic books recommended to the user based on their input.\n",
    "\n",
    "These functions will be used as the basis for creating a functional web application for users to explore."
   ]
  },
  {
   "cell_type": "code",
   "execution_count": 49,
   "metadata": {},
   "outputs": [],
   "source": [
    "# Build the recommendation model using ALS\n",
    "als = ALS(rank=50, regParam=.1, maxIter=20,\n",
    "          userCol='user_id', itemCol='item_id', \n",
    "          ratingCol='overall', nonnegative=True)\n",
    "\n",
    "als_model = als.fit(als_ready)"
   ]
  },
  {
   "cell_type": "code",
   "execution_count": 50,
   "metadata": {},
   "outputs": [],
   "source": [
    "# Get item factors from model\n",
    "item_factors = als_model.itemFactors.toPandas()\n",
    "item_factors.rename(columns={'id': 'item_id'}, inplace=True)\n",
    "item_factors['item_id'] = item_factors['item_id'].astype(str)"
   ]
  },
  {
   "cell_type": "code",
   "execution_count": 51,
   "metadata": {},
   "outputs": [],
   "source": [
    "# Get titles from original dataset\n",
    "item_titles = all_reviews.select(['item_id', 'title', 'count', 'asin']).distinct().toPandas()\n",
    "item_titles['item_id'] = item_titles['item_id'].astype(str)"
   ]
  },
  {
   "cell_type": "code",
   "execution_count": 52,
   "metadata": {},
   "outputs": [],
   "source": [
    "# Merge into one dataframe & making the ids string for exploration later\n",
    "item_details = item_factors.merge(item_titles, on='item_id', how='left')"
   ]
  },
  {
   "cell_type": "code",
   "execution_count": null,
   "metadata": {},
   "outputs": [],
   "source": [
    "# Exporting to preserve item factor details\n",
    "item_details.to_json('data/als_item_factor_details.json')"
   ]
  },
  {
   "cell_type": "code",
   "execution_count": 53,
   "metadata": {},
   "outputs": [],
   "source": [
    "item_df = pd.read_json('data/als_item_factor_details.json')"
   ]
  },
  {
   "cell_type": "code",
   "execution_count": 54,
   "metadata": {},
   "outputs": [],
   "source": [
    "user_test = get_user_reviews_testing(item_df)"
   ]
  },
  {
   "cell_type": "code",
   "execution_count": 55,
   "metadata": {},
   "outputs": [
    {
     "data": {
      "text/html": [
       "<div>\n",
       "<style scoped>\n",
       "    .dataframe tbody tr th:only-of-type {\n",
       "        vertical-align: middle;\n",
       "    }\n",
       "\n",
       "    .dataframe tbody tr th {\n",
       "        vertical-align: top;\n",
       "    }\n",
       "\n",
       "    .dataframe thead th {\n",
       "        text-align: right;\n",
       "    }\n",
       "</style>\n",
       "<table border=\"1\" class=\"dataframe\">\n",
       "  <thead>\n",
       "    <tr style=\"text-align: right;\">\n",
       "      <th></th>\n",
       "      <th>item_id</th>\n",
       "      <th>rating</th>\n",
       "    </tr>\n",
       "  </thead>\n",
       "  <tbody>\n",
       "    <tr>\n",
       "      <th>0</th>\n",
       "      <td>715744</td>\n",
       "      <td>4</td>\n",
       "    </tr>\n",
       "    <tr>\n",
       "      <th>1</th>\n",
       "      <td>110544</td>\n",
       "      <td>2</td>\n",
       "    </tr>\n",
       "    <tr>\n",
       "      <th>2</th>\n",
       "      <td>2732444</td>\n",
       "      <td>3</td>\n",
       "    </tr>\n",
       "    <tr>\n",
       "      <th>3</th>\n",
       "      <td>2544244</td>\n",
       "      <td>4</td>\n",
       "    </tr>\n",
       "    <tr>\n",
       "      <th>4</th>\n",
       "      <td>1584644</td>\n",
       "      <td>1</td>\n",
       "    </tr>\n",
       "  </tbody>\n",
       "</table>\n",
       "</div>"
      ],
      "text/plain": [
       "   item_id  rating\n",
       "0   715744       4\n",
       "1   110544       2\n",
       "2  2732444       3\n",
       "3  2544244       4\n",
       "4  1584644       1"
      ]
     },
     "execution_count": 55,
     "metadata": {},
     "output_type": "execute_result"
    }
   ],
   "source": [
    "user_test.head()"
   ]
  },
  {
   "cell_type": "code",
   "execution_count": 57,
   "metadata": {},
   "outputs": [],
   "source": [
    "recs = get_recommendations(item_factors_df=item_df, new_user_df=user_test)"
   ]
  },
  {
   "cell_type": "code",
   "execution_count": 58,
   "metadata": {},
   "outputs": [
    {
     "data": {
      "text/html": [
       "<div>\n",
       "<style scoped>\n",
       "    .dataframe tbody tr th:only-of-type {\n",
       "        vertical-align: middle;\n",
       "    }\n",
       "\n",
       "    .dataframe tbody tr th {\n",
       "        vertical-align: top;\n",
       "    }\n",
       "\n",
       "    .dataframe thead th {\n",
       "        text-align: right;\n",
       "    }\n",
       "</style>\n",
       "<table border=\"1\" class=\"dataframe\">\n",
       "  <thead>\n",
       "    <tr style=\"text-align: right;\">\n",
       "      <th></th>\n",
       "      <th>item_id</th>\n",
       "      <th>title</th>\n",
       "      <th>asin</th>\n",
       "      <th>new_user_predictions</th>\n",
       "    </tr>\n",
       "  </thead>\n",
       "  <tbody>\n",
       "    <tr>\n",
       "      <th>624</th>\n",
       "      <td>263422</td>\n",
       "      <td>Roots of the Swamp Thing</td>\n",
       "      <td>1401222366</td>\n",
       "      <td>4.117454</td>\n",
       "    </tr>\n",
       "    <tr>\n",
       "      <th>1256</th>\n",
       "      <td>524022</td>\n",
       "      <td>Marvel Masterworks: The Sub-Mariner, Vol. 1</td>\n",
       "      <td>0785108750</td>\n",
       "      <td>4.042103</td>\n",
       "    </tr>\n",
       "    <tr>\n",
       "      <th>173</th>\n",
       "      <td>74722</td>\n",
       "      <td>Spider-Man: Death of the Stacys</td>\n",
       "      <td>0785125043</td>\n",
       "      <td>3.972947</td>\n",
       "    </tr>\n",
       "    <tr>\n",
       "      <th>1278</th>\n",
       "      <td>533422</td>\n",
       "      <td>Unwritten Vol. 1: Tommy Taylor and the Bogus I...</td>\n",
       "      <td>1401225659</td>\n",
       "      <td>3.941805</td>\n",
       "    </tr>\n",
       "    <tr>\n",
       "      <th>798</th>\n",
       "      <td>336622</td>\n",
       "      <td>Batman: Arkham Asylum  A Serious House on Seri...</td>\n",
       "      <td>1401204244</td>\n",
       "      <td>3.886486</td>\n",
       "    </tr>\n",
       "  </tbody>\n",
       "</table>\n",
       "</div>"
      ],
      "text/plain": [
       "      item_id                                              title        asin  \\\n",
       "624    263422                          Roots of the Swamp Thing   1401222366   \n",
       "1256   524022        Marvel Masterworks: The Sub-Mariner, Vol. 1  0785108750   \n",
       "173     74722                   Spider-Man: Death of the Stacys   0785125043   \n",
       "1278   533422  Unwritten Vol. 1: Tommy Taylor and the Bogus I...  1401225659   \n",
       "798    336622  Batman: Arkham Asylum  A Serious House on Seri...  1401204244   \n",
       "\n",
       "      new_user_predictions  \n",
       "624               4.117454  \n",
       "1256              4.042103  \n",
       "173               3.972947  \n",
       "1278              3.941805  \n",
       "798               3.886486  "
      ]
     },
     "execution_count": 58,
     "metadata": {},
     "output_type": "execute_result"
    }
   ],
   "source": [
    "recs"
   ]
  },
  {
   "cell_type": "markdown",
   "metadata": {},
   "source": [
    "Looking good! This finishes my data prep and modeling phase."
   ]
  },
  {
   "cell_type": "markdown",
   "metadata": {},
   "source": [
    "### Understanding how to fold a new user into the model\n",
    "Below is a walkthrough of getting recommendations for a user by using the existing item features and the ratings from the new user. "
   ]
  },
  {
   "cell_type": "code",
   "execution_count": 59,
   "metadata": {},
   "outputs": [],
   "source": [
    "# Getting item features from the model and setting the index to the item_id\n",
    "item_factors = als_model.itemFactors.toPandas()\n",
    "item_factors.index = item_factors['id']\n",
    "item_factors['id'] = item_factors['id'].astype(str)"
   ]
  },
  {
   "cell_type": "code",
   "execution_count": 60,
   "metadata": {},
   "outputs": [
    {
     "data": {
      "text/html": [
       "<div>\n",
       "<style scoped>\n",
       "    .dataframe tbody tr th:only-of-type {\n",
       "        vertical-align: middle;\n",
       "    }\n",
       "\n",
       "    .dataframe tbody tr th {\n",
       "        vertical-align: top;\n",
       "    }\n",
       "\n",
       "    .dataframe thead th {\n",
       "        text-align: right;\n",
       "    }\n",
       "</style>\n",
       "<table border=\"1\" class=\"dataframe\">\n",
       "  <thead>\n",
       "    <tr style=\"text-align: right;\">\n",
       "      <th></th>\n",
       "      <th>id</th>\n",
       "      <th>features</th>\n",
       "    </tr>\n",
       "    <tr>\n",
       "      <th>id</th>\n",
       "      <th></th>\n",
       "      <th></th>\n",
       "    </tr>\n",
       "  </thead>\n",
       "  <tbody>\n",
       "    <tr>\n",
       "      <th>244</th>\n",
       "      <td>244</td>\n",
       "      <td>[0.3117918372154236, 0.3253779411315918, 0.140...</td>\n",
       "    </tr>\n",
       "    <tr>\n",
       "      <th>1844</th>\n",
       "      <td>1844</td>\n",
       "      <td>[0.1884763538837433, 0.4734590947628021, 0.523...</td>\n",
       "    </tr>\n",
       "    <tr>\n",
       "      <th>3344</th>\n",
       "      <td>3344</td>\n",
       "      <td>[0.0886940136551857, 0.354856938123703, 0.3612...</td>\n",
       "    </tr>\n",
       "    <tr>\n",
       "      <th>3744</th>\n",
       "      <td>3744</td>\n",
       "      <td>[0.0, 0.18895338475704193, 0.4126276671886444,...</td>\n",
       "    </tr>\n",
       "    <tr>\n",
       "      <th>3844</th>\n",
       "      <td>3844</td>\n",
       "      <td>[0.3835531771183014, 0.5762662291526794, 0.316...</td>\n",
       "    </tr>\n",
       "  </tbody>\n",
       "</table>\n",
       "</div>"
      ],
      "text/plain": [
       "        id                                           features\n",
       "id                                                           \n",
       "244    244  [0.3117918372154236, 0.3253779411315918, 0.140...\n",
       "1844  1844  [0.1884763538837433, 0.4734590947628021, 0.523...\n",
       "3344  3344  [0.0886940136551857, 0.354856938123703, 0.3612...\n",
       "3744  3744  [0.0, 0.18895338475704193, 0.4126276671886444,...\n",
       "3844  3844  [0.3835531771183014, 0.5762662291526794, 0.316..."
      ]
     },
     "execution_count": 60,
     "metadata": {},
     "output_type": "execute_result"
    }
   ],
   "source": [
    "# Looking for some movies to rate, all movies id ends in 44\n",
    "item_factors.loc[item_factors['id'].str.endswith('44')].head()"
   ]
  },
  {
   "cell_type": "code",
   "execution_count": 61,
   "metadata": {},
   "outputs": [
    {
     "data": {
      "text/html": [
       "<div>\n",
       "<style scoped>\n",
       "    .dataframe tbody tr th:only-of-type {\n",
       "        vertical-align: middle;\n",
       "    }\n",
       "\n",
       "    .dataframe tbody tr th {\n",
       "        vertical-align: top;\n",
       "    }\n",
       "\n",
       "    .dataframe thead th {\n",
       "        text-align: right;\n",
       "    }\n",
       "</style>\n",
       "<table border=\"1\" class=\"dataframe\">\n",
       "  <thead>\n",
       "    <tr style=\"text-align: right;\">\n",
       "      <th></th>\n",
       "      <th>id</th>\n",
       "      <th>rating</th>\n",
       "    </tr>\n",
       "  </thead>\n",
       "  <tbody>\n",
       "    <tr>\n",
       "      <th>0</th>\n",
       "      <td>244</td>\n",
       "      <td>4</td>\n",
       "    </tr>\n",
       "    <tr>\n",
       "      <th>1</th>\n",
       "      <td>1844</td>\n",
       "      <td>3</td>\n",
       "    </tr>\n",
       "    <tr>\n",
       "      <th>2</th>\n",
       "      <td>3344</td>\n",
       "      <td>3</td>\n",
       "    </tr>\n",
       "    <tr>\n",
       "      <th>3</th>\n",
       "      <td>3744</td>\n",
       "      <td>3</td>\n",
       "    </tr>\n",
       "  </tbody>\n",
       "</table>\n",
       "</div>"
      ],
      "text/plain": [
       "     id  rating\n",
       "0   244       4\n",
       "1  1844       3\n",
       "2  3344       3\n",
       "3  3744       3"
      ]
     },
     "execution_count": 61,
     "metadata": {},
     "output_type": "execute_result"
    }
   ],
   "source": [
    "# Creating a random user with a set of ratings\n",
    "user = [{'id':244, 'rating':4},{'id': 1844, 'rating': 3}, {'id': 3344, 'rating': 3}, {'id': 3744, 'rating': 3}]\n",
    "user_df = pd.DataFrame(user)\n",
    "user_df"
   ]
  },
  {
   "cell_type": "code",
   "execution_count": 62,
   "metadata": {},
   "outputs": [],
   "source": [
    "# Create lists of each column to calculate user matrix\n",
    "item_ids = user_df.id.tolist()\n",
    "user_rating = user_df.rating.tolist()"
   ]
  },
  {
   "cell_type": "code",
   "execution_count": 63,
   "metadata": {},
   "outputs": [],
   "source": [
    "# User ratings \n",
    "all_ratings_array = np.array((user_rating,)).T\n",
    "\n",
    "# Get item features for these specific movies\n",
    "all_items_array = np.zeros(shape=(len(item_ids), 50))\n",
    "\n",
    "for index, item in enumerate(item_ids):\n",
    "    all_items_array[index, :] = np.array(item_factors.loc[item, 'features'])"
   ]
  },
  {
   "cell_type": "code",
   "execution_count": 64,
   "metadata": {},
   "outputs": [
    {
     "data": {
      "text/plain": [
       "((4, 1), (4, 50))"
      ]
     },
     "execution_count": 64,
     "metadata": {},
     "output_type": "execute_result"
    }
   ],
   "source": [
    "# Checking the shape of each to make sure things are looking right\n",
    "all_ratings_array.shape, all_items_array.shape"
   ]
  },
  {
   "cell_type": "code",
   "execution_count": 65,
   "metadata": {},
   "outputs": [
    {
     "data": {
      "text/plain": [
       "(50,)"
      ]
     },
     "execution_count": 65,
     "metadata": {},
     "output_type": "execute_result"
    }
   ],
   "source": [
    "# Least squares solution to get user features\n",
    "new_user_matrix = np.linalg.lstsq(all_items_array, all_ratings_array, rcond=None)\n",
    "\n",
    "# New users matrix!\n",
    "new_user_matrix = new_user_matrix[0].reshape((50,))\n",
    "new_user_matrix.shape"
   ]
  },
  {
   "cell_type": "code",
   "execution_count": 66,
   "metadata": {},
   "outputs": [
    {
     "data": {
      "text/plain": [
       "4.000000000000001"
      ]
     },
     "execution_count": 66,
     "metadata": {},
     "output_type": "execute_result"
    }
   ],
   "source": [
    "# Checking based on known score\n",
    "known_item = np.array(item_factors.loc[244,'features'])\n",
    "\n",
    "score = np.dot(new_user_matrix, known_item)\n",
    "score"
   ]
  },
  {
   "cell_type": "markdown",
   "metadata": {},
   "source": [
    "Nice! Now I am going to user that factor dataframe to create predictions for this user"
   ]
  },
  {
   "cell_type": "code",
   "execution_count": 67,
   "metadata": {},
   "outputs": [],
   "source": [
    "item_factors['new_user_predictions'] = item_factors['features'].apply(lambda x: np.dot(x, new_user_matrix))"
   ]
  },
  {
   "cell_type": "code",
   "execution_count": 68,
   "metadata": {},
   "outputs": [],
   "source": [
    "top_five_comics = item_factors.loc[item_factors['id']\\\n",
    "                              .str.endswith('22'), 'new_user_predictions']\\\n",
    "                              .sort_values(ascending=False)[:5]"
   ]
  },
  {
   "cell_type": "code",
   "execution_count": 69,
   "metadata": {},
   "outputs": [
    {
     "data": {
      "text/plain": [
       "id\n",
       "217822    4.390951\n",
       "261622    4.166066\n",
       "404822    4.159146\n",
       "330822    4.155326\n",
       "500622    4.112653\n",
       "Name: new_user_predictions, dtype: float64"
      ]
     },
     "execution_count": 69,
     "metadata": {},
     "output_type": "execute_result"
    }
   ],
   "source": [
    "top_five_comics"
   ]
  },
  {
   "cell_type": "markdown",
   "metadata": {},
   "source": [
    "Perfect! I can now functionize this principle and apply to getting speedy recommendations for my new users."
   ]
  }
 ],
 "metadata": {
  "kernelspec": {
   "display_name": "Python 3",
   "language": "python",
   "name": "python3"
  },
  "language_info": {
   "codemirror_mode": {
    "name": "ipython",
    "version": 3
   },
   "file_extension": ".py",
   "mimetype": "text/x-python",
   "name": "python",
   "nbconvert_exporter": "python",
   "pygments_lexer": "ipython3",
   "version": "3.6.6"
  }
 },
 "nbformat": 4,
 "nbformat_minor": 2
}
